{
 "cells": [
  {
   "cell_type": "markdown",
   "id": "4bbedddf",
   "metadata": {},
   "source": [
    "# 준비"
   ]
  },
  {
   "cell_type": "markdown",
   "id": "98b75431",
   "metadata": {},
   "source": [
    "## 라이브러리 호출"
   ]
  },
  {
   "cell_type": "code",
   "execution_count": 1,
   "id": "10bd5b6a",
   "metadata": {
    "ExecuteTime": {
     "end_time": "2022-07-16T05:43:24.471771Z",
     "start_time": "2022-07-16T05:43:21.169550Z"
    }
   },
   "outputs": [],
   "source": [
    "import tensorflow as tf\n",
    "from tensorflow.keras.preprocessing import image_dataset_from_directory\n",
    "from tensorflow.keras import callbacks, layers, models, optimizers, losses, applications\n",
    "from tensorflow.keras.layers.experimental import preprocessing"
   ]
  },
  {
   "cell_type": "markdown",
   "id": "627413c4",
   "metadata": {},
   "source": [
    "## 데이터 셋 로드"
   ]
  },
  {
   "cell_type": "code",
   "execution_count": 2,
   "id": "a819c12b",
   "metadata": {
    "ExecuteTime": {
     "end_time": "2022-07-16T05:43:24.487557Z",
     "start_time": "2022-07-16T05:43:24.471771Z"
    }
   },
   "outputs": [],
   "source": [
    "batch_size = 32\n",
    "IMG_SIZE = 224"
   ]
  },
  {
   "cell_type": "code",
   "execution_count": 3,
   "id": "353871ca",
   "metadata": {
    "ExecuteTime": {
     "end_time": "2022-07-16T05:43:28.346533Z",
     "start_time": "2022-07-16T05:43:24.973279Z"
    }
   },
   "outputs": [
    {
     "name": "stdout",
     "output_type": "stream",
     "text": [
      "Found 12396 files belonging to 84 classes.\n",
      "Using 10537 files for training.\n",
      "Found 12396 files belonging to 84 classes.\n",
      "Using 1859 files for validation.\n",
      "Found 1504 files belonging to 84 classes.\n"
     ]
    }
   ],
   "source": [
    "train_ds = image_dataset_from_directory(\"D:/Dataset/랜드마크 이미지/Training\",\n",
    "                                        validation_split=0.15,\n",
    "                                        subset=\"training\",\n",
    "                                        seed=123,\n",
    "                                        image_size=(IMG_SIZE, IMG_SIZE),\n",
    "                                        batch_size=batch_size)\n",
    "\n",
    "valid_ds = image_dataset_from_directory(\"D:/Dataset/랜드마크 이미지/Training\",\n",
    "                                        validation_split=0.15,\n",
    "                                        subset=\"validation\",\n",
    "                                        seed=123,\n",
    "                                        image_size=(IMG_SIZE, IMG_SIZE),\n",
    "                                        batch_size=batch_size)\n",
    "\n",
    "test_ds = image_dataset_from_directory(\"D:/Dataset/랜드마크 이미지/Validation\",\n",
    "                                        image_size=(IMG_SIZE, IMG_SIZE),\n",
    "                                        batch_size=batch_size)"
   ]
  },
  {
   "cell_type": "code",
   "execution_count": 4,
   "id": "39107b05",
   "metadata": {
    "ExecuteTime": {
     "end_time": "2022-07-16T05:43:28.362577Z",
     "start_time": "2022-07-16T05:43:28.347574Z"
    }
   },
   "outputs": [
    {
     "name": "stdout",
     "output_type": "stream",
     "text": [
      "['6.25격전지개미고개', 'BRT작은미술관', '가락마을20단지호반베르디움5차아파트', '가락마을3단지호반베르디움4차아파트', '가온마을1단지힐스테이트세종2차', '가재마을세종호반베르디움2단지아파트', '고운뜰전망대', '국립세종도서관', '국립세종수목원', '국립조세박물관', '금강수목원', '금강수변공원', '금강자연휴양림', '금남남산영당', '금남모인당', '금남문절사', '김종서장군묘소', '나성독락정', '덕성서원', '덕천군사우', '도램마을10단지호반베르디움어반시티아파트', '도램마을15단지힐스테이트아파트', '밀양박씨오충정려', '박산리작약골쌍탑제', '범지기마을10단지푸르지오아파트', '범지기마을7단지호반베르디움에코시티아파트', '범지기마을8단지푸르지오아파트', '베어트리파크', '병산사', '부강성당', '부강초등학교강당', '비암사', '새뜸1단지메이저시티푸르지오', '새뜸마을10단지더샵힐스테이트아파트', '새뜸마을11단지더샵힐스테이트아파트', '새뜸마을14단지더샵힐스테이트아파트', '새뜸마을5단지아이파크메이저아파트', '새뜸마을6단지힐스테이트메이저아파트', '성요한성당', '세종e편한세상푸르지오아파트', '세종고속시외버스터미널', '세종대곡리삼층석탑', '세종시립민속박물관', '세종전통장류박물관', '세종특별자치시마을기록문화관', '세종행복도시홍보관', '세종호수공원', '세종힐스테이트3차', '수루배마을4단지더샵예미지', '수루배마을6단지세종더샵예미지', '연기대첩비공원', '연기봉산동의향나무', '연기향교', '연기향토박물관', '연동송용리마애여래입상', '연화사', '영평사', '은하수공원', '자성사', '전의비암사극락보전', '전의비암사삼층석탑', '전의향교', '조천연꽃공원', '조치원문화정원', '조치원봉산영당', '조치원신흥e편한세상아파트', '조치원신흥푸르지오아파트', '조치원역경부선', '조치원자이아파트', '조치원죽림푸르지오아파트', '천주교대전교구세종성프란치스코성당', '첫마을4단지푸르지오아파트', '첫마을5단지푸르지오아파트', '첫마을6단지힐스테이트아파트', '첫마을7단지삼성래미안아파트', '초려역사공원', '충청남도산림박물관', '한뜰마을1단지상록데시앙아파트', '한뜰마을2단지더샵센트럴시티아파트', '한뜰마을3단지더샵레이크파크아파트', '해들마을6단지e편한세상세종리버파크', '황룡사', '힐스테이트세종리버파크7단지', '힐스테이트세종리버파크8단지'] 84\n"
     ]
    }
   ],
   "source": [
    "class_names = train_ds.class_names\n",
    "NUM_CLASSES = len(class_names)\n",
    "print(class_names, NUM_CLASSES)"
   ]
  },
  {
   "cell_type": "markdown",
   "id": "acc510d5",
   "metadata": {
    "ExecuteTime": {
     "end_time": "2022-07-13T06:37:05.857746Z",
     "start_time": "2022-07-13T06:37:05.846731Z"
    }
   },
   "source": [
    "## 데이터셋 시각화"
   ]
  },
  {
   "cell_type": "code",
   "execution_count": 5,
   "id": "445eb921",
   "metadata": {
    "ExecuteTime": {
     "end_time": "2022-07-16T05:43:28.504089Z",
     "start_time": "2022-07-16T05:43:28.363577Z"
    }
   },
   "outputs": [
    {
     "ename": "NameError",
     "evalue": "name 'plt' is not defined",
     "output_type": "error",
     "traceback": [
      "\u001b[1;31m---------------------------------------------------------------------------\u001b[0m",
      "\u001b[1;31mNameError\u001b[0m                                 Traceback (most recent call last)",
      "\u001b[1;32m~\\AppData\\Local\\Temp\\ipykernel_13256\\3433309007.py\u001b[0m in \u001b[0;36m<module>\u001b[1;34m\u001b[0m\n\u001b[1;32m----> 1\u001b[1;33m \u001b[0mplt\u001b[0m\u001b[1;33m.\u001b[0m\u001b[0mfigure\u001b[0m\u001b[1;33m(\u001b[0m\u001b[0mfigsize\u001b[0m\u001b[1;33m=\u001b[0m\u001b[1;33m(\u001b[0m\u001b[1;36m10\u001b[0m\u001b[1;33m,\u001b[0m \u001b[1;36m10\u001b[0m\u001b[1;33m)\u001b[0m\u001b[1;33m)\u001b[0m\u001b[1;33m\u001b[0m\u001b[1;33m\u001b[0m\u001b[0m\n\u001b[0m\u001b[0;32m      2\u001b[0m \u001b[1;32mfor\u001b[0m \u001b[0mimages\u001b[0m\u001b[1;33m,\u001b[0m \u001b[0mlabels\u001b[0m \u001b[1;32min\u001b[0m \u001b[0mtrain_ds\u001b[0m\u001b[1;33m.\u001b[0m\u001b[0mtake\u001b[0m\u001b[1;33m(\u001b[0m\u001b[1;36m1\u001b[0m\u001b[1;33m)\u001b[0m\u001b[1;33m:\u001b[0m\u001b[1;33m\u001b[0m\u001b[1;33m\u001b[0m\u001b[0m\n\u001b[0;32m      3\u001b[0m     \u001b[1;32mfor\u001b[0m \u001b[0mi\u001b[0m \u001b[1;32min\u001b[0m \u001b[0mrange\u001b[0m\u001b[1;33m(\u001b[0m\u001b[1;36m9\u001b[0m\u001b[1;33m)\u001b[0m\u001b[1;33m:\u001b[0m\u001b[1;33m\u001b[0m\u001b[1;33m\u001b[0m\u001b[0m\n\u001b[0;32m      4\u001b[0m         \u001b[0max\u001b[0m \u001b[1;33m=\u001b[0m \u001b[0mplt\u001b[0m\u001b[1;33m.\u001b[0m\u001b[0msubplot\u001b[0m\u001b[1;33m(\u001b[0m\u001b[1;36m3\u001b[0m\u001b[1;33m,\u001b[0m \u001b[1;36m3\u001b[0m\u001b[1;33m,\u001b[0m \u001b[0mi\u001b[0m \u001b[1;33m+\u001b[0m \u001b[1;36m1\u001b[0m\u001b[1;33m)\u001b[0m\u001b[1;33m\u001b[0m\u001b[1;33m\u001b[0m\u001b[0m\n\u001b[0;32m      5\u001b[0m         \u001b[0mplt\u001b[0m\u001b[1;33m.\u001b[0m\u001b[0mimshow\u001b[0m\u001b[1;33m(\u001b[0m\u001b[0mimages\u001b[0m\u001b[1;33m[\u001b[0m\u001b[0mi\u001b[0m\u001b[1;33m]\u001b[0m\u001b[1;33m.\u001b[0m\u001b[0mnumpy\u001b[0m\u001b[1;33m(\u001b[0m\u001b[1;33m)\u001b[0m\u001b[1;33m.\u001b[0m\u001b[0mastype\u001b[0m\u001b[1;33m(\u001b[0m\u001b[1;34m\"uint8\"\u001b[0m\u001b[1;33m)\u001b[0m\u001b[1;33m)\u001b[0m\u001b[1;33m\u001b[0m\u001b[1;33m\u001b[0m\u001b[0m\n",
      "\u001b[1;31mNameError\u001b[0m: name 'plt' is not defined"
     ]
    }
   ],
   "source": [
    "# plt.figure(figsize=(10, 10))\n",
    "# for images, labels in train_ds.take(1):\n",
    "#     for i in range(9):\n",
    "#         ax = plt.subplot(3, 3, i + 1)\n",
    "#         plt.imshow(images[i].numpy().astype(\"uint8\"))\n",
    "#         plt.title(class_names[labels[i]])\n",
    "#         plt.axis(\"off\")"
   ]
  },
  {
   "cell_type": "code",
   "execution_count": 24,
   "id": "e8037392",
   "metadata": {
    "ExecuteTime": {
     "end_time": "2022-07-13T06:39:45.889341Z",
     "start_time": "2022-07-13T06:39:18.103160Z"
    }
   },
   "outputs": [
    {
     "name": "stdout",
     "output_type": "stream",
     "text": [
      "(64, 180, 180, 3)\n",
      "(64,)\n"
     ]
    }
   ],
   "source": [
    "for image_batch, labels_batch in train_ds:\n",
    "    print(image_batch.shape)\n",
    "    print(labels_batch.shape)\n",
    "    break"
   ]
  },
  {
   "cell_type": "markdown",
   "id": "3d92bf02",
   "metadata": {},
   "source": [
    "## 데이터 셋 성능강화 및 증강, 라벨 원-핫"
   ]
  },
  {
   "cell_type": "code",
   "execution_count": 6,
   "id": "ef2ad9aa",
   "metadata": {
    "ExecuteTime": {
     "end_time": "2022-07-16T05:43:40.796271Z",
     "start_time": "2022-07-16T05:43:40.662946Z"
    }
   },
   "outputs": [],
   "source": [
    "def input_preprocess(image, label):\n",
    "    label = tf.one_hot(label, NUM_CLASSES)\n",
    "    return image, label\n",
    "\n",
    "AUTOTUNE = tf.data.experimental.AUTOTUNE\n",
    "\n",
    "train_ds = train_ds.map(input_preprocess)\n",
    "train_ds = train_ds.prefetch(AUTOTUNE)\n",
    "train_ds = train_ds.cache()\n",
    "train_ds = train_ds.shuffle(1000)\n",
    "\n",
    "valid_ds = valid_ds.map(input_preprocess).cache().prefetch(buffer_size=AUTOTUNE)\n",
    "test_ds = test_ds.map(input_preprocess).cache().prefetch(buffer_size=AUTOTUNE)"
   ]
  },
  {
   "cell_type": "code",
   "execution_count": 7,
   "id": "3714461e",
   "metadata": {
    "ExecuteTime": {
     "end_time": "2022-07-16T05:43:44.268737Z",
     "start_time": "2022-07-16T05:43:44.237397Z"
    }
   },
   "outputs": [],
   "source": [
    "def img_augmentation(x):\n",
    "    y = preprocessing.Rescaling(scale=1.0/255.0)(x)\n",
    "    y = preprocessing.RandomRotation(0.2)(y)\n",
    "    y = preprocessing.RandomZoom(0.1)(y)\n",
    "    y = preprocessing.RandomFlip(\"horizontal\")(y)\n",
    "    y = preprocessing.RandomHeight(0.1)(y)\n",
    "    y = preprocessing.RandomWidth(0.1)(y)\n",
    "    y = preprocessing.RandomContrast(factor=0.1)(y)\n",
    "    return y"
   ]
  },
  {
   "cell_type": "markdown",
   "id": "3e31cfac",
   "metadata": {},
   "source": [
    "# 모델링"
   ]
  },
  {
   "cell_type": "markdown",
   "id": "fec6a7bf",
   "metadata": {},
   "source": [
    "## 콜백"
   ]
  },
  {
   "cell_type": "code",
   "execution_count": 11,
   "id": "f4b5d1eb",
   "metadata": {
    "ExecuteTime": {
     "end_time": "2022-07-16T05:44:11.076477Z",
     "start_time": "2022-07-16T05:44:11.072476Z"
    }
   },
   "outputs": [],
   "source": [
    "ckp = callbacks.ModelCheckpoint(\n",
    "    \"model_2.h5\",  # 경로\n",
    "    save_best_only=True,  # 가장 높은 점수의 모델만\n",
    "    monitor=\"val_acc\")  # val_loss 를 보고 판단\n",
    "early_stopping = callbacks.EarlyStopping(\n",
    "    monitor=\"val_acc\",\n",
    "    patience=7)  # 7번까지는 기다릴수있다(낮아지는 횟수가 아니라 최고점 이후 점수가 상승하지 않는 횟수)\n",
    "reduce_lr = callbacks.ReduceLROnPlateau(\n",
    "    monitor=\"val_acc\",\n",
    "    patience=4,\n",
    "    facotr=0.1  # 학습률을 1/10 으로 줄임\n",
    ")"
   ]
  },
  {
   "cell_type": "code",
   "execution_count": 9,
   "id": "82aa24dc",
   "metadata": {
    "ExecuteTime": {
     "end_time": "2022-07-16T05:43:49.171635Z",
     "start_time": "2022-07-16T05:43:48.002338Z"
    }
   },
   "outputs": [],
   "source": [
    "base_model = applications.EfficientNetB0(input_shape=(IMG_SIZE,IMG_SIZE,3),\n",
    "                                               include_top=False,\n",
    "                                               weights='imagenet')\n",
    "base_model.trainable = False # 베이스 모델은 학습하지 않음"
   ]
  },
  {
   "cell_type": "code",
   "execution_count": 10,
   "id": "c50904be",
   "metadata": {
    "ExecuteTime": {
     "end_time": "2022-07-16T05:43:54.925413Z",
     "start_time": "2022-07-16T05:43:54.456368Z"
    }
   },
   "outputs": [],
   "source": [
    "def build_eff_model():\n",
    "    # Top\n",
    "    x = layers.Input(shape=(IMG_SIZE, IMG_SIZE, 3))\n",
    "    y = base_model(x, training=False)\n",
    "\n",
    "    # Rebuild\n",
    "    y = layers.GlobalAveragePooling2D(name=\"avg_pool\")(y)\n",
    "    y = layers.BatchNormalization()(y)\n",
    "    top_dropout_rate = 0.2\n",
    "    y = layers.Dropout(top_dropout_rate, name=\"top_dropout\")(y)\n",
    "    y = layers.Dense(84, name=\"Pred\")(y)\n",
    "    y = layers.PReLU()(y)\n",
    "    y = layers.Softmax(dtype=\"float32\", name=\"softmax\")(y)\n",
    "    \n",
    "    # compile\n",
    "    model = models.Model(x, y, name=\"EfficientNet\")\n",
    "    optimizer = optimizers.Adam(learning_rate=0.01)\n",
    "    loss = losses.CategoricalCrossentropy()\n",
    "    model.compile(optimizer=optimizer, loss=loss, metrics=[\"acc\"])\n",
    "    return model\n",
    "model = build_eff_model()"
   ]
  },
  {
   "cell_type": "code",
   "execution_count": 12,
   "id": "7f074686",
   "metadata": {
    "ExecuteTime": {
     "end_time": "2022-07-16T05:44:15.853207Z",
     "start_time": "2022-07-16T05:44:15.276460Z"
    }
   },
   "outputs": [],
   "source": [
    "def build_eff_model():\n",
    "    # Top\n",
    "    x = layers.Input(shape=(IMG_SIZE, IMG_SIZE, 3))\n",
    "    y = base_model(x, training=False)\n",
    "\n",
    "    # Rebuild\n",
    "    y = layers.GlobalAveragePooling2D(name=\"avg_pool\")(y)\n",
    "    y = layers.BatchNormalization()(y)\n",
    "    top_dropout_rate = 0.2\n",
    "    y = layers.Dropout(top_dropout_rate, name=\"top_dropout\")(y)\n",
    "    y = layers.Dense(NUM_CLASSES, activation=\"softmax\", name=\"Pred\")(y)\n",
    "    \n",
    "    # compile\n",
    "    model = models.Model(x, y, name=\"EfficientNet\")\n",
    "    optimizer = optimizers.Adam(learning_rate=0.001)\n",
    "    model.compile(optimizer=optimizer, loss=\"categorical_crossentropy\", metrics=[\"acc\"])\n",
    "    return model\n",
    "model = build_eff_model()"
   ]
  },
  {
   "cell_type": "code",
   "execution_count": null,
   "id": "1ef2d250",
   "metadata": {
    "ExecuteTime": {
     "start_time": "2022-07-16T05:44:19.084Z"
    }
   },
   "outputs": [
    {
     "name": "stdout",
     "output_type": "stream",
     "text": [
      "Epoch 1/30\n"
     ]
    }
   ],
   "source": [
    "history = model.fit(train_ds,\n",
    "                    epochs=30,\n",
    "                    validation_data=valid_ds,\n",
    "                    callbacks=[ckp, early_stopping, reduce_lr])"
   ]
  },
  {
   "cell_type": "code",
   "execution_count": null,
   "id": "d6f2dc88",
   "metadata": {},
   "outputs": [],
   "source": []
  }
 ],
 "metadata": {
  "kernelspec": {
   "display_name": "Python 3 (ipykernel)",
   "language": "python",
   "name": "python3"
  },
  "language_info": {
   "codemirror_mode": {
    "name": "ipython",
    "version": 3
   },
   "file_extension": ".py",
   "mimetype": "text/x-python",
   "name": "python",
   "nbconvert_exporter": "python",
   "pygments_lexer": "ipython3",
   "version": "3.7.10"
  },
  "toc": {
   "base_numbering": 1,
   "nav_menu": {},
   "number_sections": true,
   "sideBar": true,
   "skip_h1_title": false,
   "title_cell": "Table of Contents",
   "title_sidebar": "Contents",
   "toc_cell": false,
   "toc_position": {},
   "toc_section_display": true,
   "toc_window_display": false
  }
 },
 "nbformat": 4,
 "nbformat_minor": 5
}
