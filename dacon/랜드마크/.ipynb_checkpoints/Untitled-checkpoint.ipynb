{
 "cells": [
  {
   "cell_type": "code",
   "execution_count": 60,
   "id": "dc9b7a97",
   "metadata": {
    "ExecuteTime": {
     "end_time": "2022-07-18T02:32:15.936440Z",
     "start_time": "2022-07-18T02:32:15.930469Z"
    }
   },
   "outputs": [],
   "source": [
    "import datetime, os, time, pathlib\n",
    "import numpy as np\n",
    "import pandas as pd\n",
    "import tensorflow as tf\n",
    "from tensorflow.keras import losses, models, layers, optimizers, callbacks, utils\n",
    "from tensorflow.keras.layers.experimental import preprocessing"
   ]
  },
  {
   "cell_type": "code",
   "execution_count": 61,
   "id": "d68c6640",
   "metadata": {
    "ExecuteTime": {
     "end_time": "2022-07-18T02:32:16.085866Z",
     "start_time": "2022-07-18T02:32:16.080865Z"
    }
   },
   "outputs": [
    {
     "data": {
      "text/plain": [
       "[PhysicalDevice(name='/physical_device:GPU:0', device_type='GPU')]"
      ]
     },
     "execution_count": 61,
     "metadata": {},
     "output_type": "execute_result"
    }
   ],
   "source": [
    "tf.config.list_physical_devices(\"GPU\")"
   ]
  },
  {
   "cell_type": "code",
   "execution_count": 62,
   "id": "83d0975d",
   "metadata": {
    "ExecuteTime": {
     "end_time": "2022-07-18T02:32:16.226868Z",
     "start_time": "2022-07-18T02:32:16.216865Z"
    }
   },
   "outputs": [],
   "source": [
    "data_dir = pathlib.Path(\"D:Dataset/랜드마크 이미지/Validation/\")"
   ]
  },
  {
   "cell_type": "code",
   "execution_count": 63,
   "id": "9ec3fa8f",
   "metadata": {
    "ExecuteTime": {
     "end_time": "2022-07-18T02:32:16.576927Z",
     "start_time": "2022-07-18T02:32:16.369866Z"
    }
   },
   "outputs": [],
   "source": [
    "image_count = len(list(data_dir.glob('*/*.jpg'))) # 총 이미지 개수\n",
    "test_ = tf.data.Dataset.list_files(str(data_dir/'*/*'), shuffle=False)"
   ]
  },
  {
   "cell_type": "code",
   "execution_count": 64,
   "id": "52365fc7",
   "metadata": {
    "ExecuteTime": {
     "end_time": "2022-07-18T02:32:16.592935Z",
     "start_time": "2022-07-18T02:32:16.577927Z"
    }
   },
   "outputs": [],
   "source": [
    "def get_label(file_path):\n",
    "  # convert the path to a list of path components\n",
    "  parts = tf.strings.split(file_path, os.path.sep)\n",
    "  # The second to last is the class-directory\n",
    "  one_hot = parts[-2] == class_names\n",
    "  # Integer encode the label\n",
    "  return tf.argmax(one_hot)"
   ]
  },
  {
   "cell_type": "code",
   "execution_count": 65,
   "id": "e6c0db9e",
   "metadata": {
    "ExecuteTime": {
     "end_time": "2022-07-18T02:32:16.970487Z",
     "start_time": "2022-07-18T02:32:16.953246Z"
    }
   },
   "outputs": [],
   "source": [
    "def decode_img(img):\n",
    "    # convert the compressed string to a 3D uint8 tensor\n",
    "    img = tf.io.decode_jpeg(img, channels=3)\n",
    "    # resize the image to the desired size\n",
    "    return tf.image.resize(img, [img_height, img_width])"
   ]
  },
  {
   "cell_type": "code",
   "execution_count": 66,
   "id": "e0cf335d",
   "metadata": {
    "ExecuteTime": {
     "end_time": "2022-07-18T02:32:17.313908Z",
     "start_time": "2022-07-18T02:32:17.305865Z"
    }
   },
   "outputs": [],
   "source": [
    "def process_path(file_path):\n",
    "    label = get_label(file_path)\n",
    "    # load the raw data from the file as a string\n",
    "    img = tf.io.read_file(file_path)\n",
    "    img = decode_img(img)\n",
    "    return img, label"
   ]
  },
  {
   "cell_type": "code",
   "execution_count": 77,
   "id": "0cb250d6",
   "metadata": {
    "ExecuteTime": {
     "end_time": "2022-07-18T02:36:30.322308Z",
     "start_time": "2022-07-18T02:36:30.314294Z"
    }
   },
   "outputs": [],
   "source": [
    "def configure_for_performance(ds):\n",
    "    ds = ds.cache()\n",
    "    ds = ds.batch(batch_size)\n",
    "    ds = ds.prefetch(buffer_size=AUTOTUNE)\n",
    "    return ds"
   ]
  },
  {
   "cell_type": "code",
   "execution_count": 78,
   "id": "bd1cafb2",
   "metadata": {
    "ExecuteTime": {
     "end_time": "2022-07-18T02:36:30.817791Z",
     "start_time": "2022-07-18T02:36:30.802573Z"
    }
   },
   "outputs": [],
   "source": [
    "class_names = np.array(sorted([item.name for item in data_dir.glob('*')]))"
   ]
  },
  {
   "cell_type": "code",
   "execution_count": 79,
   "id": "5091641f",
   "metadata": {
    "ExecuteTime": {
     "end_time": "2022-07-18T02:36:31.894236Z",
     "start_time": "2022-07-18T02:36:31.874975Z"
    }
   },
   "outputs": [
    {
     "data": {
      "text/plain": [
       "1504"
      ]
     },
     "execution_count": 79,
     "metadata": {},
     "output_type": "execute_result"
    }
   ],
   "source": [
    "len(a)"
   ]
  },
  {
   "cell_type": "code",
   "execution_count": 80,
   "id": "ad8856e3",
   "metadata": {
    "ExecuteTime": {
     "end_time": "2022-07-18T02:36:33.229556Z",
     "start_time": "2022-07-18T02:36:33.219180Z"
    }
   },
   "outputs": [],
   "source": [
    "arg = np.argmax(a,axis=1)"
   ]
  },
  {
   "cell_type": "code",
   "execution_count": 93,
   "id": "7e777d78",
   "metadata": {
    "ExecuteTime": {
     "end_time": "2022-07-18T02:39:07.051018Z",
     "start_time": "2022-07-18T02:39:07.035663Z"
    }
   },
   "outputs": [
    {
     "name": "stdout",
     "output_type": "stream",
     "text": [
      "1.0\n",
      "1.0\n",
      "1.0\n",
      "1.0\n",
      "1.0\n"
     ]
    }
   ],
   "source": [
    "for i, j in zip(a[:5], arg[:5]):\n",
    "    print(i[j])"
   ]
  },
  {
   "cell_type": "code",
   "execution_count": 95,
   "id": "8aba4292",
   "metadata": {
    "ExecuteTime": {
     "end_time": "2022-07-18T02:43:41.093601Z",
     "start_time": "2022-07-18T02:42:26.770927Z"
    }
   },
   "outputs": [],
   "source": [
    "batch_size = 32\n",
    "AUTOTUNE = tf.data.experimental.AUTOTUNE\n",
    "INPUT_SIZE = [224, 240, 260, 300, 380]\n",
    "result = pd.DataFrame([])\n",
    "result_conf = pd.DataFrame([])\n",
    "\n",
    "for size in [224, 240, 260, 300, 380]:\n",
    "    SIZE = size\n",
    "    img_height = SIZE\n",
    "    img_width = SIZE\n",
    "    image_size=(img_height, img_width)\n",
    "    test_ds = test_.map(process_path, num_parallel_calls=AUTOTUNE)\n",
    "    test_ds = configure_for_performance(test_ds)\n",
    "    model = tf.keras.models.load_model(f\"model_{size}_2.h5\")\n",
    "    a = model.predict(test_ds)\n",
    "    arg = np.argmax(a,axis=1)\n",
    "    conf = []\n",
    "    for i, j in zip(a, arg):\n",
    "        conf.append(i[j])\n",
    "    result[f\"size_{size}\"] = arg\n",
    "    result_conf[f\"size_{size}_conf\"] = conf"
   ]
  },
  {
   "cell_type": "code",
   "execution_count": 22,
   "id": "d25600cf",
   "metadata": {
    "ExecuteTime": {
     "end_time": "2022-07-18T02:10:18.975148Z",
     "start_time": "2022-07-18T02:10:18.667039Z"
    }
   },
   "outputs": [
    {
     "data": {
      "text/plain": [
       "0        0.0\n",
       "1        0.0\n",
       "2        0.0\n",
       "3        0.0\n",
       "4        0.0\n",
       "        ... \n",
       "1499    83.0\n",
       "1500    83.0\n",
       "1501    83.0\n",
       "1502    83.0\n",
       "1503    83.0\n",
       "Name: 0, Length: 1504, dtype: float64"
      ]
     },
     "execution_count": 22,
     "metadata": {},
     "output_type": "execute_result"
    }
   ],
   "source": [
    "result.mode(axis=1)[0]"
   ]
  },
  {
   "cell_type": "code",
   "execution_count": 98,
   "id": "cd9d79ce",
   "metadata": {
    "ExecuteTime": {
     "end_time": "2022-07-18T02:44:36.653244Z",
     "start_time": "2022-07-18T02:44:36.331171Z"
    }
   },
   "outputs": [],
   "source": [
    "result[\"answer\"] = result.mode(axis=1)[0]\n",
    "result[\"answer\"] = result[\"answer\"].astype(\"int\")"
   ]
  },
  {
   "cell_type": "code",
   "execution_count": 100,
   "id": "5b751230",
   "metadata": {
    "ExecuteTime": {
     "end_time": "2022-07-18T02:44:51.913815Z",
     "start_time": "2022-07-18T02:44:51.905965Z"
    }
   },
   "outputs": [
    {
     "data": {
      "text/html": [
       "<div>\n",
       "<style scoped>\n",
       "    .dataframe tbody tr th:only-of-type {\n",
       "        vertical-align: middle;\n",
       "    }\n",
       "\n",
       "    .dataframe tbody tr th {\n",
       "        vertical-align: top;\n",
       "    }\n",
       "\n",
       "    .dataframe thead th {\n",
       "        text-align: right;\n",
       "    }\n",
       "</style>\n",
       "<table border=\"1\" class=\"dataframe\">\n",
       "  <thead>\n",
       "    <tr style=\"text-align: right;\">\n",
       "      <th></th>\n",
       "      <th>size_224</th>\n",
       "      <th>size_240</th>\n",
       "      <th>size_260</th>\n",
       "      <th>size_300</th>\n",
       "      <th>size_380</th>\n",
       "      <th>answer</th>\n",
       "    </tr>\n",
       "  </thead>\n",
       "  <tbody>\n",
       "    <tr>\n",
       "      <th>0</th>\n",
       "      <td>0</td>\n",
       "      <td>0</td>\n",
       "      <td>0</td>\n",
       "      <td>0</td>\n",
       "      <td>0</td>\n",
       "      <td>0</td>\n",
       "    </tr>\n",
       "    <tr>\n",
       "      <th>1</th>\n",
       "      <td>0</td>\n",
       "      <td>0</td>\n",
       "      <td>0</td>\n",
       "      <td>0</td>\n",
       "      <td>0</td>\n",
       "      <td>0</td>\n",
       "    </tr>\n",
       "    <tr>\n",
       "      <th>2</th>\n",
       "      <td>0</td>\n",
       "      <td>0</td>\n",
       "      <td>0</td>\n",
       "      <td>0</td>\n",
       "      <td>0</td>\n",
       "      <td>0</td>\n",
       "    </tr>\n",
       "    <tr>\n",
       "      <th>3</th>\n",
       "      <td>0</td>\n",
       "      <td>0</td>\n",
       "      <td>0</td>\n",
       "      <td>0</td>\n",
       "      <td>0</td>\n",
       "      <td>0</td>\n",
       "    </tr>\n",
       "    <tr>\n",
       "      <th>4</th>\n",
       "      <td>0</td>\n",
       "      <td>0</td>\n",
       "      <td>0</td>\n",
       "      <td>0</td>\n",
       "      <td>0</td>\n",
       "      <td>0</td>\n",
       "    </tr>\n",
       "    <tr>\n",
       "      <th>...</th>\n",
       "      <td>...</td>\n",
       "      <td>...</td>\n",
       "      <td>...</td>\n",
       "      <td>...</td>\n",
       "      <td>...</td>\n",
       "      <td>...</td>\n",
       "    </tr>\n",
       "    <tr>\n",
       "      <th>1499</th>\n",
       "      <td>83</td>\n",
       "      <td>83</td>\n",
       "      <td>83</td>\n",
       "      <td>83</td>\n",
       "      <td>83</td>\n",
       "      <td>83</td>\n",
       "    </tr>\n",
       "    <tr>\n",
       "      <th>1500</th>\n",
       "      <td>83</td>\n",
       "      <td>83</td>\n",
       "      <td>83</td>\n",
       "      <td>83</td>\n",
       "      <td>83</td>\n",
       "      <td>83</td>\n",
       "    </tr>\n",
       "    <tr>\n",
       "      <th>1501</th>\n",
       "      <td>83</td>\n",
       "      <td>83</td>\n",
       "      <td>83</td>\n",
       "      <td>83</td>\n",
       "      <td>83</td>\n",
       "      <td>83</td>\n",
       "    </tr>\n",
       "    <tr>\n",
       "      <th>1502</th>\n",
       "      <td>83</td>\n",
       "      <td>83</td>\n",
       "      <td>83</td>\n",
       "      <td>83</td>\n",
       "      <td>83</td>\n",
       "      <td>83</td>\n",
       "    </tr>\n",
       "    <tr>\n",
       "      <th>1503</th>\n",
       "      <td>83</td>\n",
       "      <td>37</td>\n",
       "      <td>83</td>\n",
       "      <td>83</td>\n",
       "      <td>83</td>\n",
       "      <td>83</td>\n",
       "    </tr>\n",
       "  </tbody>\n",
       "</table>\n",
       "<p>1504 rows × 6 columns</p>\n",
       "</div>"
      ],
      "text/plain": [
       "      size_224  size_240  size_260  size_300  size_380  answer\n",
       "0            0         0         0         0         0       0\n",
       "1            0         0         0         0         0       0\n",
       "2            0         0         0         0         0       0\n",
       "3            0         0         0         0         0       0\n",
       "4            0         0         0         0         0       0\n",
       "...        ...       ...       ...       ...       ...     ...\n",
       "1499        83        83        83        83        83      83\n",
       "1500        83        83        83        83        83      83\n",
       "1501        83        83        83        83        83      83\n",
       "1502        83        83        83        83        83      83\n",
       "1503        83        37        83        83        83      83\n",
       "\n",
       "[1504 rows x 6 columns]"
      ]
     },
     "execution_count": 100,
     "metadata": {},
     "output_type": "execute_result"
    }
   ],
   "source": [
    "result"
   ]
  },
  {
   "cell_type": "code",
   "execution_count": 101,
   "id": "df69865c",
   "metadata": {
    "ExecuteTime": {
     "end_time": "2022-07-18T02:48:56.255805Z",
     "start_time": "2022-07-18T02:48:47.522934Z"
    }
   },
   "outputs": [],
   "source": [
    "test_ds = test_.map(process_path, num_parallel_calls=AUTOTUNE)\n",
    "temp = []\n",
    "for i, j in test_ds:\n",
    "    temp.append(j.numpy())\n",
    "result[\"Real\"] = temp"
   ]
  },
  {
   "cell_type": "code",
   "execution_count": 102,
   "id": "c4185012",
   "metadata": {
    "ExecuteTime": {
     "end_time": "2022-07-18T02:48:57.703640Z",
     "start_time": "2022-07-18T02:48:57.691798Z"
    }
   },
   "outputs": [
    {
     "data": {
      "text/html": [
       "<div>\n",
       "<style scoped>\n",
       "    .dataframe tbody tr th:only-of-type {\n",
       "        vertical-align: middle;\n",
       "    }\n",
       "\n",
       "    .dataframe tbody tr th {\n",
       "        vertical-align: top;\n",
       "    }\n",
       "\n",
       "    .dataframe thead th {\n",
       "        text-align: right;\n",
       "    }\n",
       "</style>\n",
       "<table border=\"1\" class=\"dataframe\">\n",
       "  <thead>\n",
       "    <tr style=\"text-align: right;\">\n",
       "      <th></th>\n",
       "      <th>size_224</th>\n",
       "      <th>size_240</th>\n",
       "      <th>size_260</th>\n",
       "      <th>size_300</th>\n",
       "      <th>size_380</th>\n",
       "      <th>answer</th>\n",
       "      <th>Real</th>\n",
       "    </tr>\n",
       "  </thead>\n",
       "  <tbody>\n",
       "    <tr>\n",
       "      <th>0</th>\n",
       "      <td>0</td>\n",
       "      <td>0</td>\n",
       "      <td>0</td>\n",
       "      <td>0</td>\n",
       "      <td>0</td>\n",
       "      <td>0</td>\n",
       "      <td>0</td>\n",
       "    </tr>\n",
       "    <tr>\n",
       "      <th>1</th>\n",
       "      <td>0</td>\n",
       "      <td>0</td>\n",
       "      <td>0</td>\n",
       "      <td>0</td>\n",
       "      <td>0</td>\n",
       "      <td>0</td>\n",
       "      <td>0</td>\n",
       "    </tr>\n",
       "    <tr>\n",
       "      <th>2</th>\n",
       "      <td>0</td>\n",
       "      <td>0</td>\n",
       "      <td>0</td>\n",
       "      <td>0</td>\n",
       "      <td>0</td>\n",
       "      <td>0</td>\n",
       "      <td>0</td>\n",
       "    </tr>\n",
       "    <tr>\n",
       "      <th>3</th>\n",
       "      <td>0</td>\n",
       "      <td>0</td>\n",
       "      <td>0</td>\n",
       "      <td>0</td>\n",
       "      <td>0</td>\n",
       "      <td>0</td>\n",
       "      <td>0</td>\n",
       "    </tr>\n",
       "    <tr>\n",
       "      <th>4</th>\n",
       "      <td>0</td>\n",
       "      <td>0</td>\n",
       "      <td>0</td>\n",
       "      <td>0</td>\n",
       "      <td>0</td>\n",
       "      <td>0</td>\n",
       "      <td>0</td>\n",
       "    </tr>\n",
       "    <tr>\n",
       "      <th>...</th>\n",
       "      <td>...</td>\n",
       "      <td>...</td>\n",
       "      <td>...</td>\n",
       "      <td>...</td>\n",
       "      <td>...</td>\n",
       "      <td>...</td>\n",
       "      <td>...</td>\n",
       "    </tr>\n",
       "    <tr>\n",
       "      <th>1499</th>\n",
       "      <td>83</td>\n",
       "      <td>83</td>\n",
       "      <td>83</td>\n",
       "      <td>83</td>\n",
       "      <td>83</td>\n",
       "      <td>83</td>\n",
       "      <td>83</td>\n",
       "    </tr>\n",
       "    <tr>\n",
       "      <th>1500</th>\n",
       "      <td>83</td>\n",
       "      <td>83</td>\n",
       "      <td>83</td>\n",
       "      <td>83</td>\n",
       "      <td>83</td>\n",
       "      <td>83</td>\n",
       "      <td>83</td>\n",
       "    </tr>\n",
       "    <tr>\n",
       "      <th>1501</th>\n",
       "      <td>83</td>\n",
       "      <td>83</td>\n",
       "      <td>83</td>\n",
       "      <td>83</td>\n",
       "      <td>83</td>\n",
       "      <td>83</td>\n",
       "      <td>83</td>\n",
       "    </tr>\n",
       "    <tr>\n",
       "      <th>1502</th>\n",
       "      <td>83</td>\n",
       "      <td>83</td>\n",
       "      <td>83</td>\n",
       "      <td>83</td>\n",
       "      <td>83</td>\n",
       "      <td>83</td>\n",
       "      <td>83</td>\n",
       "    </tr>\n",
       "    <tr>\n",
       "      <th>1503</th>\n",
       "      <td>83</td>\n",
       "      <td>37</td>\n",
       "      <td>83</td>\n",
       "      <td>83</td>\n",
       "      <td>83</td>\n",
       "      <td>83</td>\n",
       "      <td>83</td>\n",
       "    </tr>\n",
       "  </tbody>\n",
       "</table>\n",
       "<p>1504 rows × 7 columns</p>\n",
       "</div>"
      ],
      "text/plain": [
       "      size_224  size_240  size_260  size_300  size_380  answer  Real\n",
       "0            0         0         0         0         0       0     0\n",
       "1            0         0         0         0         0       0     0\n",
       "2            0         0         0         0         0       0     0\n",
       "3            0         0         0         0         0       0     0\n",
       "4            0         0         0         0         0       0     0\n",
       "...        ...       ...       ...       ...       ...     ...   ...\n",
       "1499        83        83        83        83        83      83    83\n",
       "1500        83        83        83        83        83      83    83\n",
       "1501        83        83        83        83        83      83    83\n",
       "1502        83        83        83        83        83      83    83\n",
       "1503        83        37        83        83        83      83    83\n",
       "\n",
       "[1504 rows x 7 columns]"
      ]
     },
     "execution_count": 102,
     "metadata": {},
     "output_type": "execute_result"
    }
   ],
   "source": [
    "result"
   ]
  },
  {
   "cell_type": "code",
   "execution_count": 104,
   "id": "16700673",
   "metadata": {
    "ExecuteTime": {
     "end_time": "2022-07-18T02:49:48.848466Z",
     "start_time": "2022-07-18T02:49:48.834924Z"
    }
   },
   "outputs": [],
   "source": [
    "result_conf[\"answer\"] = result_conf.mean(axis=1)"
   ]
  },
  {
   "cell_type": "code",
   "execution_count": 106,
   "id": "79d3ac3a",
   "metadata": {
    "ExecuteTime": {
     "end_time": "2022-07-18T02:50:13.824332Z",
     "start_time": "2022-07-18T02:50:13.811330Z"
    }
   },
   "outputs": [],
   "source": [
    "def GAP_vector(pred, conf, true, return_x=False):\n",
    "    x = pd.DataFrame({'pred': pred, 'conf': conf, 'true': true})\n",
    "    x.sort_values('conf', ascending=False, inplace=True, na_position='last')\n",
    "    x['correct'] = (x.true == x.pred).astype(int)\n",
    "    x['prec_k'] = x.correct.cumsum() / (np.arange(len(x)) + 1)\n",
    "    x['term'] = x.prec_k * x.correct\n",
    "    gap = x.term.sum() / x.true.count()\n",
    "    if return_x:\n",
    "        return gap, x\n",
    "    else:\n",
    "        return gap"
   ]
  },
  {
   "cell_type": "code",
   "execution_count": 107,
   "id": "6dadf275",
   "metadata": {
    "ExecuteTime": {
     "end_time": "2022-07-18T02:51:14.169436Z",
     "start_time": "2022-07-18T02:51:14.155114Z"
    }
   },
   "outputs": [],
   "source": [
    "gap , x = GAP_vector(result[\"answer\"], result_conf[\"answer\"], result[\"Real\"], return_x=True)"
   ]
  },
  {
   "cell_type": "code",
   "execution_count": 108,
   "id": "965bb10a",
   "metadata": {
    "ExecuteTime": {
     "end_time": "2022-07-18T02:51:15.715035Z",
     "start_time": "2022-07-18T02:51:15.707093Z"
    }
   },
   "outputs": [
    {
     "data": {
      "text/plain": [
       "0.9784071713571678"
      ]
     },
     "execution_count": 108,
     "metadata": {},
     "output_type": "execute_result"
    }
   ],
   "source": [
    "gap"
   ]
  },
  {
   "cell_type": "code",
   "execution_count": 109,
   "id": "e691114d",
   "metadata": {
    "ExecuteTime": {
     "end_time": "2022-07-18T02:53:14.883787Z",
     "start_time": "2022-07-18T02:53:14.868341Z"
    }
   },
   "outputs": [
    {
     "data": {
      "text/html": [
       "<div>\n",
       "<style scoped>\n",
       "    .dataframe tbody tr th:only-of-type {\n",
       "        vertical-align: middle;\n",
       "    }\n",
       "\n",
       "    .dataframe tbody tr th {\n",
       "        vertical-align: top;\n",
       "    }\n",
       "\n",
       "    .dataframe thead th {\n",
       "        text-align: right;\n",
       "    }\n",
       "</style>\n",
       "<table border=\"1\" class=\"dataframe\">\n",
       "  <thead>\n",
       "    <tr style=\"text-align: right;\">\n",
       "      <th></th>\n",
       "      <th>pred</th>\n",
       "      <th>conf</th>\n",
       "      <th>true</th>\n",
       "      <th>correct</th>\n",
       "      <th>prec_k</th>\n",
       "      <th>term</th>\n",
       "    </tr>\n",
       "  </thead>\n",
       "  <tbody>\n",
       "    <tr>\n",
       "      <th>0</th>\n",
       "      <td>0</td>\n",
       "      <td>1.000000</td>\n",
       "      <td>0</td>\n",
       "      <td>1</td>\n",
       "      <td>1.000000</td>\n",
       "      <td>1.000000</td>\n",
       "    </tr>\n",
       "    <tr>\n",
       "      <th>909</th>\n",
       "      <td>50</td>\n",
       "      <td>1.000000</td>\n",
       "      <td>50</td>\n",
       "      <td>1</td>\n",
       "      <td>1.000000</td>\n",
       "      <td>1.000000</td>\n",
       "    </tr>\n",
       "    <tr>\n",
       "      <th>928</th>\n",
       "      <td>51</td>\n",
       "      <td>1.000000</td>\n",
       "      <td>51</td>\n",
       "      <td>1</td>\n",
       "      <td>1.000000</td>\n",
       "      <td>1.000000</td>\n",
       "    </tr>\n",
       "    <tr>\n",
       "      <th>927</th>\n",
       "      <td>51</td>\n",
       "      <td>1.000000</td>\n",
       "      <td>51</td>\n",
       "      <td>1</td>\n",
       "      <td>1.000000</td>\n",
       "      <td>1.000000</td>\n",
       "    </tr>\n",
       "    <tr>\n",
       "      <th>926</th>\n",
       "      <td>51</td>\n",
       "      <td>1.000000</td>\n",
       "      <td>51</td>\n",
       "      <td>1</td>\n",
       "      <td>1.000000</td>\n",
       "      <td>1.000000</td>\n",
       "    </tr>\n",
       "    <tr>\n",
       "      <th>...</th>\n",
       "      <td>...</td>\n",
       "      <td>...</td>\n",
       "      <td>...</td>\n",
       "      <td>...</td>\n",
       "      <td>...</td>\n",
       "      <td>...</td>\n",
       "    </tr>\n",
       "    <tr>\n",
       "      <th>1250</th>\n",
       "      <td>67</td>\n",
       "      <td>0.802079</td>\n",
       "      <td>67</td>\n",
       "      <td>1</td>\n",
       "      <td>0.980667</td>\n",
       "      <td>0.980667</td>\n",
       "    </tr>\n",
       "    <tr>\n",
       "      <th>267</th>\n",
       "      <td>14</td>\n",
       "      <td>0.799807</td>\n",
       "      <td>14</td>\n",
       "      <td>1</td>\n",
       "      <td>0.980680</td>\n",
       "      <td>0.980680</td>\n",
       "    </tr>\n",
       "    <tr>\n",
       "      <th>270</th>\n",
       "      <td>18</td>\n",
       "      <td>0.785963</td>\n",
       "      <td>15</td>\n",
       "      <td>0</td>\n",
       "      <td>0.980027</td>\n",
       "      <td>0.000000</td>\n",
       "    </tr>\n",
       "    <tr>\n",
       "      <th>846</th>\n",
       "      <td>8</td>\n",
       "      <td>0.777344</td>\n",
       "      <td>46</td>\n",
       "      <td>0</td>\n",
       "      <td>0.979375</td>\n",
       "      <td>0.000000</td>\n",
       "    </tr>\n",
       "    <tr>\n",
       "      <th>1360</th>\n",
       "      <td>75</td>\n",
       "      <td>0.658753</td>\n",
       "      <td>75</td>\n",
       "      <td>1</td>\n",
       "      <td>0.979388</td>\n",
       "      <td>0.979388</td>\n",
       "    </tr>\n",
       "  </tbody>\n",
       "</table>\n",
       "<p>1504 rows × 6 columns</p>\n",
       "</div>"
      ],
      "text/plain": [
       "      pred      conf  true  correct    prec_k      term\n",
       "0        0  1.000000     0        1  1.000000  1.000000\n",
       "909     50  1.000000    50        1  1.000000  1.000000\n",
       "928     51  1.000000    51        1  1.000000  1.000000\n",
       "927     51  1.000000    51        1  1.000000  1.000000\n",
       "926     51  1.000000    51        1  1.000000  1.000000\n",
       "...    ...       ...   ...      ...       ...       ...\n",
       "1250    67  0.802079    67        1  0.980667  0.980667\n",
       "267     14  0.799807    14        1  0.980680  0.980680\n",
       "270     18  0.785963    15        0  0.980027  0.000000\n",
       "846      8  0.777344    46        0  0.979375  0.000000\n",
       "1360    75  0.658753    75        1  0.979388  0.979388\n",
       "\n",
       "[1504 rows x 6 columns]"
      ]
     },
     "execution_count": 109,
     "metadata": {},
     "output_type": "execute_result"
    }
   ],
   "source": [
    "x"
   ]
  },
  {
   "cell_type": "code",
   "execution_count": null,
   "id": "6649123a",
   "metadata": {},
   "outputs": [],
   "source": []
  }
 ],
 "metadata": {
  "kernelspec": {
   "display_name": "Python 3 (ipykernel)",
   "language": "python",
   "name": "python3"
  },
  "language_info": {
   "codemirror_mode": {
    "name": "ipython",
    "version": 3
   },
   "file_extension": ".py",
   "mimetype": "text/x-python",
   "name": "python",
   "nbconvert_exporter": "python",
   "pygments_lexer": "ipython3",
   "version": "3.7.10"
  },
  "toc": {
   "base_numbering": 1,
   "nav_menu": {},
   "number_sections": true,
   "sideBar": true,
   "skip_h1_title": false,
   "title_cell": "Table of Contents",
   "title_sidebar": "Contents",
   "toc_cell": false,
   "toc_position": {},
   "toc_section_display": true,
   "toc_window_display": false
  }
 },
 "nbformat": 4,
 "nbformat_minor": 5
}
