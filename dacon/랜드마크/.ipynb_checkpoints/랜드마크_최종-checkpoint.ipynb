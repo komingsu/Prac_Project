{
 "cells": [
  {
   "cell_type": "code",
   "execution_count": 1,
   "id": "6d2e4354",
   "metadata": {
    "ExecuteTime": {
     "end_time": "2022-07-17T08:40:18.972009Z",
     "start_time": "2022-07-17T08:40:15.546350Z"
    }
   },
   "outputs": [],
   "source": [
    "import datetime, os, time, pathlib\n",
    "import numpy as np\n",
    "import tensorflow as tf\n",
    "from tensorflow.keras import losses, models, layers, optimizers, callbacks, utils\n",
    "from tensorflow.keras.layers.experimental import preprocessing\n",
    "from tensorflow.keras.applications import EfficientNetB1, EfficientNetB2, EfficientNetB3, EfficientNetB4, EfficientNetB5, EfficientNetB6"
   ]
  },
  {
   "cell_type": "code",
   "execution_count": 2,
   "id": "6941eb38",
   "metadata": {
    "ExecuteTime": {
     "end_time": "2022-07-17T08:40:20.418249Z",
     "start_time": "2022-07-17T08:40:18.973009Z"
    }
   },
   "outputs": [
    {
     "data": {
      "text/plain": [
       "[PhysicalDevice(name='/physical_device:GPU:0', device_type='GPU')]"
      ]
     },
     "execution_count": 2,
     "metadata": {},
     "output_type": "execute_result"
    }
   ],
   "source": [
    "tf.config.list_physical_devices(\"GPU\")"
   ]
  },
  {
   "cell_type": "code",
   "execution_count": 3,
   "id": "e617d725",
   "metadata": {
    "ExecuteTime": {
     "end_time": "2022-07-17T08:40:20.434257Z",
     "start_time": "2022-07-17T08:40:20.419248Z"
    }
   },
   "outputs": [],
   "source": [
    "data_dir = pathlib.Path(\"D:Dataset/랜드마크 이미지/Training/\")"
   ]
  },
  {
   "cell_type": "code",
   "execution_count": 4,
   "id": "b6838004",
   "metadata": {
    "ExecuteTime": {
     "end_time": "2022-07-17T08:40:21.865579Z",
     "start_time": "2022-07-17T08:40:20.436258Z"
    }
   },
   "outputs": [],
   "source": [
    "image_count = len(list(data_dir.glob('*/*.jpg'))) # 총 이미지 개수\n",
    "list_ds = tf.data.Dataset.list_files(str(data_dir/'*/*'), shuffle=False)\n",
    "list_ds = list_ds.shuffle(image_count, reshuffle_each_iteration=False)"
   ]
  },
  {
   "cell_type": "code",
   "execution_count": 8,
   "id": "681eaede",
   "metadata": {
    "ExecuteTime": {
     "end_time": "2022-07-17T08:40:50.060855Z",
     "start_time": "2022-07-17T08:40:50.039783Z"
    }
   },
   "outputs": [
    {
     "name": "stdout",
     "output_type": "stream",
     "text": [
      "10537\n",
      "1859\n"
     ]
    }
   ],
   "source": [
    "val_size = int(image_count * 0.15)\n",
    "train_ = list_ds.skip(val_size) # 20% 를 넘김\n",
    "valid_ = list_ds.take(val_size) # 20% 를 가짐 \n",
    "NUM_TRAIN = tf.data.experimental.cardinality(train_).numpy()\n",
    "NUM_VALID = tf.data.experimental.cardinality(valid_).numpy()\n",
    "print(tf.data.experimental.cardinality(train_).numpy())\n",
    "print(tf.data.experimental.cardinality(valid_).numpy())"
   ]
  },
  {
   "cell_type": "code",
   "execution_count": 9,
   "id": "aab015a4",
   "metadata": {
    "ExecuteTime": {
     "end_time": "2022-07-17T08:40:53.248518Z",
     "start_time": "2022-07-17T08:40:53.234775Z"
    }
   },
   "outputs": [],
   "source": [
    "def get_label(file_path):\n",
    "  # convert the path to a list of path components\n",
    "  parts = tf.strings.split(file_path, os.path.sep)\n",
    "  # The second to last is the class-directory\n",
    "  one_hot = parts[-2] == class_names\n",
    "  # Integer encode the label\n",
    "  return tf.argmax(one_hot)"
   ]
  },
  {
   "cell_type": "code",
   "execution_count": 10,
   "id": "8f528892",
   "metadata": {
    "ExecuteTime": {
     "end_time": "2022-07-17T08:40:53.724910Z",
     "start_time": "2022-07-17T08:40:53.715925Z"
    }
   },
   "outputs": [],
   "source": [
    "def decode_img(img):\n",
    "    # convert the compressed string to a 3D uint8 tensor\n",
    "    img = tf.io.decode_jpeg(img, channels=3)\n",
    "    # resize the image to the desired size\n",
    "    return tf.image.resize(img, [img_height, img_width])"
   ]
  },
  {
   "cell_type": "code",
   "execution_count": 11,
   "id": "bb239587",
   "metadata": {
    "ExecuteTime": {
     "end_time": "2022-07-17T08:40:54.086794Z",
     "start_time": "2022-07-17T08:40:54.074792Z"
    }
   },
   "outputs": [],
   "source": [
    "def process_path(file_path):\n",
    "    label = get_label(file_path)\n",
    "    # load the raw data from the file as a string\n",
    "    img = tf.io.read_file(file_path)\n",
    "    img = decode_img(img)\n",
    "    return img, label"
   ]
  },
  {
   "cell_type": "code",
   "execution_count": 12,
   "id": "1338079e",
   "metadata": {
    "ExecuteTime": {
     "end_time": "2022-07-17T08:40:54.384889Z",
     "start_time": "2022-07-17T08:40:54.366886Z"
    }
   },
   "outputs": [],
   "source": [
    "def configure_for_performance(ds):\n",
    "    ds = ds.cache()\n",
    "    ds = ds.shuffle(buffer_size=1000)\n",
    "    ds = ds.batch(batch_size)\n",
    "    ds = ds.prefetch(buffer_size=AUTOTUNE)\n",
    "    return ds"
   ]
  },
  {
   "cell_type": "code",
   "execution_count": 13,
   "id": "cdaf0ee0",
   "metadata": {
    "ExecuteTime": {
     "end_time": "2022-07-17T08:40:54.855229Z",
     "start_time": "2022-07-17T08:40:54.848238Z"
    }
   },
   "outputs": [],
   "source": [
    "def build_eff_model():\n",
    "    # Top\n",
    "    x = layers.Input(shape=(img_height, img_width, 3))\n",
    "    y = base_model(x)\n",
    "\n",
    "    # Rebuild\n",
    "    y = layers.GlobalAveragePooling2D(name=\"avg_pool\")(y)\n",
    "    y = layers.BatchNormalization()(y)\n",
    "    top_dropout_rate = 0.2\n",
    "    y = layers.Dropout(top_dropout_rate, name=\"top_dropout\")(y)\n",
    "    y = layers.Dense(84, activation=\"softmax\", name=\"Pred\")(y)\n",
    "    \n",
    "    # compile\n",
    "    model = models.Model(x, y, name=\"EfficientNet\")\n",
    "    optimizer = optimizers.Adam(learning_rate=0.01)\n",
    "    loss = losses.SparseCategoricalCrossentropy()\n",
    "    model.compile(optimizer=optimizer, loss=loss, metrics=[\"acc\"])\n",
    "    return model"
   ]
  },
  {
   "cell_type": "code",
   "execution_count": 14,
   "id": "d40a1b01",
   "metadata": {
    "ExecuteTime": {
     "end_time": "2022-07-17T08:40:56.208787Z",
     "start_time": "2022-07-17T08:40:56.197784Z"
    }
   },
   "outputs": [],
   "source": [
    "class_names = np.array(sorted([item.name for item in data_dir.glob('*')]))"
   ]
  },
  {
   "cell_type": "code",
   "execution_count": 16,
   "id": "1b99dec7",
   "metadata": {
    "ExecuteTime": {
     "end_time": "2022-07-16T10:09:13.366043Z",
     "start_time": "2022-07-16T08:13:20.276725Z"
    },
    "scrolled": false
   },
   "outputs": [
    {
     "name": "stdout",
     "output_type": "stream",
     "text": [
      "Epoch 1/30\n",
      "330/330 [==============================] - 109s 290ms/step - loss: 1.4410 - acc: 0.7374 - val_loss: 0.1524 - val_acc: 0.9554\n",
      "Epoch 2/30\n",
      "330/330 [==============================] - 31s 94ms/step - loss: 0.2263 - acc: 0.9502 - val_loss: 0.2226 - val_acc: 0.9629\n",
      "Epoch 3/30\n",
      "330/330 [==============================] - 31s 94ms/step - loss: 0.2014 - acc: 0.9588 - val_loss: 0.1574 - val_acc: 0.9704\n",
      "Epoch 4/30\n",
      "330/330 [==============================] - 31s 94ms/step - loss: 0.1952 - acc: 0.9667 - val_loss: 0.1411 - val_acc: 0.9790\n",
      "Epoch 5/30\n",
      "330/330 [==============================] - 31s 94ms/step - loss: 0.1905 - acc: 0.9707 - val_loss: 0.1112 - val_acc: 0.9833\n",
      "Epoch 6/30\n",
      "330/330 [==============================] - 31s 95ms/step - loss: 0.1436 - acc: 0.9748 - val_loss: 0.1573 - val_acc: 0.9801\n",
      "Epoch 7/30\n",
      "330/330 [==============================] - 31s 94ms/step - loss: 0.1746 - acc: 0.9742 - val_loss: 0.1943 - val_acc: 0.9769\n",
      "Epoch 8/30\n",
      "330/330 [==============================] - 31s 94ms/step - loss: 0.2067 - acc: 0.9748 - val_loss: 0.2984 - val_acc: 0.9715\n",
      "Epoch 9/30\n",
      "330/330 [==============================] - 31s 94ms/step - loss: 0.2118 - acc: 0.9761 - val_loss: 0.1027 - val_acc: 0.9849\n",
      "Epoch 10/30\n",
      "330/330 [==============================] - 31s 95ms/step - loss: 0.0737 - acc: 0.9889 - val_loss: 0.0920 - val_acc: 0.9871\n",
      "Epoch 11/30\n",
      "330/330 [==============================] - 31s 95ms/step - loss: 0.0567 - acc: 0.9902 - val_loss: 0.0598 - val_acc: 0.9914\n",
      "Epoch 12/30\n",
      "330/330 [==============================] - 31s 95ms/step - loss: 0.0311 - acc: 0.9941 - val_loss: 0.0567 - val_acc: 0.9919\n",
      "Epoch 13/30\n",
      "330/330 [==============================] - 31s 95ms/step - loss: 0.0473 - acc: 0.9927 - val_loss: 0.0507 - val_acc: 0.9930\n",
      "Epoch 14/30\n",
      "330/330 [==============================] - 31s 95ms/step - loss: 0.0328 - acc: 0.9950 - val_loss: 0.0484 - val_acc: 0.9935\n",
      "Epoch 15/30\n",
      "330/330 [==============================] - 31s 95ms/step - loss: 0.0258 - acc: 0.9950 - val_loss: 0.0484 - val_acc: 0.9935\n",
      "Epoch 16/30\n",
      "330/330 [==============================] - 31s 95ms/step - loss: 0.0136 - acc: 0.9969 - val_loss: 0.0595 - val_acc: 0.9930\n",
      "Epoch 17/30\n",
      "330/330 [==============================] - 31s 95ms/step - loss: 0.0346 - acc: 0.9931 - val_loss: 0.0473 - val_acc: 0.9919\n",
      "Epoch 18/30\n",
      "330/330 [==============================] - 31s 95ms/step - loss: 0.0218 - acc: 0.9963 - val_loss: 0.0466 - val_acc: 0.9925\n",
      "Epoch 19/30\n",
      "330/330 [==============================] - 31s 95ms/step - loss: 0.0186 - acc: 0.9965 - val_loss: 0.0442 - val_acc: 0.9930\n",
      "Epoch 20/30\n",
      "330/330 [==============================] - 31s 95ms/step - loss: 0.0203 - acc: 0.9966 - val_loss: 0.0454 - val_acc: 0.9925\n",
      "Epoch 21/30\n",
      "330/330 [==============================] - 31s 95ms/step - loss: 0.0183 - acc: 0.9954 - val_loss: 0.0452 - val_acc: 0.9925\n",
      "Epoch 1/30\n",
      "330/330 [==============================] - 31s 95ms/step - loss: 0.0148 - acc: 0.9962 - val_loss: 0.0453 - val_acc: 0.9925\n",
      "Epoch 2/30\n",
      "330/330 [==============================] - 31s 95ms/step - loss: 0.0171 - acc: 0.9968 - val_loss: 0.0452 - val_acc: 0.9925\n",
      "Epoch 3/30\n",
      "330/330 [==============================] - 31s 95ms/step - loss: 0.0166 - acc: 0.9969 - val_loss: 0.0447 - val_acc: 0.9930\n",
      "Epoch 4/30\n",
      "330/330 [==============================] - 31s 95ms/step - loss: 0.0188 - acc: 0.9962 - val_loss: 0.0442 - val_acc: 0.9935\n",
      "Epoch 5/30\n",
      "330/330 [==============================] - 31s 95ms/step - loss: 0.0139 - acc: 0.9970 - val_loss: 0.0444 - val_acc: 0.9930\n",
      "Epoch 6/30\n",
      "330/330 [==============================] - 31s 95ms/step - loss: 0.0262 - acc: 0.9956 - val_loss: 0.0443 - val_acc: 0.9930\n",
      "Epoch 7/30\n",
      "330/330 [==============================] - 31s 95ms/step - loss: 0.0131 - acc: 0.9960 - val_loss: 0.0436 - val_acc: 0.9930\n",
      "Epoch 8/30\n",
      "330/330 [==============================] - 31s 95ms/step - loss: 0.0143 - acc: 0.9968 - val_loss: 0.0440 - val_acc: 0.9925\n",
      "Epoch 9/30\n",
      "330/330 [==============================] - 31s 95ms/step - loss: 0.0123 - acc: 0.9972 - val_loss: 0.0441 - val_acc: 0.9930\n",
      "Epoch 10/30\n",
      "330/330 [==============================] - 31s 95ms/step - loss: 0.0221 - acc: 0.9959 - val_loss: 0.0451 - val_acc: 0.9925\n",
      "Epoch 11/30\n",
      "330/330 [==============================] - 31s 95ms/step - loss: 0.0216 - acc: 0.9963 - val_loss: 0.0448 - val_acc: 0.9925\n",
      "Downloading data from https://storage.googleapis.com/keras-applications/efficientnetb2_notop.h5\n",
      "31793152/31790344 [==============================] - 3s 0us/step\n",
      "Epoch 1/30\n",
      "330/330 [==============================] - 132s 332ms/step - loss: 1.5096 - acc: 0.7351 - val_loss: 0.2051 - val_acc: 0.9554\n",
      "Epoch 2/30\n",
      "330/330 [==============================] - 40s 122ms/step - loss: 0.2821 - acc: 0.9471 - val_loss: 0.1696 - val_acc: 0.9688\n",
      "Epoch 3/30\n",
      "330/330 [==============================] - 40s 122ms/step - loss: 0.2760 - acc: 0.9510 - val_loss: 0.1191 - val_acc: 0.9817\n",
      "Epoch 4/30\n",
      "330/330 [==============================] - 40s 122ms/step - loss: 0.2225 - acc: 0.9635 - val_loss: 0.1534 - val_acc: 0.9763\n",
      "Epoch 5/30\n",
      "330/330 [==============================] - 40s 122ms/step - loss: 0.2249 - acc: 0.9642 - val_loss: 0.1805 - val_acc: 0.9796\n",
      "Epoch 6/30\n",
      "330/330 [==============================] - 40s 122ms/step - loss: 0.1904 - acc: 0.9730 - val_loss: 0.0880 - val_acc: 0.9855\n",
      "Epoch 7/30\n",
      "330/330 [==============================] - 40s 122ms/step - loss: 0.1862 - acc: 0.9729 - val_loss: 0.1029 - val_acc: 0.9855\n",
      "Epoch 8/30\n",
      "330/330 [==============================] - 40s 122ms/step - loss: 0.2567 - acc: 0.9691 - val_loss: 0.1424 - val_acc: 0.9779\n",
      "Epoch 9/30\n",
      "330/330 [==============================] - 40s 122ms/step - loss: 0.1522 - acc: 0.9774 - val_loss: 0.1289 - val_acc: 0.9839\n",
      "Epoch 10/30\n",
      "330/330 [==============================] - 40s 122ms/step - loss: 0.1913 - acc: 0.9789 - val_loss: 0.0501 - val_acc: 0.9925\n",
      "Epoch 11/30\n",
      "330/330 [==============================] - 40s 122ms/step - loss: 0.0707 - acc: 0.9888 - val_loss: 0.0398 - val_acc: 0.9941\n",
      "Epoch 12/30\n",
      "330/330 [==============================] - 40s 122ms/step - loss: 0.0476 - acc: 0.9913 - val_loss: 0.0347 - val_acc: 0.9957\n",
      "Epoch 13/30\n",
      "330/330 [==============================] - 40s 122ms/step - loss: 0.0492 - acc: 0.9927 - val_loss: 0.0360 - val_acc: 0.9957\n",
      "Epoch 14/30\n",
      "330/330 [==============================] - 40s 122ms/step - loss: 0.0343 - acc: 0.9930 - val_loss: 0.0369 - val_acc: 0.9952\n",
      "Epoch 15/30\n",
      "330/330 [==============================] - 40s 122ms/step - loss: 0.0306 - acc: 0.9950 - val_loss: 0.0366 - val_acc: 0.9962\n",
      "Epoch 16/30\n",
      "330/330 [==============================] - 40s 122ms/step - loss: 0.0397 - acc: 0.9933 - val_loss: 0.0332 - val_acc: 0.9952\n",
      "Epoch 17/30\n",
      "330/330 [==============================] - 40s 122ms/step - loss: 0.0273 - acc: 0.9944 - val_loss: 0.0351 - val_acc: 0.9952\n",
      "Epoch 18/30\n",
      "330/330 [==============================] - 40s 122ms/step - loss: 0.0290 - acc: 0.9958 - val_loss: 0.0368 - val_acc: 0.9946\n",
      "Epoch 19/30\n",
      "330/330 [==============================] - 40s 122ms/step - loss: 0.0431 - acc: 0.9929 - val_loss: 0.0359 - val_acc: 0.9952\n",
      "Epoch 20/30\n",
      "330/330 [==============================] - 40s 122ms/step - loss: 0.0272 - acc: 0.9955 - val_loss: 0.0338 - val_acc: 0.9946\n",
      "Epoch 21/30\n",
      "330/330 [==============================] - 40s 121ms/step - loss: 0.0221 - acc: 0.9961 - val_loss: 0.0322 - val_acc: 0.9952\n",
      "Epoch 22/30\n",
      "330/330 [==============================] - 40s 122ms/step - loss: 0.0275 - acc: 0.9945 - val_loss: 0.0322 - val_acc: 0.9952\n",
      "Epoch 1/30\n",
      "330/330 [==============================] - 40s 122ms/step - loss: 0.0210 - acc: 0.9965 - val_loss: 0.0319 - val_acc: 0.9952\n",
      "Epoch 2/30\n",
      "330/330 [==============================] - 40s 122ms/step - loss: 0.0214 - acc: 0.9964 - val_loss: 0.0321 - val_acc: 0.9952\n",
      "Epoch 3/30\n",
      "330/330 [==============================] - 40s 122ms/step - loss: 0.0128 - acc: 0.9971 - val_loss: 0.0321 - val_acc: 0.9952\n",
      "Epoch 4/30\n",
      "330/330 [==============================] - 40s 122ms/step - loss: 0.0195 - acc: 0.9961 - val_loss: 0.0324 - val_acc: 0.9952\n",
      "Epoch 5/30\n",
      "330/330 [==============================] - 40s 122ms/step - loss: 0.0309 - acc: 0.9950 - val_loss: 0.0313 - val_acc: 0.9952\n",
      "Epoch 6/30\n",
      "330/330 [==============================] - 40s 122ms/step - loss: 0.0220 - acc: 0.9958 - val_loss: 0.0326 - val_acc: 0.9952\n",
      "Epoch 7/30\n",
      "330/330 [==============================] - 40s 122ms/step - loss: 0.0254 - acc: 0.9948 - val_loss: 0.0322 - val_acc: 0.9952\n",
      "Epoch 8/30\n",
      "330/330 [==============================] - 40s 122ms/step - loss: 0.0150 - acc: 0.9973 - val_loss: 0.0321 - val_acc: 0.9952\n",
      "Downloading data from https://storage.googleapis.com/keras-applications/efficientnetb3_notop.h5\n",
      "43941888/43941136 [==============================] - 4s 0us/step\n",
      "Epoch 1/30\n",
      "330/330 [==============================] - 150s 378ms/step - loss: 1.6247 - acc: 0.7217 - val_loss: 0.2291 - val_acc: 0.9527\n",
      "Epoch 2/30\n",
      "330/330 [==============================] - 66s 200ms/step - loss: 0.2939 - acc: 0.9472 - val_loss: 0.2031 - val_acc: 0.9618\n",
      "Epoch 3/30\n",
      "330/330 [==============================] - 66s 200ms/step - loss: 0.2344 - acc: 0.9546 - val_loss: 0.1403 - val_acc: 0.9774\n",
      "Epoch 4/30\n",
      "330/330 [==============================] - 66s 200ms/step - loss: 0.2459 - acc: 0.9597 - val_loss: 0.1214 - val_acc: 0.9753\n",
      "Epoch 5/30\n",
      "330/330 [==============================] - 66s 200ms/step - loss: 0.1738 - acc: 0.9699 - val_loss: 0.2180 - val_acc: 0.9747\n",
      "Epoch 6/30\n",
      "330/330 [==============================] - 66s 200ms/step - loss: 0.2469 - acc: 0.9695 - val_loss: 0.2060 - val_acc: 0.9693\n",
      "Epoch 7/30\n",
      "330/330 [==============================] - 66s 200ms/step - loss: 0.1816 - acc: 0.9763 - val_loss: 0.0781 - val_acc: 0.9898\n",
      "Epoch 8/30\n",
      "330/330 [==============================] - 66s 201ms/step - loss: 0.0682 - acc: 0.9889 - val_loss: 0.0706 - val_acc: 0.9914\n",
      "Epoch 9/30\n",
      "330/330 [==============================] - 66s 201ms/step - loss: 0.0557 - acc: 0.9901 - val_loss: 0.0684 - val_acc: 0.9919\n",
      "Epoch 10/30\n",
      "330/330 [==============================] - 66s 201ms/step - loss: 0.0297 - acc: 0.9937 - val_loss: 0.0634 - val_acc: 0.9914\n",
      "Epoch 11/30\n",
      "330/330 [==============================] - 66s 201ms/step - loss: 0.0346 - acc: 0.9946 - val_loss: 0.0668 - val_acc: 0.9903\n",
      "Epoch 12/30\n",
      "330/330 [==============================] - 66s 201ms/step - loss: 0.0382 - acc: 0.9929 - val_loss: 0.0434 - val_acc: 0.9919\n",
      "Epoch 13/30\n",
      "330/330 [==============================] - 66s 201ms/step - loss: 0.0346 - acc: 0.9941 - val_loss: 0.0433 - val_acc: 0.9919\n",
      "Epoch 14/30\n",
      "330/330 [==============================] - 66s 201ms/step - loss: 0.0232 - acc: 0.9945 - val_loss: 0.0423 - val_acc: 0.9925\n",
      "Epoch 15/30\n",
      "330/330 [==============================] - 66s 202ms/step - loss: 0.0252 - acc: 0.9945 - val_loss: 0.0429 - val_acc: 0.9919\n",
      "Epoch 16/30\n",
      "330/330 [==============================] - 67s 202ms/step - loss: 0.0319 - acc: 0.9944 - val_loss: 0.0435 - val_acc: 0.9919\n",
      "Epoch 17/30\n",
      "330/330 [==============================] - 66s 201ms/step - loss: 0.0159 - acc: 0.9960 - val_loss: 0.0442 - val_acc: 0.9919\n",
      "Epoch 18/30\n",
      "330/330 [==============================] - 66s 202ms/step - loss: 0.0186 - acc: 0.9959 - val_loss: 0.0438 - val_acc: 0.9919\n",
      "Epoch 19/30\n",
      "330/330 [==============================] - 66s 201ms/step - loss: 0.0258 - acc: 0.9958 - val_loss: 0.0442 - val_acc: 0.9919\n",
      "Epoch 20/30\n",
      "330/330 [==============================] - 66s 201ms/step - loss: 0.0194 - acc: 0.9960 - val_loss: 0.0441 - val_acc: 0.9930\n",
      "Epoch 21/30\n",
      "330/330 [==============================] - 66s 202ms/step - loss: 0.0304 - acc: 0.9952 - val_loss: 0.0440 - val_acc: 0.9925\n",
      "Epoch 22/30\n",
      "330/330 [==============================] - 67s 202ms/step - loss: 0.0220 - acc: 0.9954 - val_loss: 0.0446 - val_acc: 0.9914\n",
      "Epoch 23/30\n",
      "330/330 [==============================] - 66s 202ms/step - loss: 0.0147 - acc: 0.9965 - val_loss: 0.0441 - val_acc: 0.9919\n",
      "Epoch 24/30\n",
      "330/330 [==============================] - 66s 201ms/step - loss: 0.0206 - acc: 0.9946 - val_loss: 0.0440 - val_acc: 0.9930\n",
      "Epoch 25/30\n",
      "330/330 [==============================] - 67s 202ms/step - loss: 0.0347 - acc: 0.9948 - val_loss: 0.0443 - val_acc: 0.9925\n",
      "Epoch 26/30\n",
      "330/330 [==============================] - 67s 202ms/step - loss: 0.0300 - acc: 0.9955 - val_loss: 0.0441 - val_acc: 0.9919\n",
      "Epoch 27/30\n",
      "330/330 [==============================] - 67s 202ms/step - loss: 0.0204 - acc: 0.9952 - val_loss: 0.0444 - val_acc: 0.9925\n",
      "Epoch 1/30\n",
      "330/330 [==============================] - 67s 202ms/step - loss: 0.0176 - acc: 0.9961 - val_loss: 0.0441 - val_acc: 0.9919\n",
      "Epoch 2/30\n",
      "330/330 [==============================] - 67s 202ms/step - loss: 0.0231 - acc: 0.9953 - val_loss: 0.0444 - val_acc: 0.9930\n",
      "Epoch 3/30\n",
      "330/330 [==============================] - 66s 201ms/step - loss: 0.0194 - acc: 0.9960 - val_loss: 0.0448 - val_acc: 0.9930\n",
      "Epoch 4/30\n",
      "330/330 [==============================] - 66s 200ms/step - loss: 0.0162 - acc: 0.9962 - val_loss: 0.0440 - val_acc: 0.9925\n",
      "Epoch 5/30\n",
      "330/330 [==============================] - 66s 201ms/step - loss: 0.0280 - acc: 0.9943 - val_loss: 0.0440 - val_acc: 0.9925\n",
      "Epoch 6/30\n",
      "330/330 [==============================] - 66s 200ms/step - loss: 0.0245 - acc: 0.9945 - val_loss: 0.0441 - val_acc: 0.9925\n",
      "Epoch 7/30\n",
      "330/330 [==============================] - 66s 200ms/step - loss: 0.0237 - acc: 0.9953 - val_loss: 0.0445 - val_acc: 0.9925\n",
      "Epoch 8/30\n",
      "330/330 [==============================] - 66s 200ms/step - loss: 0.0175 - acc: 0.9968 - val_loss: 0.0442 - val_acc: 0.9930\n",
      "Epoch 9/30\n",
      "330/330 [==============================] - 66s 199ms/step - loss: 0.0179 - acc: 0.9964 - val_loss: 0.0441 - val_acc: 0.9919\n",
      "Downloading data from https://storage.googleapis.com/keras-applications/efficientnetb4_notop.h5\n",
      "71688192/71686520 [==============================] - 7s 0us/step\n",
      "Epoch 1/30\n",
      "330/330 [==============================] - 219s 587ms/step - loss: 1.9265 - acc: 0.7232 - val_loss: 0.1715 - val_acc: 0.9521\n",
      "Epoch 2/30\n",
      "330/330 [==============================] - 140s 425ms/step - loss: 0.3464 - acc: 0.9404 - val_loss: 0.1672 - val_acc: 0.9677\n",
      "Epoch 3/30\n",
      "330/330 [==============================] - 141s 427ms/step - loss: 0.2987 - acc: 0.9544 - val_loss: 0.1571 - val_acc: 0.9742\n",
      "Epoch 4/30\n",
      "330/330 [==============================] - 141s 428ms/step - loss: 0.2627 - acc: 0.9630 - val_loss: 0.1766 - val_acc: 0.9747\n",
      "Epoch 5/30\n",
      "330/330 [==============================] - 141s 429ms/step - loss: 0.2176 - acc: 0.9685 - val_loss: 0.2210 - val_acc: 0.9683\n",
      "Epoch 6/30\n",
      "330/330 [==============================] - 142s 429ms/step - loss: 0.2722 - acc: 0.9673 - val_loss: 0.1414 - val_acc: 0.9812\n",
      "Epoch 7/30\n",
      "330/330 [==============================] - 141s 429ms/step - loss: 0.1980 - acc: 0.9750 - val_loss: 0.1479 - val_acc: 0.9817\n",
      "Epoch 8/30\n",
      "330/330 [==============================] - 141s 428ms/step - loss: 0.2145 - acc: 0.9739 - val_loss: 0.1711 - val_acc: 0.9779\n",
      "Epoch 9/30\n",
      "330/330 [==============================] - 141s 428ms/step - loss: 0.3695 - acc: 0.9671 - val_loss: 0.3260 - val_acc: 0.9742\n",
      "Epoch 10/30\n",
      "330/330 [==============================] - 141s 428ms/step - loss: 0.2208 - acc: 0.9790 - val_loss: 0.2872 - val_acc: 0.9720\n",
      "Epoch 11/30\n",
      "330/330 [==============================] - 141s 428ms/step - loss: 0.1817 - acc: 0.9819 - val_loss: 0.0836 - val_acc: 0.9914\n",
      "Epoch 12/30\n",
      "330/330 [==============================] - 141s 428ms/step - loss: 0.0649 - acc: 0.9923 - val_loss: 0.0615 - val_acc: 0.9903\n",
      "Epoch 13/30\n",
      "330/330 [==============================] - 141s 428ms/step - loss: 0.0431 - acc: 0.9928 - val_loss: 0.0540 - val_acc: 0.9914\n",
      "Epoch 14/30\n",
      "330/330 [==============================] - 141s 427ms/step - loss: 0.0338 - acc: 0.9958 - val_loss: 0.0508 - val_acc: 0.9914\n",
      "Epoch 15/30\n",
      " 18/330 [>.............................] - ETA: 1:53 - loss: 2.3693e-04 - acc: 1.0000"
     ]
    },
    {
     "ename": "KeyboardInterrupt",
     "evalue": "",
     "output_type": "error",
     "traceback": [
      "\u001b[1;31m---------------------------------------------------------------------------\u001b[0m",
      "\u001b[1;31mKeyboardInterrupt\u001b[0m                         Traceback (most recent call last)",
      "\u001b[1;32m~\\AppData\\Local\\Temp\\ipykernel_14324\\3364218576.py\u001b[0m in \u001b[0;36m<module>\u001b[1;34m\u001b[0m\n\u001b[0;32m     20\u001b[0m     \u001b[0mearly_stopping\u001b[0m \u001b[1;33m=\u001b[0m \u001b[0mcallbacks\u001b[0m\u001b[1;33m.\u001b[0m\u001b[0mEarlyStopping\u001b[0m\u001b[1;33m(\u001b[0m\u001b[0mmonitor\u001b[0m\u001b[1;33m=\u001b[0m\u001b[1;34m\"val_acc\"\u001b[0m\u001b[1;33m,\u001b[0m \u001b[0mpatience\u001b[0m\u001b[1;33m=\u001b[0m\u001b[1;36m7\u001b[0m\u001b[1;33m)\u001b[0m\u001b[1;33m\u001b[0m\u001b[1;33m\u001b[0m\u001b[0m\n\u001b[0;32m     21\u001b[0m     \u001b[0mreduce_lr\u001b[0m \u001b[1;33m=\u001b[0m \u001b[0mcallbacks\u001b[0m\u001b[1;33m.\u001b[0m\u001b[0mReduceLROnPlateau\u001b[0m\u001b[1;33m(\u001b[0m\u001b[0mmonitor\u001b[0m\u001b[1;33m=\u001b[0m\u001b[1;34m\"val_acc\"\u001b[0m\u001b[1;33m,\u001b[0m \u001b[0mpatience\u001b[0m\u001b[1;33m=\u001b[0m\u001b[1;36m3\u001b[0m\u001b[1;33m,\u001b[0m \u001b[0mfactor\u001b[0m\u001b[1;33m=\u001b[0m\u001b[1;36m0.1\u001b[0m\u001b[1;33m)\u001b[0m\u001b[1;33m\u001b[0m\u001b[1;33m\u001b[0m\u001b[0m\n\u001b[1;32m---> 22\u001b[1;33m     \u001b[0mmodel\u001b[0m\u001b[1;33m.\u001b[0m\u001b[0mfit\u001b[0m\u001b[1;33m(\u001b[0m\u001b[0mtrain_ds\u001b[0m\u001b[1;33m,\u001b[0m\u001b[0mepochs\u001b[0m\u001b[1;33m=\u001b[0m\u001b[1;36m30\u001b[0m\u001b[1;33m,\u001b[0m\u001b[0mvalidation_data\u001b[0m\u001b[1;33m=\u001b[0m\u001b[0mvalid_ds\u001b[0m\u001b[1;33m,\u001b[0m\u001b[0mcallbacks\u001b[0m\u001b[1;33m=\u001b[0m\u001b[1;33m[\u001b[0m\u001b[0mckp\u001b[0m\u001b[1;33m,\u001b[0m \u001b[0mearly_stopping\u001b[0m\u001b[1;33m,\u001b[0m \u001b[0mreduce_lr\u001b[0m\u001b[1;33m]\u001b[0m\u001b[1;33m)\u001b[0m\u001b[1;33m\u001b[0m\u001b[1;33m\u001b[0m\u001b[0m\n\u001b[0m\u001b[0;32m     23\u001b[0m     \u001b[1;32mfor\u001b[0m \u001b[0mlayer\u001b[0m \u001b[1;32min\u001b[0m \u001b[0mbase_model\u001b[0m\u001b[1;33m.\u001b[0m\u001b[0mlayers\u001b[0m\u001b[1;33m:\u001b[0m\u001b[1;33m\u001b[0m\u001b[1;33m\u001b[0m\u001b[0m\n\u001b[0;32m     24\u001b[0m         \u001b[1;32mif\u001b[0m \u001b[1;34m\"Conv2D\"\u001b[0m \u001b[1;32min\u001b[0m \u001b[0mstr\u001b[0m\u001b[1;33m(\u001b[0m\u001b[0mlayer\u001b[0m\u001b[1;33m)\u001b[0m\u001b[1;33m:\u001b[0m\u001b[1;33m\u001b[0m\u001b[1;33m\u001b[0m\u001b[0m\n",
      "\u001b[1;32m~\\miniconda3\\envs\\deep_tf\\lib\\site-packages\\tensorflow\\python\\keras\\engine\\training.py\u001b[0m in \u001b[0;36mfit\u001b[1;34m(self, x, y, batch_size, epochs, verbose, callbacks, validation_split, validation_data, shuffle, class_weight, sample_weight, initial_epoch, steps_per_epoch, validation_steps, validation_batch_size, validation_freq, max_queue_size, workers, use_multiprocessing)\u001b[0m\n\u001b[0;32m   1098\u001b[0m                 _r=1):\n\u001b[0;32m   1099\u001b[0m               \u001b[0mcallbacks\u001b[0m\u001b[1;33m.\u001b[0m\u001b[0mon_train_batch_begin\u001b[0m\u001b[1;33m(\u001b[0m\u001b[0mstep\u001b[0m\u001b[1;33m)\u001b[0m\u001b[1;33m\u001b[0m\u001b[1;33m\u001b[0m\u001b[0m\n\u001b[1;32m-> 1100\u001b[1;33m               \u001b[0mtmp_logs\u001b[0m \u001b[1;33m=\u001b[0m \u001b[0mself\u001b[0m\u001b[1;33m.\u001b[0m\u001b[0mtrain_function\u001b[0m\u001b[1;33m(\u001b[0m\u001b[0miterator\u001b[0m\u001b[1;33m)\u001b[0m\u001b[1;33m\u001b[0m\u001b[1;33m\u001b[0m\u001b[0m\n\u001b[0m\u001b[0;32m   1101\u001b[0m               \u001b[1;32mif\u001b[0m \u001b[0mdata_handler\u001b[0m\u001b[1;33m.\u001b[0m\u001b[0mshould_sync\u001b[0m\u001b[1;33m:\u001b[0m\u001b[1;33m\u001b[0m\u001b[1;33m\u001b[0m\u001b[0m\n\u001b[0;32m   1102\u001b[0m                 \u001b[0mcontext\u001b[0m\u001b[1;33m.\u001b[0m\u001b[0masync_wait\u001b[0m\u001b[1;33m(\u001b[0m\u001b[1;33m)\u001b[0m\u001b[1;33m\u001b[0m\u001b[1;33m\u001b[0m\u001b[0m\n",
      "\u001b[1;32m~\\miniconda3\\envs\\deep_tf\\lib\\site-packages\\tensorflow\\python\\eager\\def_function.py\u001b[0m in \u001b[0;36m__call__\u001b[1;34m(self, *args, **kwds)\u001b[0m\n\u001b[0;32m    826\u001b[0m     \u001b[0mtracing_count\u001b[0m \u001b[1;33m=\u001b[0m \u001b[0mself\u001b[0m\u001b[1;33m.\u001b[0m\u001b[0mexperimental_get_tracing_count\u001b[0m\u001b[1;33m(\u001b[0m\u001b[1;33m)\u001b[0m\u001b[1;33m\u001b[0m\u001b[1;33m\u001b[0m\u001b[0m\n\u001b[0;32m    827\u001b[0m     \u001b[1;32mwith\u001b[0m \u001b[0mtrace\u001b[0m\u001b[1;33m.\u001b[0m\u001b[0mTrace\u001b[0m\u001b[1;33m(\u001b[0m\u001b[0mself\u001b[0m\u001b[1;33m.\u001b[0m\u001b[0m_name\u001b[0m\u001b[1;33m)\u001b[0m \u001b[1;32mas\u001b[0m \u001b[0mtm\u001b[0m\u001b[1;33m:\u001b[0m\u001b[1;33m\u001b[0m\u001b[1;33m\u001b[0m\u001b[0m\n\u001b[1;32m--> 828\u001b[1;33m       \u001b[0mresult\u001b[0m \u001b[1;33m=\u001b[0m \u001b[0mself\u001b[0m\u001b[1;33m.\u001b[0m\u001b[0m_call\u001b[0m\u001b[1;33m(\u001b[0m\u001b[1;33m*\u001b[0m\u001b[0margs\u001b[0m\u001b[1;33m,\u001b[0m \u001b[1;33m**\u001b[0m\u001b[0mkwds\u001b[0m\u001b[1;33m)\u001b[0m\u001b[1;33m\u001b[0m\u001b[1;33m\u001b[0m\u001b[0m\n\u001b[0m\u001b[0;32m    829\u001b[0m       \u001b[0mcompiler\u001b[0m \u001b[1;33m=\u001b[0m \u001b[1;34m\"xla\"\u001b[0m \u001b[1;32mif\u001b[0m \u001b[0mself\u001b[0m\u001b[1;33m.\u001b[0m\u001b[0m_experimental_compile\u001b[0m \u001b[1;32melse\u001b[0m \u001b[1;34m\"nonXla\"\u001b[0m\u001b[1;33m\u001b[0m\u001b[1;33m\u001b[0m\u001b[0m\n\u001b[0;32m    830\u001b[0m       \u001b[0mnew_tracing_count\u001b[0m \u001b[1;33m=\u001b[0m \u001b[0mself\u001b[0m\u001b[1;33m.\u001b[0m\u001b[0mexperimental_get_tracing_count\u001b[0m\u001b[1;33m(\u001b[0m\u001b[1;33m)\u001b[0m\u001b[1;33m\u001b[0m\u001b[1;33m\u001b[0m\u001b[0m\n",
      "\u001b[1;32m~\\miniconda3\\envs\\deep_tf\\lib\\site-packages\\tensorflow\\python\\eager\\def_function.py\u001b[0m in \u001b[0;36m_call\u001b[1;34m(self, *args, **kwds)\u001b[0m\n\u001b[0;32m    853\u001b[0m       \u001b[1;31m# In this case we have created variables on the first call, so we run the\u001b[0m\u001b[1;33m\u001b[0m\u001b[1;33m\u001b[0m\u001b[1;33m\u001b[0m\u001b[0m\n\u001b[0;32m    854\u001b[0m       \u001b[1;31m# defunned version which is guaranteed to never create variables.\u001b[0m\u001b[1;33m\u001b[0m\u001b[1;33m\u001b[0m\u001b[1;33m\u001b[0m\u001b[0m\n\u001b[1;32m--> 855\u001b[1;33m       \u001b[1;32mreturn\u001b[0m \u001b[0mself\u001b[0m\u001b[1;33m.\u001b[0m\u001b[0m_stateless_fn\u001b[0m\u001b[1;33m(\u001b[0m\u001b[1;33m*\u001b[0m\u001b[0margs\u001b[0m\u001b[1;33m,\u001b[0m \u001b[1;33m**\u001b[0m\u001b[0mkwds\u001b[0m\u001b[1;33m)\u001b[0m  \u001b[1;31m# pylint: disable=not-callable\u001b[0m\u001b[1;33m\u001b[0m\u001b[1;33m\u001b[0m\u001b[0m\n\u001b[0m\u001b[0;32m    856\u001b[0m     \u001b[1;32melif\u001b[0m \u001b[0mself\u001b[0m\u001b[1;33m.\u001b[0m\u001b[0m_stateful_fn\u001b[0m \u001b[1;32mis\u001b[0m \u001b[1;32mnot\u001b[0m \u001b[1;32mNone\u001b[0m\u001b[1;33m:\u001b[0m\u001b[1;33m\u001b[0m\u001b[1;33m\u001b[0m\u001b[0m\n\u001b[0;32m    857\u001b[0m       \u001b[1;31m# Release the lock early so that multiple threads can perform the call\u001b[0m\u001b[1;33m\u001b[0m\u001b[1;33m\u001b[0m\u001b[1;33m\u001b[0m\u001b[0m\n",
      "\u001b[1;32m~\\miniconda3\\envs\\deep_tf\\lib\\site-packages\\tensorflow\\python\\eager\\function.py\u001b[0m in \u001b[0;36m__call__\u001b[1;34m(self, *args, **kwargs)\u001b[0m\n\u001b[0;32m   2941\u001b[0m        filtered_flat_args) = self._maybe_define_function(args, kwargs)\n\u001b[0;32m   2942\u001b[0m     return graph_function._call_flat(\n\u001b[1;32m-> 2943\u001b[1;33m         filtered_flat_args, captured_inputs=graph_function.captured_inputs)  # pylint: disable=protected-access\n\u001b[0m\u001b[0;32m   2944\u001b[0m \u001b[1;33m\u001b[0m\u001b[0m\n\u001b[0;32m   2945\u001b[0m   \u001b[1;33m@\u001b[0m\u001b[0mproperty\u001b[0m\u001b[1;33m\u001b[0m\u001b[1;33m\u001b[0m\u001b[0m\n",
      "\u001b[1;32m~\\miniconda3\\envs\\deep_tf\\lib\\site-packages\\tensorflow\\python\\eager\\function.py\u001b[0m in \u001b[0;36m_call_flat\u001b[1;34m(self, args, captured_inputs, cancellation_manager)\u001b[0m\n\u001b[0;32m   1917\u001b[0m       \u001b[1;31m# No tape is watching; skip to running the function.\u001b[0m\u001b[1;33m\u001b[0m\u001b[1;33m\u001b[0m\u001b[1;33m\u001b[0m\u001b[0m\n\u001b[0;32m   1918\u001b[0m       return self._build_call_outputs(self._inference_function.call(\n\u001b[1;32m-> 1919\u001b[1;33m           ctx, args, cancellation_manager=cancellation_manager))\n\u001b[0m\u001b[0;32m   1920\u001b[0m     forward_backward = self._select_forward_and_backward_functions(\n\u001b[0;32m   1921\u001b[0m         \u001b[0margs\u001b[0m\u001b[1;33m,\u001b[0m\u001b[1;33m\u001b[0m\u001b[1;33m\u001b[0m\u001b[0m\n",
      "\u001b[1;32m~\\miniconda3\\envs\\deep_tf\\lib\\site-packages\\tensorflow\\python\\eager\\function.py\u001b[0m in \u001b[0;36mcall\u001b[1;34m(self, ctx, args, cancellation_manager)\u001b[0m\n\u001b[0;32m    558\u001b[0m               \u001b[0minputs\u001b[0m\u001b[1;33m=\u001b[0m\u001b[0margs\u001b[0m\u001b[1;33m,\u001b[0m\u001b[1;33m\u001b[0m\u001b[1;33m\u001b[0m\u001b[0m\n\u001b[0;32m    559\u001b[0m               \u001b[0mattrs\u001b[0m\u001b[1;33m=\u001b[0m\u001b[0mattrs\u001b[0m\u001b[1;33m,\u001b[0m\u001b[1;33m\u001b[0m\u001b[1;33m\u001b[0m\u001b[0m\n\u001b[1;32m--> 560\u001b[1;33m               ctx=ctx)\n\u001b[0m\u001b[0;32m    561\u001b[0m         \u001b[1;32melse\u001b[0m\u001b[1;33m:\u001b[0m\u001b[1;33m\u001b[0m\u001b[1;33m\u001b[0m\u001b[0m\n\u001b[0;32m    562\u001b[0m           outputs = execute.execute_with_cancellation(\n",
      "\u001b[1;32m~\\miniconda3\\envs\\deep_tf\\lib\\site-packages\\tensorflow\\python\\eager\\execute.py\u001b[0m in \u001b[0;36mquick_execute\u001b[1;34m(op_name, num_outputs, inputs, attrs, ctx, name)\u001b[0m\n\u001b[0;32m     58\u001b[0m     \u001b[0mctx\u001b[0m\u001b[1;33m.\u001b[0m\u001b[0mensure_initialized\u001b[0m\u001b[1;33m(\u001b[0m\u001b[1;33m)\u001b[0m\u001b[1;33m\u001b[0m\u001b[1;33m\u001b[0m\u001b[0m\n\u001b[0;32m     59\u001b[0m     tensors = pywrap_tfe.TFE_Py_Execute(ctx._handle, device_name, op_name,\n\u001b[1;32m---> 60\u001b[1;33m                                         inputs, attrs, num_outputs)\n\u001b[0m\u001b[0;32m     61\u001b[0m   \u001b[1;32mexcept\u001b[0m \u001b[0mcore\u001b[0m\u001b[1;33m.\u001b[0m\u001b[0m_NotOkStatusException\u001b[0m \u001b[1;32mas\u001b[0m \u001b[0me\u001b[0m\u001b[1;33m:\u001b[0m\u001b[1;33m\u001b[0m\u001b[1;33m\u001b[0m\u001b[0m\n\u001b[0;32m     62\u001b[0m     \u001b[1;32mif\u001b[0m \u001b[0mname\u001b[0m \u001b[1;32mis\u001b[0m \u001b[1;32mnot\u001b[0m \u001b[1;32mNone\u001b[0m\u001b[1;33m:\u001b[0m\u001b[1;33m\u001b[0m\u001b[1;33m\u001b[0m\u001b[0m\n",
      "\u001b[1;31mKeyboardInterrupt\u001b[0m: "
     ]
    }
   ],
   "source": [
    "batch_size = 32\n",
    "AUTOTUNE = tf.data.experimental.AUTOTUNE\n",
    "INPUT_SIZE = [240, 260, 300, 380, 456, 528]\n",
    "MODEL = [EfficientNetB1, EfficientNetB2, EfficientNetB3, EfficientNetB4, EfficientNetB5, EfficientNetB6]\n",
    "\n",
    "for size, M in zip(INPUT_SIZE, MODEL):\n",
    "    SIZE = size\n",
    "    img_height = SIZE\n",
    "    img_width = SIZE\n",
    "    image_size=(img_height, img_width)\n",
    "    train_ds = train_.map(process_path, num_parallel_calls=AUTOTUNE)\n",
    "    valid_ds = valid_.map(process_path, num_parallel_calls=AUTOTUNE)\n",
    "    train_ds = configure_for_performance(train_ds)\n",
    "    valid_ds = configure_for_performance(valid_ds)\n",
    "    base_model = M(input_shape=(img_height,img_width,3), include_top=False, weights='imagenet')\n",
    "    base_model.trainable = False\n",
    "    model = build_eff_model()\n",
    "    ckp = callbacks.ModelCheckpoint(f\"model_{size}.h5\", save_best_only=True,  monitor=\"val_acc\")\n",
    "    ckp2 = callbacks.ModelCheckpoint(f\"model_{size}_2.h5\", save_best_only=True,  monitor=\"val_acc\")\n",
    "    early_stopping = callbacks.EarlyStopping(monitor=\"val_acc\", patience=7)\n",
    "    reduce_lr = callbacks.ReduceLROnPlateau(monitor=\"val_acc\", patience=3, factor=0.1)\n",
    "    model.fit(train_ds,epochs=30,validation_data=valid_ds,callbacks=[ckp, early_stopping, reduce_lr])\n",
    "    for layer in base_model.layers:\n",
    "        if \"Conv2D\" in str(layer):\n",
    "            layer.trainable = True\n",
    "    model.fit(train_ds,epochs=30,validation_data=valid_ds,callbacks=[ckp2, early_stopping, reduce_lr])"
   ]
  },
  {
   "cell_type": "markdown",
   "id": "9ebb04a4",
   "metadata": {},
   "source": [
    "380 부터 다시"
   ]
  },
  {
   "cell_type": "code",
   "execution_count": 24,
   "id": "0c64629a",
   "metadata": {
    "ExecuteTime": {
     "end_time": "2022-07-17T09:54:53.645324Z",
     "start_time": "2022-07-17T08:49:49.368960Z"
    }
   },
   "outputs": [
    {
     "name": "stdout",
     "output_type": "stream",
     "text": [
      "Epoch 1/30\n",
      "330/330 [==============================] - 212s 550ms/step - loss: 1.8560 - acc: 0.7257 - val_loss: 0.2579 - val_acc: 0.9478\n",
      "Epoch 2/30\n",
      "330/330 [==============================] - 140s 425ms/step - loss: 0.3804 - acc: 0.9369 - val_loss: 0.2313 - val_acc: 0.9645\n",
      "Epoch 3/30\n",
      "330/330 [==============================] - 141s 429ms/step - loss: 0.2815 - acc: 0.9569 - val_loss: 0.2180 - val_acc: 0.9640\n",
      "Epoch 4/30\n",
      "330/330 [==============================] - 142s 429ms/step - loss: 0.2940 - acc: 0.9612 - val_loss: 0.2232 - val_acc: 0.9726\n",
      "Epoch 5/30\n",
      "330/330 [==============================] - 141s 428ms/step - loss: 0.2657 - acc: 0.9637 - val_loss: 0.1216 - val_acc: 0.9833\n",
      "Epoch 6/30\n",
      "330/330 [==============================] - 141s 427ms/step - loss: 0.2318 - acc: 0.9676 - val_loss: 0.3197 - val_acc: 0.9677\n",
      "Epoch 7/30\n",
      "330/330 [==============================] - 141s 427ms/step - loss: 0.2866 - acc: 0.9699 - val_loss: 0.2289 - val_acc: 0.9769\n",
      "Epoch 8/30\n",
      "330/330 [==============================] - 141s 427ms/step - loss: 0.2649 - acc: 0.9721 - val_loss: 0.2014 - val_acc: 0.9801\n",
      "Epoch 9/30\n",
      "330/330 [==============================] - 141s 428ms/step - loss: 0.1271 - acc: 0.9861 - val_loss: 0.1103 - val_acc: 0.9882\n",
      "Epoch 10/30\n",
      "330/330 [==============================] - 141s 428ms/step - loss: 0.0983 - acc: 0.9888 - val_loss: 0.0845 - val_acc: 0.9919\n",
      "Epoch 11/30\n",
      "330/330 [==============================] - 141s 429ms/step - loss: 0.0584 - acc: 0.9927 - val_loss: 0.0620 - val_acc: 0.9919\n",
      "Epoch 12/30\n",
      "330/330 [==============================] - 142s 429ms/step - loss: 0.0315 - acc: 0.9933 - val_loss: 0.0694 - val_acc: 0.9930\n",
      "Epoch 13/30\n",
      "330/330 [==============================] - 142s 429ms/step - loss: 0.0422 - acc: 0.9932 - val_loss: 0.0851 - val_acc: 0.9898\n",
      "Epoch 14/30\n",
      "330/330 [==============================] - 142s 430ms/step - loss: 0.0248 - acc: 0.9949 - val_loss: 0.0741 - val_acc: 0.9930\n",
      "Epoch 15/30\n",
      "330/330 [==============================] - 142s 430ms/step - loss: 0.0394 - acc: 0.9952 - val_loss: 0.0786 - val_acc: 0.9903\n",
      "Epoch 16/30\n",
      "330/330 [==============================] - 142s 430ms/step - loss: 0.0188 - acc: 0.9967 - val_loss: 0.0747 - val_acc: 0.9903\n",
      "Epoch 17/30\n",
      "330/330 [==============================] - 142s 430ms/step - loss: 0.0182 - acc: 0.9963 - val_loss: 0.0713 - val_acc: 0.9919\n",
      "Epoch 18/30\n",
      "330/330 [==============================] - 142s 431ms/step - loss: 0.0251 - acc: 0.9959 - val_loss: 0.0683 - val_acc: 0.9925\n",
      "Epoch 19/30\n",
      "330/330 [==============================] - 143s 432ms/step - loss: 0.0312 - acc: 0.9949 - val_loss: 0.0677 - val_acc: 0.9925\n",
      "Epoch 1/30\n",
      "330/330 [==============================] - 143s 433ms/step - loss: 0.0224 - acc: 0.9965 - val_loss: 0.0676 - val_acc: 0.9925\n",
      "Epoch 2/30\n",
      "330/330 [==============================] - 143s 433ms/step - loss: 0.0125 - acc: 0.9978 - val_loss: 0.0674 - val_acc: 0.9925\n",
      "Epoch 3/30\n",
      "330/330 [==============================] - 142s 432ms/step - loss: 0.0243 - acc: 0.9969 - val_loss: 0.0671 - val_acc: 0.9925\n",
      "Epoch 4/30\n",
      "330/330 [==============================] - 143s 432ms/step - loss: 0.0216 - acc: 0.9968 - val_loss: 0.0671 - val_acc: 0.9925\n",
      "Epoch 5/30\n",
      "330/330 [==============================] - 143s 432ms/step - loss: 0.0178 - acc: 0.9964 - val_loss: 0.0661 - val_acc: 0.9925\n",
      "Epoch 6/30\n",
      "330/330 [==============================] - 143s 432ms/step - loss: 0.0200 - acc: 0.9965 - val_loss: 0.0665 - val_acc: 0.9925\n",
      "Epoch 7/30\n",
      "330/330 [==============================] - 143s 432ms/step - loss: 0.0267 - acc: 0.9953 - val_loss: 0.0677 - val_acc: 0.9925\n",
      "Epoch 8/30\n",
      "330/330 [==============================] - 141s 427ms/step - loss: 0.0156 - acc: 0.9967 - val_loss: 0.0672 - val_acc: 0.9925\n"
     ]
    }
   ],
   "source": [
    "batch_size = 32\n",
    "AUTOTUNE = tf.data.experimental.AUTOTUNE\n",
    "INPUT_SIZE = [380]\n",
    "MODEL = [EfficientNetB4]\n",
    "\n",
    "for size, M in zip(INPUT_SIZE, MODEL):\n",
    "    SIZE = size\n",
    "    img_height = SIZE\n",
    "    img_width = SIZE\n",
    "    image_size=(img_height, img_width)\n",
    "    train_ds = train_.map(process_path, num_parallel_calls=AUTOTUNE)\n",
    "    valid_ds = valid_.map(process_path, num_parallel_calls=AUTOTUNE)\n",
    "    train_ds = configure_for_performance(train_ds)\n",
    "    valid_ds = configure_for_performance(valid_ds)\n",
    "    base_model = M(input_shape=(img_height,img_width,3), include_top=False, weights='imagenet')\n",
    "    base_model.trainable = False\n",
    "    model = build_eff_model()\n",
    "    ckp = callbacks.ModelCheckpoint(f\"model_{size}.h5\", save_best_only=True,  monitor=\"val_acc\")\n",
    "    ckp2 = callbacks.ModelCheckpoint(f\"model_{size}_2.h5\", save_best_only=True,  monitor=\"val_acc\")\n",
    "    early_stopping = callbacks.EarlyStopping(monitor=\"val_acc\", patience=7)\n",
    "    reduce_lr = callbacks.ReduceLROnPlateau(monitor=\"val_acc\", patience=3, factor=0.1)\n",
    "    model.fit(train_ds,epochs=30,validation_data=valid_ds,callbacks=[ckp, early_stopping, reduce_lr])\n",
    "    for layer in base_model.layers:\n",
    "        if \"Conv2D\" in str(layer):\n",
    "            layer.trainable = True\n",
    "    model.fit(train_ds,epochs=30,validation_data=valid_ds,callbacks=[ckp2, early_stopping, reduce_lr])"
   ]
  },
  {
   "cell_type": "code",
   "execution_count": null,
   "id": "7308384d",
   "metadata": {},
   "outputs": [],
   "source": []
  },
  {
   "cell_type": "code",
   "execution_count": null,
   "id": "5b1417fe",
   "metadata": {},
   "outputs": [],
   "source": []
  },
  {
   "cell_type": "code",
   "execution_count": null,
   "id": "50fd5787",
   "metadata": {},
   "outputs": [],
   "source": []
  },
  {
   "cell_type": "code",
   "execution_count": null,
   "id": "7566d198",
   "metadata": {},
   "outputs": [],
   "source": []
  },
  {
   "cell_type": "code",
   "execution_count": null,
   "id": "eb1160f0",
   "metadata": {},
   "outputs": [],
   "source": []
  },
  {
   "cell_type": "code",
   "execution_count": null,
   "id": "d79cec21",
   "metadata": {},
   "outputs": [],
   "source": []
  },
  {
   "cell_type": "code",
   "execution_count": null,
   "id": "ab52731b",
   "metadata": {},
   "outputs": [],
   "source": []
  },
  {
   "cell_type": "code",
   "execution_count": null,
   "id": "ba1f761b",
   "metadata": {},
   "outputs": [],
   "source": []
  },
  {
   "cell_type": "code",
   "execution_count": null,
   "id": "ed61eeac",
   "metadata": {},
   "outputs": [],
   "source": []
  },
  {
   "cell_type": "code",
   "execution_count": null,
   "id": "5c33e2ae",
   "metadata": {},
   "outputs": [],
   "source": []
  },
  {
   "cell_type": "code",
   "execution_count": null,
   "id": "f9e17f19",
   "metadata": {},
   "outputs": [],
   "source": []
  },
  {
   "cell_type": "code",
   "execution_count": null,
   "id": "22382432",
   "metadata": {},
   "outputs": [],
   "source": []
  }
 ],
 "metadata": {
  "kernelspec": {
   "display_name": "Python 3 (ipykernel)",
   "language": "python",
   "name": "python3"
  },
  "language_info": {
   "codemirror_mode": {
    "name": "ipython",
    "version": 3
   },
   "file_extension": ".py",
   "mimetype": "text/x-python",
   "name": "python",
   "nbconvert_exporter": "python",
   "pygments_lexer": "ipython3",
   "version": "3.7.10"
  },
  "toc": {
   "base_numbering": 1,
   "nav_menu": {},
   "number_sections": true,
   "sideBar": true,
   "skip_h1_title": false,
   "title_cell": "Table of Contents",
   "title_sidebar": "Contents",
   "toc_cell": false,
   "toc_position": {},
   "toc_section_display": true,
   "toc_window_display": false
  }
 },
 "nbformat": 4,
 "nbformat_minor": 5
}
