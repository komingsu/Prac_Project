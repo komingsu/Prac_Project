{
 "cells": [
  {
   "cell_type": "code",
   "execution_count": 2,
   "id": "a968dcae",
   "metadata": {
    "ExecuteTime": {
     "end_time": "2022-06-03T01:33:25.895404Z",
     "start_time": "2022-06-03T01:33:23.195706Z"
    }
   },
   "outputs": [
    {
     "name": "stdout",
     "output_type": "stream",
     "text": [
      "Collecting xmltodict\n",
      "  Downloading xmltodict-0.13.0-py2.py3-none-any.whl (10.0 kB)\n",
      "Installing collected packages: xmltodict\n",
      "Successfully installed xmltodict-0.13.0\n",
      "Note: you may need to restart the kernel to use updated packages.\n"
     ]
    }
   ],
   "source": [
    "pip install xmltodict"
   ]
  },
  {
   "cell_type": "code",
   "execution_count": 3,
   "id": "807e3518",
   "metadata": {
    "ExecuteTime": {
     "end_time": "2022-06-03T01:33:27.175819Z",
     "start_time": "2022-06-03T01:33:27.143682Z"
    }
   },
   "outputs": [],
   "source": [
    "import requests # url로부터 정보를 가져올때 사용\n",
    "import xmltodict # orderedDict 형태로 변환 - 보기 쉽게\n",
    "import json # xml을 json으로 json을 파이썬으로 변환"
   ]
  },
  {
   "cell_type": "code",
   "execution_count": null,
   "id": "838138f6",
   "metadata": {},
   "outputs": [],
   "source": []
  },
  {
   "cell_type": "code",
   "execution_count": null,
   "id": "5311478c",
   "metadata": {},
   "outputs": [],
   "source": []
  },
  {
   "cell_type": "code",
   "execution_count": 161,
   "id": "13ceb049",
   "metadata": {
    "ExecuteTime": {
     "end_time": "2022-06-03T02:01:59.195829Z",
     "start_time": "2022-06-03T02:01:54.700892Z"
    }
   },
   "outputs": [],
   "source": [
    "for j in range(2004,2022):\n",
    "    key = \"6fLBvWC8tb86cflJiznO1nXuNbLsAcK7nCGvAt/5zdrEtWaQZ7XawCo0Y2xyQuR0kLyrBR97Rr1hIuWaqDuL9g==\"\n",
    "    url = f\"http://apis.data.go.kr/B090041/openapi/service/SpcdeInfoService/getHoliDeInfo?solYear={str(j)}&ServiceKey=\" + key\n",
    "    content = requests.get(url).content # 내가 제공해준 url로 들어가서 내용을 다 가져와!!\n",
    "    content_parsed = xmltodict.parse(content)\n",
    "    jsonString = json.dumps(content_parsed['response']['body'], ensure_ascii = False)\n",
    "    jsonObj = json.loads(jsonString)\n",
    "    holi_dict = jsonObj['items']['item']\n",
    "    date_list=[]\n",
    "    name_list=[]\n",
    "    for i in range(len(holi_dict)):\n",
    "        date_list.append(holi_dict[i]['locdate']) # 날짜\n",
    "        name_list.append(holi_dict[i]['dateName']) # 이름\n",
    "    date = pd.DataFrame(date_list,columns=[\"date\"])\n",
    "    name = pd.DataFrame(name_list,columns=[\"name\"])\n",
    "    temp = pd.concat([date,name],axis=1)\n",
    "    holiday = pd.concat([temp, holiday], axis=0)"
   ]
  },
  {
   "cell_type": "code",
   "execution_count": 125,
   "id": "1fec6d79",
   "metadata": {
    "ExecuteTime": {
     "end_time": "2022-06-03T01:58:15.333141Z",
     "start_time": "2022-06-03T01:58:15.313204Z"
    }
   },
   "outputs": [
    {
     "data": {
      "text/html": [
       "<div>\n",
       "<style scoped>\n",
       "    .dataframe tbody tr th:only-of-type {\n",
       "        vertical-align: middle;\n",
       "    }\n",
       "\n",
       "    .dataframe tbody tr th {\n",
       "        vertical-align: top;\n",
       "    }\n",
       "\n",
       "    .dataframe thead th {\n",
       "        text-align: right;\n",
       "    }\n",
       "</style>\n",
       "<table border=\"1\" class=\"dataframe\">\n",
       "  <thead>\n",
       "    <tr style=\"text-align: right;\">\n",
       "      <th></th>\n",
       "      <th>date</th>\n",
       "      <th>name</th>\n",
       "    </tr>\n",
       "  </thead>\n",
       "  <tbody>\n",
       "    <tr>\n",
       "      <th>0</th>\n",
       "      <td>20210101</td>\n",
       "      <td>1월1일</td>\n",
       "    </tr>\n",
       "    <tr>\n",
       "      <th>1</th>\n",
       "      <td>20210211</td>\n",
       "      <td>설날</td>\n",
       "    </tr>\n",
       "    <tr>\n",
       "      <th>2</th>\n",
       "      <td>20210212</td>\n",
       "      <td>설날</td>\n",
       "    </tr>\n",
       "    <tr>\n",
       "      <th>3</th>\n",
       "      <td>20210213</td>\n",
       "      <td>설날</td>\n",
       "    </tr>\n",
       "    <tr>\n",
       "      <th>4</th>\n",
       "      <td>20210301</td>\n",
       "      <td>삼일절</td>\n",
       "    </tr>\n",
       "    <tr>\n",
       "      <th>...</th>\n",
       "      <td>...</td>\n",
       "      <td>...</td>\n",
       "    </tr>\n",
       "    <tr>\n",
       "      <th>5</th>\n",
       "      <td>20220309</td>\n",
       "      <td>대통령선거일</td>\n",
       "    </tr>\n",
       "    <tr>\n",
       "      <th>6</th>\n",
       "      <td>20220505</td>\n",
       "      <td>어린이날</td>\n",
       "    </tr>\n",
       "    <tr>\n",
       "      <th>7</th>\n",
       "      <td>20220508</td>\n",
       "      <td>부처님오신날</td>\n",
       "    </tr>\n",
       "    <tr>\n",
       "      <th>8</th>\n",
       "      <td>20220601</td>\n",
       "      <td>전국동시지방선거</td>\n",
       "    </tr>\n",
       "    <tr>\n",
       "      <th>9</th>\n",
       "      <td>20220606</td>\n",
       "      <td>현충일</td>\n",
       "    </tr>\n",
       "  </tbody>\n",
       "</table>\n",
       "<p>250 rows × 2 columns</p>\n",
       "</div>"
      ],
      "text/plain": [
       "        date      name\n",
       "0   20210101      1월1일\n",
       "1   20210211        설날\n",
       "2   20210212        설날\n",
       "3   20210213        설날\n",
       "4   20210301       삼일절\n",
       "..       ...       ...\n",
       "5   20220309    대통령선거일\n",
       "6   20220505      어린이날\n",
       "7   20220508    부처님오신날\n",
       "8   20220601  전국동시지방선거\n",
       "9   20220606       현충일\n",
       "\n",
       "[250 rows x 2 columns]"
      ]
     },
     "execution_count": 125,
     "metadata": {},
     "output_type": "execute_result"
    }
   ],
   "source": [
    "holiday"
   ]
  },
  {
   "cell_type": "code",
   "execution_count": 154,
   "id": "7899d246",
   "metadata": {
    "ExecuteTime": {
     "end_time": "2022-06-03T02:01:21.372942Z",
     "start_time": "2022-06-03T02:01:21.358795Z"
    }
   },
   "outputs": [],
   "source": [
    "key = \"6fLBvWC8tb86cflJiznO1nXuNbLsAcK7nCGvAt/5zdrEtWaQZ7XawCo0Y2xyQuR0kLyrBR97Rr1hIuWaqDuL9g==\"\n",
    "url = \"http://apis.data.go.kr/B090041/openapi/service/SpcdeInfoService/getHoliDeInfo?solYear=2004&ServiceKey=\" + key"
   ]
  },
  {
   "cell_type": "code",
   "execution_count": 155,
   "id": "2afe0435",
   "metadata": {
    "ExecuteTime": {
     "end_time": "2022-06-03T02:01:21.817350Z",
     "start_time": "2022-06-03T02:01:21.502978Z"
    }
   },
   "outputs": [],
   "source": [
    "content = requests.get(url).content # 내가 제공해준 url로 들어가서 내용을 다 가져와!!"
   ]
  },
  {
   "cell_type": "code",
   "execution_count": 156,
   "id": "7a079cca",
   "metadata": {
    "ExecuteTime": {
     "end_time": "2022-06-03T02:01:21.838673Z",
     "start_time": "2022-06-03T02:01:21.817350Z"
    }
   },
   "outputs": [],
   "source": [
    "content_parsed = xmltodict.parse(content)"
   ]
  },
  {
   "cell_type": "code",
   "execution_count": 157,
   "id": "d71b92db",
   "metadata": {
    "ExecuteTime": {
     "end_time": "2022-06-03T02:01:21.854644Z",
     "start_time": "2022-06-03T02:01:21.838673Z"
    }
   },
   "outputs": [],
   "source": [
    "# xml -> json\n",
    "# 한글 깨짐 방지를 위해 ensure_ascii = False\n",
    "jsonString = json.dumps(content_parsed['response']['body'], ensure_ascii = False)\n",
    "\n",
    "# json -> python\n",
    "jsonObj = json.loads(jsonString)"
   ]
  },
  {
   "cell_type": "code",
   "execution_count": 158,
   "id": "a28bc364",
   "metadata": {
    "ExecuteTime": {
     "end_time": "2022-06-03T02:01:21.998760Z",
     "start_time": "2022-06-03T02:01:21.982654Z"
    }
   },
   "outputs": [
    {
     "data": {
      "text/plain": [
       "{'items': {'item': [{'dateKind': '01',\n",
       "    'dateName': '신정',\n",
       "    'isHoliday': 'Y',\n",
       "    'locdate': '20040101',\n",
       "    'seq': '1'},\n",
       "   {'dateKind': '01',\n",
       "    'dateName': '설날',\n",
       "    'isHoliday': 'Y',\n",
       "    'locdate': '20040121',\n",
       "    'seq': '1'},\n",
       "   {'dateKind': '01',\n",
       "    'dateName': '설날',\n",
       "    'isHoliday': 'Y',\n",
       "    'locdate': '20040122',\n",
       "    'seq': '1'},\n",
       "   {'dateKind': '01',\n",
       "    'dateName': '설날',\n",
       "    'isHoliday': 'Y',\n",
       "    'locdate': '20040123',\n",
       "    'seq': '1'},\n",
       "   {'dateKind': '01',\n",
       "    'dateName': '삼일절',\n",
       "    'isHoliday': 'Y',\n",
       "    'locdate': '20040301',\n",
       "    'seq': '1'},\n",
       "   {'dateKind': '01',\n",
       "    'dateName': '식목일',\n",
       "    'isHoliday': 'Y',\n",
       "    'locdate': '20040405',\n",
       "    'seq': '1'},\n",
       "   {'dateKind': '01',\n",
       "    'dateName': '어린이날',\n",
       "    'isHoliday': 'Y',\n",
       "    'locdate': '20040505',\n",
       "    'seq': '1'},\n",
       "   {'dateKind': '01',\n",
       "    'dateName': '석가탄신일',\n",
       "    'isHoliday': 'Y',\n",
       "    'locdate': '20040526',\n",
       "    'seq': '1'},\n",
       "   {'dateKind': '01',\n",
       "    'dateName': '현충일',\n",
       "    'isHoliday': 'Y',\n",
       "    'locdate': '20040606',\n",
       "    'seq': '1'},\n",
       "   {'dateKind': '01',\n",
       "    'dateName': '제헌절',\n",
       "    'isHoliday': 'Y',\n",
       "    'locdate': '20040717',\n",
       "    'seq': '1'}]},\n",
       " 'numOfRows': '10',\n",
       " 'pageNo': '1',\n",
       " 'totalCount': '16'}"
      ]
     },
     "execution_count": 158,
     "metadata": {},
     "output_type": "execute_result"
    }
   ],
   "source": [
    "jsonObj"
   ]
  },
  {
   "cell_type": "code",
   "execution_count": 159,
   "id": "2c4c4478",
   "metadata": {
    "ExecuteTime": {
     "end_time": "2022-06-03T02:01:22.223043Z",
     "start_time": "2022-06-03T02:01:22.202318Z"
    }
   },
   "outputs": [],
   "source": [
    "holi_dict = jsonObj['items']['item']"
   ]
  },
  {
   "cell_type": "code",
   "execution_count": 114,
   "id": "22c23f2b",
   "metadata": {
    "ExecuteTime": {
     "end_time": "2022-06-03T01:50:06.054299Z",
     "start_time": "2022-06-03T01:50:06.046260Z"
    }
   },
   "outputs": [],
   "source": [
    "date_list=[]\n",
    "name_list=[]\n",
    "for i in range(len(holi_dict)):\n",
    "    date_list.append(holi_dict[i]['locdate']) # 날짜\n",
    "    name_list.append(holi_dict[i]['dateName']) # 이름"
   ]
  },
  {
   "cell_type": "code",
   "execution_count": 115,
   "id": "46dc74f9",
   "metadata": {
    "ExecuteTime": {
     "end_time": "2022-06-03T01:50:06.346212Z",
     "start_time": "2022-06-03T01:50:06.338670Z"
    }
   },
   "outputs": [],
   "source": [
    "date = pd.DataFrame(date_list,columns=[\"date\"])\n",
    "name = pd.DataFrame(name_list,columns=[\"name\"])"
   ]
  },
  {
   "cell_type": "code",
   "execution_count": 116,
   "id": "44c6e9e1",
   "metadata": {
    "ExecuteTime": {
     "end_time": "2022-06-03T01:50:06.614545Z",
     "start_time": "2022-06-03T01:50:06.598719Z"
    }
   },
   "outputs": [],
   "source": [
    "holiday = pd.concat([date,name],axis=1)"
   ]
  },
  {
   "cell_type": "code",
   "execution_count": null,
   "id": "33f92f8d",
   "metadata": {},
   "outputs": [],
   "source": []
  },
  {
   "cell_type": "code",
   "execution_count": null,
   "id": "cc56363e",
   "metadata": {},
   "outputs": [],
   "source": []
  },
  {
   "cell_type": "code",
   "execution_count": null,
   "id": "fe36f865",
   "metadata": {},
   "outputs": [],
   "source": []
  },
  {
   "cell_type": "code",
   "execution_count": null,
   "id": "2780eee1",
   "metadata": {},
   "outputs": [],
   "source": []
  },
  {
   "cell_type": "code",
   "execution_count": 90,
   "id": "bf1fdd4d",
   "metadata": {
    "ExecuteTime": {
     "end_time": "2022-06-03T01:48:04.433243Z",
     "start_time": "2022-06-03T01:48:04.425233Z"
    }
   },
   "outputs": [],
   "source": [
    "holiday3 = holiday.copy()"
   ]
  },
  {
   "cell_type": "code",
   "execution_count": 121,
   "id": "b5d88f07",
   "metadata": {
    "ExecuteTime": {
     "end_time": "2022-06-03T01:55:19.936096Z",
     "start_time": "2022-06-03T01:55:19.903120Z"
    }
   },
   "outputs": [
    {
     "data": {
      "text/html": [
       "<div>\n",
       "<style scoped>\n",
       "    .dataframe tbody tr th:only-of-type {\n",
       "        vertical-align: middle;\n",
       "    }\n",
       "\n",
       "    .dataframe tbody tr th {\n",
       "        vertical-align: top;\n",
       "    }\n",
       "\n",
       "    .dataframe thead th {\n",
       "        text-align: right;\n",
       "    }\n",
       "</style>\n",
       "<table border=\"1\" class=\"dataframe\">\n",
       "  <thead>\n",
       "    <tr style=\"text-align: right;\">\n",
       "      <th></th>\n",
       "      <th>date</th>\n",
       "      <th>name</th>\n",
       "    </tr>\n",
       "  </thead>\n",
       "  <tbody>\n",
       "    <tr>\n",
       "      <th>0</th>\n",
       "      <td>20210101</td>\n",
       "      <td>1월1일</td>\n",
       "    </tr>\n",
       "    <tr>\n",
       "      <th>1</th>\n",
       "      <td>20210211</td>\n",
       "      <td>설날</td>\n",
       "    </tr>\n",
       "    <tr>\n",
       "      <th>2</th>\n",
       "      <td>20210212</td>\n",
       "      <td>설날</td>\n",
       "    </tr>\n",
       "    <tr>\n",
       "      <th>3</th>\n",
       "      <td>20210213</td>\n",
       "      <td>설날</td>\n",
       "    </tr>\n",
       "    <tr>\n",
       "      <th>4</th>\n",
       "      <td>20210301</td>\n",
       "      <td>삼일절</td>\n",
       "    </tr>\n",
       "    <tr>\n",
       "      <th>...</th>\n",
       "      <td>...</td>\n",
       "      <td>...</td>\n",
       "    </tr>\n",
       "    <tr>\n",
       "      <th>5</th>\n",
       "      <td>20220309</td>\n",
       "      <td>대통령선거일</td>\n",
       "    </tr>\n",
       "    <tr>\n",
       "      <th>6</th>\n",
       "      <td>20220505</td>\n",
       "      <td>어린이날</td>\n",
       "    </tr>\n",
       "    <tr>\n",
       "      <th>7</th>\n",
       "      <td>20220508</td>\n",
       "      <td>부처님오신날</td>\n",
       "    </tr>\n",
       "    <tr>\n",
       "      <th>8</th>\n",
       "      <td>20220601</td>\n",
       "      <td>전국동시지방선거</td>\n",
       "    </tr>\n",
       "    <tr>\n",
       "      <th>9</th>\n",
       "      <td>20220606</td>\n",
       "      <td>현충일</td>\n",
       "    </tr>\n",
       "  </tbody>\n",
       "</table>\n",
       "<p>130 rows × 2 columns</p>\n",
       "</div>"
      ],
      "text/plain": [
       "        date      name\n",
       "0   20210101      1월1일\n",
       "1   20210211        설날\n",
       "2   20210212        설날\n",
       "3   20210213        설날\n",
       "4   20210301       삼일절\n",
       "..       ...       ...\n",
       "5   20220309    대통령선거일\n",
       "6   20220505      어린이날\n",
       "7   20220508    부처님오신날\n",
       "8   20220601  전국동시지방선거\n",
       "9   20220606       현충일\n",
       "\n",
       "[130 rows x 2 columns]"
      ]
     },
     "execution_count": 121,
     "metadata": {},
     "output_type": "execute_result"
    }
   ],
   "source": [
    "holiday"
   ]
  },
  {
   "cell_type": "code",
   "execution_count": 122,
   "id": "015f8ef3",
   "metadata": {
    "ExecuteTime": {
     "end_time": "2022-06-03T01:55:35.535438Z",
     "start_time": "2022-06-03T01:55:35.504831Z"
    }
   },
   "outputs": [
    {
     "data": {
      "text/plain": [
       "array(['20210101', '20210211', '20210212', '20210213', '20210301',\n",
       "       '20210505', '20210519', '20210606', '20210717', '20210815',\n",
       "       '20200101', '20200124', '20200125', '20200126', '20200127',\n",
       "       '20200301', '20200415', '20200430', '20200505', '20200606',\n",
       "       '20190101', '20190204', '20190205', '20190206', '20190301',\n",
       "       '20190505', '20190506', '20190512', '20190606', '20190717',\n",
       "       '20180101', '20180215', '20180216', '20180217', '20180301',\n",
       "       '20180505', '20180507', '20180522', '20180606', '20180613',\n",
       "       '20170101', '20170127', '20170128', '20170129', '20170130',\n",
       "       '20170301', '20170503', '20170505', '20170509', '20170606',\n",
       "       '20160101', '20160207', '20160208', '20160209', '20160210',\n",
       "       '20160301', '20160413', '20160505', '20160514', '20160606',\n",
       "       '20150101', '20150218', '20150219', '20150220', '20150301',\n",
       "       '20150505', '20150525', '20150606', '20150717', '20150815',\n",
       "       '20140101', '20140130', '20140131', '20140201', '20140301',\n",
       "       '20140505', '20140506', '20140604', '20140606', '20140717',\n",
       "       '20130101', '20130209', '20130210', '20130211', '20130301',\n",
       "       '20130505', '20130517', '20130606', '20130717', '20130815',\n",
       "       '20120101', '20120122', '20120123', '20120124', '20120301',\n",
       "       '20120411', '20120505', '20120528', '20120606', '20120717',\n",
       "       '20110101', '20110202', '20110203', '20110204', '20110301',\n",
       "       '20110505', '20110510', '20110606', '20110717', '20110815',\n",
       "       '20100101', '20100213', '20100214', '20100215', '20100301',\n",
       "       '20100505', '20100521', '20100606', '20100717', '20100815',\n",
       "       '20220101', '20220131', '20220201', '20220202', '20220301',\n",
       "       '20220309', '20220505', '20220508', '20220601', '20220606'],\n",
       "      dtype=object)"
      ]
     },
     "execution_count": 122,
     "metadata": {},
     "output_type": "execute_result"
    }
   ],
   "source": [
    "holiday[\"date\"].unique()"
   ]
  },
  {
   "cell_type": "code",
   "execution_count": 123,
   "id": "6b65309f",
   "metadata": {
    "ExecuteTime": {
     "end_time": "2022-06-03T01:56:04.387077Z",
     "start_time": "2022-06-03T01:56:04.371791Z"
    }
   },
   "outputs": [],
   "source": [
    "holiday_backup = holiday.copy()"
   ]
  },
  {
   "cell_type": "code",
   "execution_count": 128,
   "id": "e3514bc5",
   "metadata": {
    "ExecuteTime": {
     "end_time": "2022-06-03T01:58:50.974521Z",
     "start_time": "2022-06-03T01:58:50.961226Z"
    }
   },
   "outputs": [],
   "source": [
    "holiday = holiday.drop_duplicates()"
   ]
  },
  {
   "cell_type": "code",
   "execution_count": 164,
   "id": "43170aed",
   "metadata": {
    "ExecuteTime": {
     "end_time": "2022-06-03T02:02:18.183369Z",
     "start_time": "2022-06-03T02:02:18.161067Z"
    }
   },
   "outputs": [],
   "source": [
    "holiday = holiday.drop_duplicates()"
   ]
  },
  {
   "cell_type": "code",
   "execution_count": 165,
   "id": "01ec589a",
   "metadata": {
    "ExecuteTime": {
     "end_time": "2022-06-03T02:02:20.303563Z",
     "start_time": "2022-06-03T02:02:20.281770Z"
    }
   },
   "outputs": [],
   "source": [
    "holiday.to_csv(\"holiday2010-2022.csv\",index=False)"
   ]
  },
  {
   "cell_type": "code",
   "execution_count": null,
   "id": "e454a5c6",
   "metadata": {},
   "outputs": [],
   "source": [
    "F"
   ]
  }
 ],
 "metadata": {
  "kernelspec": {
   "display_name": "Python 3 (ipykernel)",
   "language": "python",
   "name": "python3"
  },
  "language_info": {
   "codemirror_mode": {
    "name": "ipython",
    "version": 3
   },
   "file_extension": ".py",
   "mimetype": "text/x-python",
   "name": "python",
   "nbconvert_exporter": "python",
   "pygments_lexer": "ipython3",
   "version": "3.8.13"
  },
  "toc": {
   "base_numbering": 1,
   "nav_menu": {},
   "number_sections": true,
   "sideBar": true,
   "skip_h1_title": false,
   "title_cell": "Table of Contents",
   "title_sidebar": "Contents",
   "toc_cell": false,
   "toc_position": {},
   "toc_section_display": true,
   "toc_window_display": false
  }
 },
 "nbformat": 4,
 "nbformat_minor": 5
}
