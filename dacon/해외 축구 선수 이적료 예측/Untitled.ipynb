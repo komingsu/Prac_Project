{
 "cells": [
  {
   "cell_type": "code",
   "execution_count": 1,
   "id": "f27efe8e",
   "metadata": {
    "ExecuteTime": {
     "end_time": "2022-06-02T09:59:02.025565Z",
     "start_time": "2022-06-02T09:59:01.641690Z"
    }
   },
   "outputs": [],
   "source": [
    "import numpy as np\n",
    "import pandas as pd\n",
    "\n",
    "train = pd.read_csv(\"data/FIFA_train.csv\")\n",
    "test = pd.read_csv(\"data/FIFA_test.csv\")"
   ]
  },
  {
   "cell_type": "code",
   "execution_count": 2,
   "id": "ab7f794f",
   "metadata": {
    "ExecuteTime": {
     "end_time": "2022-06-02T09:59:07.350513Z",
     "start_time": "2022-06-02T09:59:07.340120Z"
    }
   },
   "outputs": [],
   "source": [
    "train[\"log_value\"] = np.log(train[\"value\"])\n",
    "train = train[10<=np.log(train[\"value\"])]\n",
    "train = train[18>=np.log(train[\"value\"])]\n",
    "all_data = pd.concat([train, test], ignore_index=True)"
   ]
  },
  {
   "cell_type": "code",
   "execution_count": 3,
   "id": "4cf73210",
   "metadata": {
    "ExecuteTime": {
     "end_time": "2022-06-02T09:59:17.580994Z",
     "start_time": "2022-06-02T09:59:17.185249Z"
    }
   },
   "outputs": [],
   "source": [
    "from sklearn.decomposition import PCA\n",
    "\n",
    "pca = PCA(n_components=1)\n",
    "all_data[\"all_stat\"] =pca.fit_transform(all_data[ [\"stat_overall\", \"stat_potential\"]])\n",
    "all_data = all_data.drop([\"stat_overall\", \"stat_potential\"], axis=1)"
   ]
  },
  {
   "cell_type": "code",
   "execution_count": 4,
   "id": "a2447fb3",
   "metadata": {
    "ExecuteTime": {
     "end_time": "2022-06-02T09:59:31.097975Z",
     "start_time": "2022-06-02T09:59:31.070003Z"
    }
   },
   "outputs": [],
   "source": [
    "all_data.loc[all_data[\"contract_until\"]==\"Jun 30, 2019\",\"contract_until\"] = 2018\n",
    "all_data.loc[all_data[\"contract_until\"]==\"Dec 31, 2018\",\"contract_until\"] = 2018\n",
    "all_data.loc[all_data[\"contract_until\"]==\"May 31, 2019\",\"contract_until\"] = 2019\n",
    "all_data.loc[all_data[\"contract_until\"]==\"Jan 31, 2019\",\"contract_until\"] = 2018\n",
    "all_data.loc[all_data[\"contract_until\"]==\"Jun 30, 2020\",\"contract_until\"] = 2019\n",
    "all_data.loc[all_data[\"contract_until\"]==\"Jan 1, 2019\",\"contract_until\"] = 2018\n",
    "all_data.loc[all_data[\"contract_until\"]==\"May 31, 2020\",\"contract_until\"] = 2020\n",
    "all_data.loc[all_data[\"contract_until\"]==\"Jan 12, 2019\",\"contract_until\"] = 2018\n",
    "all_data.loc[all_data[\"contract_until\"]==\"Dec 31, 2019\",\"contract_until\"] = 2020\n",
    "all_data.loc[all_data[\"contract_until\"]==\"Jun 1, 2019\",\"contract_until\"] = 2018\n",
    "\n",
    "all_data[\"contract_until\"] = all_data[\"contract_until\"].astype(int)\n",
    "all_data[\"contract_until\"] = all_data[\"contract_until\"].apply(lambda x: x-2018)"
   ]
  },
  {
   "cell_type": "code",
   "execution_count": 5,
   "id": "c96d6e4e",
   "metadata": {
    "ExecuteTime": {
     "end_time": "2022-06-02T09:59:46.320495Z",
     "start_time": "2022-06-02T09:59:46.304062Z"
    }
   },
   "outputs": [],
   "source": [
    "all_data = all_data.drop([\"value\",\"id\",\"name\"], axis=1)"
   ]
  },
  {
   "cell_type": "code",
   "execution_count": 6,
   "id": "999895d8",
   "metadata": {
    "ExecuteTime": {
     "end_time": "2022-06-02T09:59:52.334743Z",
     "start_time": "2022-06-02T09:59:52.316729Z"
    }
   },
   "outputs": [],
   "source": [
    "from sklearn.preprocessing import OneHotEncoder\n",
    "ohe = OneHotEncoder()\n",
    "encoded_matrix = ohe.fit_transform(all_data[[\"continent\",\"position\"]])"
   ]
  },
  {
   "cell_type": "code",
   "execution_count": null,
   "id": "12044878",
   "metadata": {},
   "outputs": [],
   "source": []
  }
 ],
 "metadata": {
  "kernelspec": {
   "display_name": "Python 3 (ipykernel)",
   "language": "python",
   "name": "python3"
  },
  "language_info": {
   "codemirror_mode": {
    "name": "ipython",
    "version": 3
   },
   "file_extension": ".py",
   "mimetype": "text/x-python",
   "name": "python",
   "nbconvert_exporter": "python",
   "pygments_lexer": "ipython3",
   "version": "3.8.13"
  },
  "toc": {
   "base_numbering": 1,
   "nav_menu": {},
   "number_sections": true,
   "sideBar": true,
   "skip_h1_title": false,
   "title_cell": "Table of Contents",
   "title_sidebar": "Contents",
   "toc_cell": false,
   "toc_position": {},
   "toc_section_display": true,
   "toc_window_display": false
  }
 },
 "nbformat": 4,
 "nbformat_minor": 5
}
