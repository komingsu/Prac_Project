{
 "cells": [
  {
   "cell_type": "markdown",
   "id": "0190bc1c",
   "metadata": {},
   "source": [
    "# 준비"
   ]
  },
  {
   "cell_type": "code",
   "execution_count": 23,
   "id": "c380c34c",
   "metadata": {
    "ExecuteTime": {
     "end_time": "2022-06-09T04:32:35.033339Z",
     "start_time": "2022-06-09T04:32:35.020373Z"
    }
   },
   "outputs": [],
   "source": [
    "import numpy as np\n",
    "import pandas as pd\n",
    "import matplotlib.pyplot as plt\n",
    "import seaborn as sns\n",
    "\n",
    "import warnings\n",
    "warnings.filterwarnings(action='ignore')\n",
    "plt.rc(\"axes\", unicode_minus=False) # 음수값 깨지는 폰트 설정"
   ]
  },
  {
   "cell_type": "code",
   "execution_count": 24,
   "id": "94950dcc",
   "metadata": {
    "ExecuteTime": {
     "end_time": "2022-06-09T04:32:35.720040Z",
     "start_time": "2022-06-09T04:32:35.690197Z"
    }
   },
   "outputs": [],
   "source": [
    "train_data = pd.read_csv(\"train.csv\")\n",
    "test_data = pd.read_csv(\"test.csv\")\n",
    "submission = pd.read_csv(\"sample_submission.csv\")"
   ]
  },
  {
   "cell_type": "code",
   "execution_count": 25,
   "id": "51522576",
   "metadata": {
    "ExecuteTime": {
     "end_time": "2022-06-09T04:32:36.390036Z",
     "start_time": "2022-06-09T04:32:36.375907Z"
    }
   },
   "outputs": [
    {
     "data": {
      "text/plain": [
       "((1015, 11), (436, 10))"
      ]
     },
     "execution_count": 25,
     "metadata": {},
     "output_type": "execute_result"
    }
   ],
   "source": [
    "train_data.shape, test_data.shape"
   ]
  },
  {
   "cell_type": "code",
   "execution_count": 26,
   "id": "450ee3eb",
   "metadata": {
    "ExecuteTime": {
     "end_time": "2022-06-09T04:32:37.091000Z",
     "start_time": "2022-06-09T04:32:37.077004Z"
    }
   },
   "outputs": [
    {
     "data": {
      "text/html": [
       "<div>\n",
       "<style scoped>\n",
       "    .dataframe tbody tr th:only-of-type {\n",
       "        vertical-align: middle;\n",
       "    }\n",
       "\n",
       "    .dataframe tbody tr th {\n",
       "        vertical-align: top;\n",
       "    }\n",
       "\n",
       "    .dataframe thead th {\n",
       "        text-align: right;\n",
       "    }\n",
       "</style>\n",
       "<table border=\"1\" class=\"dataframe\">\n",
       "  <thead>\n",
       "    <tr style=\"text-align: right;\">\n",
       "      <th></th>\n",
       "      <th>id</th>\n",
       "      <th>title</th>\n",
       "      <th>odometer</th>\n",
       "      <th>location</th>\n",
       "      <th>isimported</th>\n",
       "      <th>engine</th>\n",
       "      <th>transmission</th>\n",
       "      <th>fuel</th>\n",
       "      <th>paint</th>\n",
       "      <th>year</th>\n",
       "      <th>target</th>\n",
       "    </tr>\n",
       "  </thead>\n",
       "  <tbody>\n",
       "    <tr>\n",
       "      <th>0</th>\n",
       "      <td>0</td>\n",
       "      <td>Toyota RAV 4</td>\n",
       "      <td>18277</td>\n",
       "      <td>Lagos</td>\n",
       "      <td>Foreign Used</td>\n",
       "      <td>4-cylinder(I4)</td>\n",
       "      <td>automatic</td>\n",
       "      <td>petrol</td>\n",
       "      <td>Red</td>\n",
       "      <td>2016</td>\n",
       "      <td>13665000</td>\n",
       "    </tr>\n",
       "    <tr>\n",
       "      <th>1</th>\n",
       "      <td>1</td>\n",
       "      <td>Toyota Land Cruiser</td>\n",
       "      <td>10</td>\n",
       "      <td>Lagos</td>\n",
       "      <td>New</td>\n",
       "      <td>4-cylinder(I4)</td>\n",
       "      <td>automatic</td>\n",
       "      <td>petrol</td>\n",
       "      <td>Black</td>\n",
       "      <td>2019</td>\n",
       "      <td>33015000</td>\n",
       "    </tr>\n",
       "    <tr>\n",
       "      <th>2</th>\n",
       "      <td>2</td>\n",
       "      <td>Land Rover Range Rover Evoque</td>\n",
       "      <td>83091</td>\n",
       "      <td>Lagos</td>\n",
       "      <td>Foreign Used</td>\n",
       "      <td>6-cylinder(V6)</td>\n",
       "      <td>automatic</td>\n",
       "      <td>petrol</td>\n",
       "      <td>Red</td>\n",
       "      <td>2012</td>\n",
       "      <td>9915000</td>\n",
       "    </tr>\n",
       "    <tr>\n",
       "      <th>3</th>\n",
       "      <td>3</td>\n",
       "      <td>Lexus ES 350</td>\n",
       "      <td>91524</td>\n",
       "      <td>Lagos</td>\n",
       "      <td>Foreign Used</td>\n",
       "      <td>4-cylinder(I4)</td>\n",
       "      <td>automatic</td>\n",
       "      <td>petrol</td>\n",
       "      <td>Gray</td>\n",
       "      <td>2007</td>\n",
       "      <td>3815000</td>\n",
       "    </tr>\n",
       "    <tr>\n",
       "      <th>4</th>\n",
       "      <td>4</td>\n",
       "      <td>Toyota Venza</td>\n",
       "      <td>94177</td>\n",
       "      <td>Lagos</td>\n",
       "      <td>Foreign Used</td>\n",
       "      <td>6-cylinder(V6)</td>\n",
       "      <td>automatic</td>\n",
       "      <td>petrol</td>\n",
       "      <td>Red</td>\n",
       "      <td>2010</td>\n",
       "      <td>7385000</td>\n",
       "    </tr>\n",
       "  </tbody>\n",
       "</table>\n",
       "</div>"
      ],
      "text/plain": [
       "   id                          title  odometer location    isimported  \\\n",
       "0   0                   Toyota RAV 4     18277   Lagos   Foreign Used   \n",
       "1   1            Toyota Land Cruiser        10    Lagos          New    \n",
       "2   2  Land Rover Range Rover Evoque     83091    Lagos  Foreign Used   \n",
       "3   3                   Lexus ES 350     91524    Lagos  Foreign Used   \n",
       "4   4                   Toyota Venza     94177    Lagos  Foreign Used   \n",
       "\n",
       "           engine transmission    fuel  paint  year    target  \n",
       "0  4-cylinder(I4)    automatic  petrol    Red  2016  13665000  \n",
       "1  4-cylinder(I4)    automatic  petrol  Black  2019  33015000  \n",
       "2  6-cylinder(V6)    automatic  petrol    Red  2012   9915000  \n",
       "3  4-cylinder(I4)    automatic  petrol   Gray  2007   3815000  \n",
       "4  6-cylinder(V6)    automatic  petrol    Red  2010   7385000  "
      ]
     },
     "execution_count": 26,
     "metadata": {},
     "output_type": "execute_result"
    }
   ],
   "source": [
    "train_data.head()"
   ]
  },
  {
   "cell_type": "markdown",
   "id": "53389893",
   "metadata": {},
   "source": [
    "# EDA1"
   ]
  },
  {
   "cell_type": "markdown",
   "id": "fb7736fd",
   "metadata": {},
   "source": [
    "## target"
   ]
  },
  {
   "cell_type": "code",
   "execution_count": 97,
   "id": "9375f7c1",
   "metadata": {
    "ExecuteTime": {
     "end_time": "2022-06-09T04:43:24.588196Z",
     "start_time": "2022-06-09T04:43:23.997546Z"
    }
   },
   "outputs": [
    {
     "data": {
      "text/plain": [
       "[Text(0.5, 1.0, 'log_target boxplot')]"
      ]
     },
     "execution_count": 97,
     "metadata": {},
     "output_type": "execute_result"
    },
    {
     "data": {
      "image/png": "[encoded data removed]",
      "text/plain": [
       "<Figure size 1296x360 with 3 Axes>"
      ]
     },
     "metadata": {},
     "output_type": "display_data"
    }
   ],
   "source": [
    "f , axes = plt.subplots(1,3)\n",
    "axes = axes.flatten()\n",
    "f.set_size_inches(18,5)\n",
    "\n",
    "# target 의 log_scale\n",
    "train_data[\"log_target\"] = np.log1p(train_data[\"target\"])\n",
    "\n",
    "sns.histplot(x=\"target\", data=train_data, ax=axes[0])\n",
    "axes[0].set(title = \"target histogram\")\n",
    "sns.histplot(x=\"log_target\", data=train_data, ax=axes[1])\n",
    "axes[1].set(title = \"log_target histogram\")\n",
    "sns.boxplot(x=\"log_target\", data=train_data, ax=axes[2])\n",
    "axes[2].set(title = \"log_target boxplot\")"
   ]
  },
  {
   "cell_type": "markdown",
   "id": "e12c02ee",
   "metadata": {
    "ExecuteTime": {
     "end_time": "2022-06-07T21:56:52.791949Z",
     "start_time": "2022-06-07T21:56:52.775277Z"
    }
   },
   "source": [
    "## title"
   ]
  },
  {
   "cell_type": "code",
   "execution_count": 98,
   "id": "64a60bb9",
   "metadata": {
    "ExecuteTime": {
     "end_time": "2022-06-09T04:43:25.328159Z",
     "start_time": "2022-06-09T04:43:25.313162Z"
    }
   },
   "outputs": [
    {
     "name": "stdout",
     "output_type": "stream",
     "text": [
      "(1451, 12)\n"
     ]
    }
   ],
   "source": [
    "# train + test\n",
    "all_data = pd.concat([train_data, test_data], axis=0, ignore_index=True)\n",
    "print(all_data.shape)\n",
    "# 자동차 회사 피쳐 생성\n",
    "all_data[\"com\"] = all_data[\"title\"].map(lambda x: x.split()[0].upper())\n",
    "\n",
    "# title 대문자\n",
    "all_data[\"title\"] = all_data[\"title\"].apply(lambda x: x.upper())"
   ]
  },
  {
   "cell_type": "code",
   "execution_count": 99,
   "id": "c6224526",
   "metadata": {
    "ExecuteTime": {
     "end_time": "2022-06-09T04:43:25.344118Z",
     "start_time": "2022-06-09T04:43:25.331115Z"
    }
   },
   "outputs": [
    {
     "data": {
      "text/plain": [
       "array(['TOYOTA', 'LAND', 'LEXUS', 'PONTIAC', 'FORD', 'HONDA', 'VOLVO',\n",
       "       'BMW', 'INFINITI', 'MERCEDES-BENZ', 'HYUNDAI', 'JAGUAR',\n",
       "       'MITSUBISHI', 'NISSAN', 'MACK', 'CHEVROLET', 'MAZDA', 'LINCOLN',\n",
       "       'KIA', 'VOLKSWAGEN', 'ACURA', 'DAF', 'MAN', 'ISUZU', 'IVM',\n",
       "       'PORSCHE', 'MINI', 'DODGE', 'GMC', 'IVECO', 'SCANIA', 'GAC',\n",
       "       'PEUGEOT', 'ROLLS-ROYCE', 'MAN-VOLKSWAGEN', 'JEEP', 'ALPINA',\n",
       "       'BENTLEY', 'JMC', 'MERCEDES-BENZ/52', 'AUDI', 'FIAT'], dtype=object)"
      ]
     },
     "execution_count": 99,
     "metadata": {},
     "output_type": "execute_result"
    }
   ],
   "source": [
    "all_data[\"com\"].unique()"
   ]
  },
  {
   "cell_type": "code",
   "execution_count": 100,
   "id": "a844cbaf",
   "metadata": {
    "ExecuteTime": {
     "end_time": "2022-06-09T04:43:25.360074Z",
     "start_time": "2022-06-09T04:43:25.346076Z"
    }
   },
   "outputs": [],
   "source": [
    "all_data[\"com\"].replace(\"MERCEDES-BENZ/52\",\"MERCEDES-BENZ\",inplace=True)"
   ]
  },
  {
   "cell_type": "code",
   "execution_count": 101,
   "id": "18c7e807",
   "metadata": {
    "ExecuteTime": {
     "end_time": "2022-06-09T04:43:25.376033Z",
     "start_time": "2022-06-09T04:43:25.362032Z"
    }
   },
   "outputs": [
    {
     "data": {
      "text/plain": [
       "(1451, 13)"
      ]
     },
     "execution_count": 101,
     "metadata": {},
     "output_type": "execute_result"
    }
   ],
   "source": [
    "all_data.shape"
   ]
  },
  {
   "cell_type": "markdown",
   "id": "291f172f",
   "metadata": {},
   "source": [
    "## odometer"
   ]
  },
  {
   "cell_type": "code",
   "execution_count": 102,
   "id": "b47a3a65",
   "metadata": {
    "ExecuteTime": {
     "end_time": "2022-06-09T04:43:25.503653Z",
     "start_time": "2022-06-09T04:43:25.377989Z"
    }
   },
   "outputs": [
    {
     "data": {
      "text/plain": [
       "<AxesSubplot:>"
      ]
     },
     "execution_count": 102,
     "metadata": {},
     "output_type": "execute_result"
    },
    {
     "data": {
      "image/png": "[encoded data removed]",
      "text/plain": [
       "<Figure size 576x396 with 1 Axes>"
      ]
     },
     "metadata": {},
     "output_type": "display_data"
    }
   ],
   "source": [
    "all_data[[\"odometer\"]].boxplot(column=\"odometer\")"
   ]
  },
  {
   "cell_type": "code",
   "execution_count": 103,
   "id": "9c9be062",
   "metadata": {
    "ExecuteTime": {
     "end_time": "2022-06-09T04:43:25.630314Z",
     "start_time": "2022-06-09T04:43:25.505650Z"
    }
   },
   "outputs": [
    {
     "data": {
      "text/plain": [
       "<AxesSubplot:>"
      ]
     },
     "execution_count": 103,
     "metadata": {},
     "output_type": "execute_result"
    },
    {
     "data": {
      "image/png": "[encoded data removed]",
      "text/plain": [
       "<Figure size 576x396 with 1 Axes>"
      ]
     },
     "metadata": {},
     "output_type": "display_data"
    }
   ],
   "source": [
    "all_data[\"log_odometer\"]=np.log1p(all_data[\"odometer\"])\n",
    "all_data[[\"log_odometer\"]].boxplot(column=\"log_odometer\")"
   ]
  },
  {
   "cell_type": "code",
   "execution_count": 104,
   "id": "e9ffef0c",
   "metadata": {
    "ExecuteTime": {
     "end_time": "2022-06-09T04:43:25.672722Z",
     "start_time": "2022-06-09T04:43:25.631312Z"
    }
   },
   "outputs": [],
   "source": [
    "all_data[\"new\"] = all_data[\"odometer\"].copy()\n",
    "all_data[\"new\"][all_data[\"new\"]!=0] = 1\n",
    "all_data[\"new\"][all_data[\"new\"]==0] = 0"
   ]
  },
  {
   "cell_type": "code",
   "execution_count": 105,
   "id": "5654e076",
   "metadata": {
    "ExecuteTime": {
     "end_time": "2022-06-09T04:43:25.723918Z",
     "start_time": "2022-06-09T04:43:25.674761Z"
    }
   },
   "outputs": [],
   "source": [
    "all_data[\"too_old\"] = all_data[\"log_odometer\"].copy()\n",
    "all_data[\"too_old\"][all_data[\"too_old\"]<10] = 0\n",
    "all_data[\"too_old\"][all_data[\"too_old\"]>=10] = 1"
   ]
  },
  {
   "cell_type": "code",
   "execution_count": 106,
   "id": "ba946bee",
   "metadata": {
    "ExecuteTime": {
     "end_time": "2022-06-09T04:43:25.739903Z",
     "start_time": "2022-06-09T04:43:25.725912Z"
    }
   },
   "outputs": [
    {
     "data": {
      "text/plain": [
       "(1451, 16)"
      ]
     },
     "execution_count": 106,
     "metadata": {},
     "output_type": "execute_result"
    }
   ],
   "source": [
    "all_data.shape"
   ]
  },
  {
   "cell_type": "markdown",
   "id": "7dcb87d5",
   "metadata": {},
   "source": [
    "## year"
   ]
  },
  {
   "cell_type": "code",
   "execution_count": 107,
   "id": "db18d0e3",
   "metadata": {
    "ExecuteTime": {
     "end_time": "2022-06-09T04:43:25.755831Z",
     "start_time": "2022-06-09T04:43:25.740871Z"
    }
   },
   "outputs": [
    {
     "data": {
      "text/html": [
       "<div>\n",
       "<style scoped>\n",
       "    .dataframe tbody tr th:only-of-type {\n",
       "        vertical-align: middle;\n",
       "    }\n",
       "\n",
       "    .dataframe tbody tr th {\n",
       "        vertical-align: top;\n",
       "    }\n",
       "\n",
       "    .dataframe thead th {\n",
       "        text-align: right;\n",
       "    }\n",
       "</style>\n",
       "<table border=\"1\" class=\"dataframe\">\n",
       "  <thead>\n",
       "    <tr style=\"text-align: right;\">\n",
       "      <th></th>\n",
       "      <th>year</th>\n",
       "    </tr>\n",
       "  </thead>\n",
       "  <tbody>\n",
       "    <tr>\n",
       "      <th>0</th>\n",
       "      <td>2016</td>\n",
       "    </tr>\n",
       "    <tr>\n",
       "      <th>1</th>\n",
       "      <td>2019</td>\n",
       "    </tr>\n",
       "    <tr>\n",
       "      <th>2</th>\n",
       "      <td>2012</td>\n",
       "    </tr>\n",
       "    <tr>\n",
       "      <th>3</th>\n",
       "      <td>2007</td>\n",
       "    </tr>\n",
       "    <tr>\n",
       "      <th>4</th>\n",
       "      <td>2010</td>\n",
       "    </tr>\n",
       "  </tbody>\n",
       "</table>\n",
       "</div>"
      ],
      "text/plain": [
       "   year\n",
       "0  2016\n",
       "1  2019\n",
       "2  2012\n",
       "3  2007\n",
       "4  2010"
      ]
     },
     "execution_count": 107,
     "metadata": {},
     "output_type": "execute_result"
    }
   ],
   "source": [
    "all_data[[\"year\"]].head()"
   ]
  },
  {
   "cell_type": "code",
   "execution_count": 108,
   "id": "95252af2",
   "metadata": {
    "ExecuteTime": {
     "end_time": "2022-06-09T04:43:25.805738Z",
     "start_time": "2022-06-09T04:43:25.760818Z"
    }
   },
   "outputs": [],
   "source": [
    "# year - 2020\n",
    "all_data[\"old\"] = all_data[\"year\"]-2020\n",
    "# 0 보다 큰 값은 0으로 수정\n",
    "all_data[\"old\"][all_data[\"old\"]>0] = 0\n",
    "# old 의 median = -10\n",
    "all_data[\"old\"][all_data[\"old\"]<-100] = -10\n",
    "# old 의  abs\n",
    "all_data[\"old\"] = abs(all_data[\"old\"])"
   ]
  },
  {
   "cell_type": "code",
   "execution_count": 109,
   "id": "fa0a0d41",
   "metadata": {
    "ExecuteTime": {
     "end_time": "2022-06-09T04:43:25.818663Z",
     "start_time": "2022-06-09T04:43:25.806695Z"
    }
   },
   "outputs": [
    {
     "data": {
      "text/html": [
       "<div>\n",
       "<style scoped>\n",
       "    .dataframe tbody tr th:only-of-type {\n",
       "        vertical-align: middle;\n",
       "    }\n",
       "\n",
       "    .dataframe tbody tr th {\n",
       "        vertical-align: top;\n",
       "    }\n",
       "\n",
       "    .dataframe thead th {\n",
       "        text-align: right;\n",
       "    }\n",
       "</style>\n",
       "<table border=\"1\" class=\"dataframe\">\n",
       "  <thead>\n",
       "    <tr style=\"text-align: right;\">\n",
       "      <th></th>\n",
       "      <th>old</th>\n",
       "    </tr>\n",
       "  </thead>\n",
       "  <tbody>\n",
       "    <tr>\n",
       "      <th>0</th>\n",
       "      <td>4</td>\n",
       "    </tr>\n",
       "    <tr>\n",
       "      <th>1</th>\n",
       "      <td>1</td>\n",
       "    </tr>\n",
       "    <tr>\n",
       "      <th>2</th>\n",
       "      <td>8</td>\n",
       "    </tr>\n",
       "    <tr>\n",
       "      <th>3</th>\n",
       "      <td>13</td>\n",
       "    </tr>\n",
       "    <tr>\n",
       "      <th>4</th>\n",
       "      <td>10</td>\n",
       "    </tr>\n",
       "  </tbody>\n",
       "</table>\n",
       "</div>"
      ],
      "text/plain": [
       "   old\n",
       "0    4\n",
       "1    1\n",
       "2    8\n",
       "3   13\n",
       "4   10"
      ]
     },
     "execution_count": 109,
     "metadata": {},
     "output_type": "execute_result"
    }
   ],
   "source": [
    "all_data[[\"old\"]].head()"
   ]
  },
  {
   "cell_type": "code",
   "execution_count": 110,
   "id": "20bcb9ea",
   "metadata": {
    "ExecuteTime": {
     "end_time": "2022-06-09T04:43:25.834657Z",
     "start_time": "2022-06-09T04:43:25.820657Z"
    }
   },
   "outputs": [
    {
     "data": {
      "text/plain": [
       "(1451, 17)"
      ]
     },
     "execution_count": 110,
     "metadata": {},
     "output_type": "execute_result"
    }
   ],
   "source": [
    "all_data.shape"
   ]
  },
  {
   "cell_type": "markdown",
   "id": "a7819ca5",
   "metadata": {},
   "source": [
    "## color"
   ]
  },
  {
   "cell_type": "code",
   "execution_count": 111,
   "id": "7340f9c4",
   "metadata": {
    "ExecuteTime": {
     "end_time": "2022-06-09T04:43:25.850577Z",
     "start_time": "2022-06-09T04:43:25.835654Z"
    }
   },
   "outputs": [],
   "source": [
    "import re \n",
    "\n",
    "def clean_text(texts): \n",
    "    corpus = [] \n",
    "    for i in range(0, len(texts)): \n",
    "        review = re.sub(r'[@%\\\\*=()/~#&\\+á?\\xc3\\xa1\\-\\|\\.\\:\\;\\!\\-\\,\\_\\~\\$\\'\\\"\\n\\]\\[\\>\\<]', '',texts[i]) #@%*=()/+ 와 같은 문장부호 제거\n",
    "        review = re.sub(r'\\d+','',review)#숫자 제거\n",
    "        review = review.lower() #소문자 변환\n",
    "        review = re.sub(r'\\s+', ' ', review) #extra space 제거\n",
    "        review = re.sub(r'<[^>]+>','',review) #Html tags 제거\n",
    "        review = re.sub(r'\\s+', ' ', review) #spaces 제거\n",
    "        review = re.sub(r\"^\\s+\", '', review) #space from start 제거\n",
    "        review = re.sub(r'\\s+$', '', review) #space from the end 제거\n",
    "        review = re.sub(r'_', ' ', review) #space from the end 제거\n",
    "        #review = re.sub(r'l', '', review)\n",
    "        corpus.append(review) \n",
    "        \n",
    "    return corpus"
   ]
  },
  {
   "cell_type": "code",
   "execution_count": 112,
   "id": "c742a15f",
   "metadata": {
    "ExecuteTime": {
     "end_time": "2022-06-09T04:43:35.613203Z",
     "start_time": "2022-06-09T04:43:35.566743Z"
    }
   },
   "outputs": [],
   "source": [
    "temp = clean_text(all_data['paint']) #메소드 적용\n",
    "all_data['clean_paint'] = temp"
   ]
  },
  {
   "cell_type": "code",
   "execution_count": 113,
   "id": "60a1ab50",
   "metadata": {
    "ExecuteTime": {
     "end_time": "2022-06-09T04:43:35.661161Z",
     "start_time": "2022-06-09T04:43:35.621189Z"
    }
   },
   "outputs": [],
   "source": [
    "all_data['clean_paint'] = all_data['clean_paint'] = all_data['clean_paint'].apply(lambda x : 'blue' if x.find('blue') >= 0 else x)\n",
    "all_data['clean_paint'] = all_data['clean_paint'] = all_data['clean_paint'].apply(lambda x : 'red' if x.find('red') >= 0 else x)\n",
    "all_data['clean_paint'] = all_data['clean_paint'] = all_data['clean_paint'].apply(lambda x : 'green' if x.find('green') >= 0 else x)\n",
    "all_data['clean_paint'] = all_data['clean_paint'] = all_data['clean_paint'].apply(lambda x : 'white' if x.find('white') >= 0 else x)\n",
    "all_data['clean_paint'] = all_data['clean_paint'] = all_data['clean_paint'].apply(lambda x : 'grey' if x.find('grey') >= 0 else x)\n",
    "all_data['clean_paint'] = all_data['clean_paint'] = all_data['clean_paint'].apply(lambda x : 'grey' if x.find('gery') >= 0 else x)\n",
    "all_data['clean_paint'] = all_data['clean_paint'] = all_data['clean_paint'].apply(lambda x : 'grey' if x.find('gray') >= 0 else x)\n",
    "all_data['clean_paint'] = all_data['clean_paint'] = all_data['clean_paint'].apply(lambda x : 'ash' if x.find('ash') >= 0 else x)\n",
    "all_data['clean_paint'] = all_data['clean_paint'] = all_data['clean_paint'].apply(lambda x : 'brown' if x.find('brown') >= 0 else x)\n",
    "all_data['clean_paint'] = all_data['clean_paint'] = all_data['clean_paint'].apply(lambda x : 'silver' if x.find('silver') >= 0 else x)\n",
    "all_data['clean_paint'] = all_data['clean_paint'] = all_data['clean_paint'].apply(lambda x : 'silver' if x.find('sliver') >= 0 else x)\n",
    "all_data['clean_paint'] = all_data['clean_paint'] = all_data['clean_paint'].apply(lambda x : 'black' if x.find('black') >= 0 else x)\n",
    "all_data['clean_paint'] = all_data['clean_paint'] = all_data['clean_paint'].apply(lambda x : 'gold' if x.find('gold') >= 0 else x)\n",
    "all_data['clean_paint'] = all_data['clean_paint'] = all_data['clean_paint'].apply(lambda x : 'wine' if x.find('whine') >= 0 else x)"
   ]
  },
  {
   "cell_type": "code",
   "execution_count": 114,
   "id": "22d23ddf",
   "metadata": {
    "ExecuteTime": {
     "end_time": "2022-06-09T04:43:35.693119Z",
     "start_time": "2022-06-09T04:43:35.666154Z"
    },
    "scrolled": false
   },
   "outputs": [
    {
     "data": {
      "text/plain": [
       "black               436\n",
       "grey                221\n",
       "white               209\n",
       "silver              184\n",
       "blue                142\n",
       "red                  96\n",
       "gold                 53\n",
       "green                38\n",
       "brown                23\n",
       "wine                 12\n",
       "ash                  11\n",
       "yellow                6\n",
       "cream                 6\n",
       "purple                3\n",
       "maroon                3\n",
       "milk                  2\n",
       "beige                 2\n",
       "orange                1\n",
       "blac                  1\n",
       "golf                  1\n",
       "indigo ink pearl      1\n",
       "Name: clean_paint, dtype: int64"
      ]
     },
     "execution_count": 114,
     "metadata": {},
     "output_type": "execute_result"
    }
   ],
   "source": [
    "all_data['clean_paint'].value_counts()"
   ]
  },
  {
   "cell_type": "code",
   "execution_count": 115,
   "id": "9041372c",
   "metadata": {
    "ExecuteTime": {
     "end_time": "2022-06-09T04:43:35.724997Z",
     "start_time": "2022-06-09T04:43:35.695077Z"
    }
   },
   "outputs": [
    {
     "data": {
      "text/html": [
       "<div>\n",
       "<style scoped>\n",
       "    .dataframe tbody tr th:only-of-type {\n",
       "        vertical-align: middle;\n",
       "    }\n",
       "\n",
       "    .dataframe tbody tr th {\n",
       "        vertical-align: top;\n",
       "    }\n",
       "\n",
       "    .dataframe thead th {\n",
       "        text-align: right;\n",
       "    }\n",
       "</style>\n",
       "<table border=\"1\" class=\"dataframe\">\n",
       "  <thead>\n",
       "    <tr style=\"text-align: right;\">\n",
       "      <th></th>\n",
       "      <th>id</th>\n",
       "      <th>title</th>\n",
       "      <th>odometer</th>\n",
       "      <th>location</th>\n",
       "      <th>isimported</th>\n",
       "      <th>engine</th>\n",
       "      <th>transmission</th>\n",
       "      <th>fuel</th>\n",
       "      <th>paint</th>\n",
       "      <th>year</th>\n",
       "      <th>target</th>\n",
       "      <th>log_target</th>\n",
       "      <th>com</th>\n",
       "      <th>log_odometer</th>\n",
       "      <th>new</th>\n",
       "      <th>too_old</th>\n",
       "      <th>old</th>\n",
       "      <th>clean_paint</th>\n",
       "    </tr>\n",
       "  </thead>\n",
       "  <tbody>\n",
       "    <tr>\n",
       "      <th>28</th>\n",
       "      <td>28</td>\n",
       "      <td>HONDA FIT</td>\n",
       "      <td>28497</td>\n",
       "      <td>Lagos</td>\n",
       "      <td>Foreign Used</td>\n",
       "      <td>4-cylinder(I4)</td>\n",
       "      <td>automatic</td>\n",
       "      <td>petrol</td>\n",
       "      <td>Purple</td>\n",
       "      <td>2017</td>\n",
       "      <td>7015000.0</td>\n",
       "      <td>15.763561</td>\n",
       "      <td>HONDA</td>\n",
       "      <td>10.257589</td>\n",
       "      <td>1</td>\n",
       "      <td>1.0</td>\n",
       "      <td>3</td>\n",
       "      <td>purple</td>\n",
       "    </tr>\n",
       "    <tr>\n",
       "      <th>44</th>\n",
       "      <td>44</td>\n",
       "      <td>LEXUS RX 300</td>\n",
       "      <td>204177</td>\n",
       "      <td>Lagos</td>\n",
       "      <td>Locally used</td>\n",
       "      <td>6-cylinder(V6)</td>\n",
       "      <td>automatic</td>\n",
       "      <td>petrol</td>\n",
       "      <td>Milk</td>\n",
       "      <td>2000</td>\n",
       "      <td>1515000.0</td>\n",
       "      <td>14.230927</td>\n",
       "      <td>LEXUS</td>\n",
       "      <td>12.226747</td>\n",
       "      <td>1</td>\n",
       "      <td>1.0</td>\n",
       "      <td>20</td>\n",
       "      <td>milk</td>\n",
       "    </tr>\n",
       "    <tr>\n",
       "      <th>59</th>\n",
       "      <td>59</td>\n",
       "      <td>TOYOTA COROLLA</td>\n",
       "      <td>36962</td>\n",
       "      <td>Lagos</td>\n",
       "      <td>Foreign Used</td>\n",
       "      <td>4-cylinder(I4)</td>\n",
       "      <td>automatic</td>\n",
       "      <td>petrol</td>\n",
       "      <td>Beige</td>\n",
       "      <td>2017</td>\n",
       "      <td>9215000.0</td>\n",
       "      <td>16.036343</td>\n",
       "      <td>TOYOTA</td>\n",
       "      <td>10.517673</td>\n",
       "      <td>1</td>\n",
       "      <td>1.0</td>\n",
       "      <td>3</td>\n",
       "      <td>beige</td>\n",
       "    </tr>\n",
       "    <tr>\n",
       "      <th>168</th>\n",
       "      <td>168</td>\n",
       "      <td>TOYOTA HIGHLANDER</td>\n",
       "      <td>117497</td>\n",
       "      <td>Lagos</td>\n",
       "      <td>Foreign Used</td>\n",
       "      <td>4-cylinder(I4)</td>\n",
       "      <td>automatic</td>\n",
       "      <td>petrol</td>\n",
       "      <td>Purple</td>\n",
       "      <td>2011</td>\n",
       "      <td>5955000.0</td>\n",
       "      <td>15.599742</td>\n",
       "      <td>TOYOTA</td>\n",
       "      <td>11.674177</td>\n",
       "      <td>1</td>\n",
       "      <td>1.0</td>\n",
       "      <td>9</td>\n",
       "      <td>purple</td>\n",
       "    </tr>\n",
       "    <tr>\n",
       "      <th>396</th>\n",
       "      <td>396</td>\n",
       "      <td>FORD EXPLORER</td>\n",
       "      <td>119404</td>\n",
       "      <td>Lagos</td>\n",
       "      <td>Foreign Used</td>\n",
       "      <td>4-cylinder(I4)</td>\n",
       "      <td>automatic</td>\n",
       "      <td>petrol</td>\n",
       "      <td>Purple</td>\n",
       "      <td>2011</td>\n",
       "      <td>4915000.0</td>\n",
       "      <td>15.407803</td>\n",
       "      <td>FORD</td>\n",
       "      <td>11.690276</td>\n",
       "      <td>1</td>\n",
       "      <td>1.0</td>\n",
       "      <td>9</td>\n",
       "      <td>purple</td>\n",
       "    </tr>\n",
       "    <tr>\n",
       "      <th>703</th>\n",
       "      <td>703</td>\n",
       "      <td>MERCEDES-BENZ 200</td>\n",
       "      <td>98652</td>\n",
       "      <td>Abuja</td>\n",
       "      <td>Foreign Used</td>\n",
       "      <td>4-cylinder(I4)</td>\n",
       "      <td>automatic</td>\n",
       "      <td>petrol</td>\n",
       "      <td>Milk</td>\n",
       "      <td>2014</td>\n",
       "      <td>10515000.0</td>\n",
       "      <td>16.168313</td>\n",
       "      <td>MERCEDES-BENZ</td>\n",
       "      <td>11.499364</td>\n",
       "      <td>1</td>\n",
       "      <td>1.0</td>\n",
       "      <td>6</td>\n",
       "      <td>milk</td>\n",
       "    </tr>\n",
       "    <tr>\n",
       "      <th>818</th>\n",
       "      <td>818</td>\n",
       "      <td>TOYOTA HIGHLANDER</td>\n",
       "      <td>59450</td>\n",
       "      <td>Lagos</td>\n",
       "      <td>Foreign Used</td>\n",
       "      <td>6-cylinder(V6)</td>\n",
       "      <td>automatic</td>\n",
       "      <td>petrol</td>\n",
       "      <td>Maroon</td>\n",
       "      <td>2016</td>\n",
       "      <td>14535000.0</td>\n",
       "      <td>16.492070</td>\n",
       "      <td>TOYOTA</td>\n",
       "      <td>10.992908</td>\n",
       "      <td>1</td>\n",
       "      <td>1.0</td>\n",
       "      <td>4</td>\n",
       "      <td>maroon</td>\n",
       "    </tr>\n",
       "    <tr>\n",
       "      <th>905</th>\n",
       "      <td>905</td>\n",
       "      <td>TOYOTA SIENNA</td>\n",
       "      <td>110575</td>\n",
       "      <td>Abuja</td>\n",
       "      <td>Foreign Used</td>\n",
       "      <td>4-cylinder(I4)</td>\n",
       "      <td>automatic</td>\n",
       "      <td>petrol</td>\n",
       "      <td>Maroon</td>\n",
       "      <td>2002</td>\n",
       "      <td>1915000.0</td>\n",
       "      <td>14.465229</td>\n",
       "      <td>TOYOTA</td>\n",
       "      <td>11.613458</td>\n",
       "      <td>1</td>\n",
       "      <td>1.0</td>\n",
       "      <td>18</td>\n",
       "      <td>maroon</td>\n",
       "    </tr>\n",
       "    <tr>\n",
       "      <th>1129</th>\n",
       "      <td>114</td>\n",
       "      <td>LEXUS GX 460</td>\n",
       "      <td>86592</td>\n",
       "      <td>Lagos</td>\n",
       "      <td>Foreign Used</td>\n",
       "      <td>8-cylinder(V8)</td>\n",
       "      <td>automatic</td>\n",
       "      <td>petrol</td>\n",
       "      <td>Maroon</td>\n",
       "      <td>2011</td>\n",
       "      <td>NaN</td>\n",
       "      <td>NaN</td>\n",
       "      <td>LEXUS</td>\n",
       "      <td>11.368974</td>\n",
       "      <td>1</td>\n",
       "      <td>1.0</td>\n",
       "      <td>9</td>\n",
       "      <td>maroon</td>\n",
       "    </tr>\n",
       "    <tr>\n",
       "      <th>1410</th>\n",
       "      <td>395</td>\n",
       "      <td>TOYOTA CAMRY</td>\n",
       "      <td>118512</td>\n",
       "      <td>Lagos</td>\n",
       "      <td>Foreign Used</td>\n",
       "      <td>4-cylinder(I4)</td>\n",
       "      <td>automatic</td>\n",
       "      <td>petrol</td>\n",
       "      <td>Beige</td>\n",
       "      <td>2011</td>\n",
       "      <td>NaN</td>\n",
       "      <td>NaN</td>\n",
       "      <td>TOYOTA</td>\n",
       "      <td>11.682778</td>\n",
       "      <td>1</td>\n",
       "      <td>1.0</td>\n",
       "      <td>9</td>\n",
       "      <td>beige</td>\n",
       "    </tr>\n",
       "  </tbody>\n",
       "</table>\n",
       "</div>"
      ],
      "text/plain": [
       "       id              title  odometer location    isimported          engine  \\\n",
       "28     28          HONDA FIT     28497    Lagos  Foreign Used  4-cylinder(I4)   \n",
       "44     44       LEXUS RX 300    204177    Lagos  Locally used  6-cylinder(V6)   \n",
       "59     59     TOYOTA COROLLA     36962    Lagos  Foreign Used  4-cylinder(I4)   \n",
       "168   168  TOYOTA HIGHLANDER    117497    Lagos  Foreign Used  4-cylinder(I4)   \n",
       "396   396      FORD EXPLORER    119404    Lagos  Foreign Used  4-cylinder(I4)   \n",
       "703   703  MERCEDES-BENZ 200     98652    Abuja  Foreign Used  4-cylinder(I4)   \n",
       "818   818  TOYOTA HIGHLANDER     59450    Lagos  Foreign Used  6-cylinder(V6)   \n",
       "905   905      TOYOTA SIENNA    110575    Abuja  Foreign Used  4-cylinder(I4)   \n",
       "1129  114       LEXUS GX 460     86592    Lagos  Foreign Used  8-cylinder(V8)   \n",
       "1410  395       TOYOTA CAMRY    118512    Lagos  Foreign Used  4-cylinder(I4)   \n",
       "\n",
       "     transmission    fuel   paint  year      target  log_target  \\\n",
       "28      automatic  petrol  Purple  2017   7015000.0   15.763561   \n",
       "44      automatic  petrol    Milk  2000   1515000.0   14.230927   \n",
       "59      automatic  petrol   Beige  2017   9215000.0   16.036343   \n",
       "168     automatic  petrol  Purple  2011   5955000.0   15.599742   \n",
       "396     automatic  petrol  Purple  2011   4915000.0   15.407803   \n",
       "703     automatic  petrol    Milk  2014  10515000.0   16.168313   \n",
       "818     automatic  petrol  Maroon  2016  14535000.0   16.492070   \n",
       "905     automatic  petrol  Maroon  2002   1915000.0   14.465229   \n",
       "1129    automatic  petrol  Maroon  2011         NaN         NaN   \n",
       "1410    automatic  petrol   Beige  2011         NaN         NaN   \n",
       "\n",
       "                com  log_odometer  new  too_old  old clean_paint  \n",
       "28            HONDA     10.257589    1      1.0    3      purple  \n",
       "44            LEXUS     12.226747    1      1.0   20        milk  \n",
       "59           TOYOTA     10.517673    1      1.0    3       beige  \n",
       "168          TOYOTA     11.674177    1      1.0    9      purple  \n",
       "396            FORD     11.690276    1      1.0    9      purple  \n",
       "703   MERCEDES-BENZ     11.499364    1      1.0    6        milk  \n",
       "818          TOYOTA     10.992908    1      1.0    4      maroon  \n",
       "905          TOYOTA     11.613458    1      1.0   18      maroon  \n",
       "1129          LEXUS     11.368974    1      1.0    9      maroon  \n",
       "1410         TOYOTA     11.682778    1      1.0    9       beige  "
      ]
     },
     "execution_count": 115,
     "metadata": {},
     "output_type": "execute_result"
    }
   ],
   "source": [
    "all_data[(all_data[\"clean_paint\"]==\"milk\")|(all_data[\"clean_paint\"]==\"purple\")|(all_data[\"clean_paint\"]==\"maroon\") |(all_data[\"clean_paint\"]==\"beige\")]"
   ]
  },
  {
   "cell_type": "code",
   "execution_count": 116,
   "id": "7722f313",
   "metadata": {
    "ExecuteTime": {
     "end_time": "2022-06-09T04:43:35.756912Z",
     "start_time": "2022-06-09T04:43:35.725995Z"
    }
   },
   "outputs": [
    {
     "data": {
      "text/html": [
       "<div>\n",
       "<style scoped>\n",
       "    .dataframe tbody tr th:only-of-type {\n",
       "        vertical-align: middle;\n",
       "    }\n",
       "\n",
       "    .dataframe tbody tr th {\n",
       "        vertical-align: top;\n",
       "    }\n",
       "\n",
       "    .dataframe thead th {\n",
       "        text-align: right;\n",
       "    }\n",
       "</style>\n",
       "<table border=\"1\" class=\"dataframe\">\n",
       "  <thead>\n",
       "    <tr style=\"text-align: right;\">\n",
       "      <th></th>\n",
       "      <th>id</th>\n",
       "      <th>title</th>\n",
       "      <th>odometer</th>\n",
       "      <th>location</th>\n",
       "      <th>isimported</th>\n",
       "      <th>engine</th>\n",
       "      <th>transmission</th>\n",
       "      <th>fuel</th>\n",
       "      <th>paint</th>\n",
       "      <th>year</th>\n",
       "      <th>target</th>\n",
       "      <th>log_target</th>\n",
       "      <th>com</th>\n",
       "      <th>log_odometer</th>\n",
       "      <th>new</th>\n",
       "      <th>too_old</th>\n",
       "      <th>old</th>\n",
       "      <th>clean_paint</th>\n",
       "    </tr>\n",
       "  </thead>\n",
       "  <tbody>\n",
       "    <tr>\n",
       "      <th>100</th>\n",
       "      <td>100</td>\n",
       "      <td>VOLKSWAGEN LT</td>\n",
       "      <td>161966</td>\n",
       "      <td>Lagos</td>\n",
       "      <td>Locally used</td>\n",
       "      <td>6-cylinder(V6)</td>\n",
       "      <td>manual</td>\n",
       "      <td>petrol</td>\n",
       "      <td>orange</td>\n",
       "      <td>1985</td>\n",
       "      <td>1915000.0</td>\n",
       "      <td>14.465229</td>\n",
       "      <td>VOLKSWAGEN</td>\n",
       "      <td>11.995148</td>\n",
       "      <td>1</td>\n",
       "      <td>1.0</td>\n",
       "      <td>35</td>\n",
       "      <td>orange</td>\n",
       "    </tr>\n",
       "    <tr>\n",
       "      <th>1177</th>\n",
       "      <td>162</td>\n",
       "      <td>TOYOTA AVALON</td>\n",
       "      <td>176389</td>\n",
       "      <td>Lagos</td>\n",
       "      <td>Foreign Used</td>\n",
       "      <td>6-cylinder(I6)</td>\n",
       "      <td>automatic</td>\n",
       "      <td>petrol</td>\n",
       "      <td>Blac</td>\n",
       "      <td>2014</td>\n",
       "      <td>NaN</td>\n",
       "      <td>NaN</td>\n",
       "      <td>TOYOTA</td>\n",
       "      <td>12.080453</td>\n",
       "      <td>1</td>\n",
       "      <td>1.0</td>\n",
       "      <td>6</td>\n",
       "      <td>blac</td>\n",
       "    </tr>\n",
       "    <tr>\n",
       "      <th>1227</th>\n",
       "      <td>212</td>\n",
       "      <td>TOYOTA COROLLA</td>\n",
       "      <td>0</td>\n",
       "      <td>Abuja</td>\n",
       "      <td>Foreign Used</td>\n",
       "      <td>4-cylinder(I4)</td>\n",
       "      <td>automatic</td>\n",
       "      <td>petrol</td>\n",
       "      <td>Golf</td>\n",
       "      <td>2012</td>\n",
       "      <td>NaN</td>\n",
       "      <td>NaN</td>\n",
       "      <td>TOYOTA</td>\n",
       "      <td>0.000000</td>\n",
       "      <td>0</td>\n",
       "      <td>0.0</td>\n",
       "      <td>8</td>\n",
       "      <td>golf</td>\n",
       "    </tr>\n",
       "    <tr>\n",
       "      <th>1329</th>\n",
       "      <td>314</td>\n",
       "      <td>TOYOTA HIGHLANDER</td>\n",
       "      <td>189463</td>\n",
       "      <td>Lagos</td>\n",
       "      <td>Foreign Used</td>\n",
       "      <td>6-cylinder(I6)</td>\n",
       "      <td>automatic</td>\n",
       "      <td>petrol</td>\n",
       "      <td>Indigo ink pearl</td>\n",
       "      <td>2005</td>\n",
       "      <td>NaN</td>\n",
       "      <td>NaN</td>\n",
       "      <td>TOYOTA</td>\n",
       "      <td>12.151954</td>\n",
       "      <td>1</td>\n",
       "      <td>1.0</td>\n",
       "      <td>15</td>\n",
       "      <td>indigo ink pearl</td>\n",
       "    </tr>\n",
       "  </tbody>\n",
       "</table>\n",
       "</div>"
      ],
      "text/plain": [
       "       id              title  odometer location    isimported          engine  \\\n",
       "100   100      VOLKSWAGEN LT    161966    Lagos  Locally used  6-cylinder(V6)   \n",
       "1177  162      TOYOTA AVALON    176389    Lagos  Foreign Used  6-cylinder(I6)   \n",
       "1227  212     TOYOTA COROLLA         0    Abuja  Foreign Used  4-cylinder(I4)   \n",
       "1329  314  TOYOTA HIGHLANDER    189463    Lagos  Foreign Used  6-cylinder(I6)   \n",
       "\n",
       "     transmission    fuel             paint  year     target  log_target  \\\n",
       "100        manual  petrol            orange  1985  1915000.0   14.465229   \n",
       "1177    automatic  petrol              Blac  2014        NaN         NaN   \n",
       "1227    automatic  petrol              Golf  2012        NaN         NaN   \n",
       "1329    automatic  petrol  Indigo ink pearl  2005        NaN         NaN   \n",
       "\n",
       "             com  log_odometer  new  too_old  old       clean_paint  \n",
       "100   VOLKSWAGEN     11.995148    1      1.0   35            orange  \n",
       "1177      TOYOTA     12.080453    1      1.0    6              blac  \n",
       "1227      TOYOTA      0.000000    0      0.0    8              golf  \n",
       "1329      TOYOTA     12.151954    1      1.0   15  indigo ink pearl  "
      ]
     },
     "execution_count": 116,
     "metadata": {},
     "output_type": "execute_result"
    }
   ],
   "source": [
    "all_data[(all_data[\"clean_paint\"]==\"golf\")|(all_data[\"clean_paint\"]==\"orange\")|(all_data[\"clean_paint\"]==\"blac\") |(all_data[\"clean_paint\"]==\"indigo ink pearl\")]"
   ]
  },
  {
   "cell_type": "code",
   "execution_count": 117,
   "id": "d9bc2c96",
   "metadata": {
    "ExecuteTime": {
     "end_time": "2022-06-09T04:43:35.772868Z",
     "start_time": "2022-06-09T04:43:35.757909Z"
    }
   },
   "outputs": [],
   "source": [
    "def replacestringetc(data,x, counts):\n",
    "    if sum(data == x) >counts:\n",
    "        return x\n",
    "    else:\n",
    "        return \"etc\""
   ]
  },
  {
   "cell_type": "code",
   "execution_count": 118,
   "id": "e7d1cfba",
   "metadata": {
    "ExecuteTime": {
     "end_time": "2022-06-09T04:43:36.263943Z",
     "start_time": "2022-06-09T04:43:35.773867Z"
    }
   },
   "outputs": [],
   "source": [
    "all_data[\"clean_paint\"] = all_data[\"clean_paint\"].map(lambda x: replacestringetc(all_data[\"clean_paint\"], x, 5))"
   ]
  },
  {
   "cell_type": "code",
   "execution_count": 119,
   "id": "c258248d",
   "metadata": {
    "ExecuteTime": {
     "end_time": "2022-06-09T04:43:36.279897Z",
     "start_time": "2022-06-09T04:43:36.267933Z"
    }
   },
   "outputs": [
    {
     "data": {
      "text/plain": [
       "black     436\n",
       "grey      221\n",
       "white     209\n",
       "silver    184\n",
       "blue      142\n",
       "red        96\n",
       "gold       53\n",
       "green      38\n",
       "brown      23\n",
       "etc        14\n",
       "wine       12\n",
       "ash        11\n",
       "cream       6\n",
       "yellow      6\n",
       "Name: clean_paint, dtype: int64"
      ]
     },
     "execution_count": 119,
     "metadata": {},
     "output_type": "execute_result"
    }
   ],
   "source": [
    "all_data['clean_paint'].value_counts()"
   ]
  },
  {
   "cell_type": "code",
   "execution_count": 120,
   "id": "5821cc62",
   "metadata": {
    "ExecuteTime": {
     "end_time": "2022-06-09T04:43:36.295887Z",
     "start_time": "2022-06-09T04:43:36.281892Z"
    }
   },
   "outputs": [
    {
     "data": {
      "text/plain": [
       "(1451, 18)"
      ]
     },
     "execution_count": 120,
     "metadata": {},
     "output_type": "execute_result"
    }
   ],
   "source": [
    "all_data.shape"
   ]
  },
  {
   "cell_type": "markdown",
   "id": "39946727",
   "metadata": {},
   "source": [
    "## engine"
   ]
  },
  {
   "cell_type": "code",
   "execution_count": 121,
   "id": "e92489ad",
   "metadata": {
    "ExecuteTime": {
     "end_time": "2022-06-09T04:43:36.311854Z",
     "start_time": "2022-06-09T04:43:36.296854Z"
    }
   },
   "outputs": [
    {
     "data": {
      "text/plain": [
       "4-cylinder(I4)      896\n",
       "6-cylinder(V6)      311\n",
       "6-cylinder(I6)      162\n",
       "8-cylinder(V8)       70\n",
       "3-cylinder(I3)        4\n",
       "5-cylinder(I5)        3\n",
       "4-cylinder(H4)        2\n",
       "2-cylinder(I2)        2\n",
       "12-cylinder(V12)      1\n",
       "Name: engine, dtype: int64"
      ]
     },
     "execution_count": 121,
     "metadata": {},
     "output_type": "execute_result"
    }
   ],
   "source": [
    "all_data[\"engine\"].value_counts()"
   ]
  },
  {
   "cell_type": "code",
   "execution_count": 122,
   "id": "68995a79",
   "metadata": {
    "ExecuteTime": {
     "end_time": "2022-06-09T04:43:36.343768Z",
     "start_time": "2022-06-09T04:43:36.313809Z"
    }
   },
   "outputs": [
    {
     "data": {
      "text/html": [
       "<div>\n",
       "<style scoped>\n",
       "    .dataframe tbody tr th:only-of-type {\n",
       "        vertical-align: middle;\n",
       "    }\n",
       "\n",
       "    .dataframe tbody tr th {\n",
       "        vertical-align: top;\n",
       "    }\n",
       "\n",
       "    .dataframe thead th {\n",
       "        text-align: right;\n",
       "    }\n",
       "</style>\n",
       "<table border=\"1\" class=\"dataframe\">\n",
       "  <thead>\n",
       "    <tr style=\"text-align: right;\">\n",
       "      <th></th>\n",
       "      <th>id</th>\n",
       "      <th>title</th>\n",
       "      <th>odometer</th>\n",
       "      <th>location</th>\n",
       "      <th>isimported</th>\n",
       "      <th>engine</th>\n",
       "      <th>transmission</th>\n",
       "      <th>fuel</th>\n",
       "      <th>paint</th>\n",
       "      <th>year</th>\n",
       "      <th>target</th>\n",
       "      <th>log_target</th>\n",
       "      <th>com</th>\n",
       "      <th>log_odometer</th>\n",
       "      <th>new</th>\n",
       "      <th>too_old</th>\n",
       "      <th>old</th>\n",
       "      <th>clean_paint</th>\n",
       "    </tr>\n",
       "  </thead>\n",
       "  <tbody>\n",
       "    <tr>\n",
       "      <th>327</th>\n",
       "      <td>327</td>\n",
       "      <td>TOYOTA CAMRY</td>\n",
       "      <td>3656</td>\n",
       "      <td>Abuja</td>\n",
       "      <td>Foreign Used</td>\n",
       "      <td>4-cylinder(H4)</td>\n",
       "      <td>automatic</td>\n",
       "      <td>petrol</td>\n",
       "      <td>Silver</td>\n",
       "      <td>2020</td>\n",
       "      <td>20015000.0</td>\n",
       "      <td>16.811993</td>\n",
       "      <td>TOYOTA</td>\n",
       "      <td>8.204398</td>\n",
       "      <td>1</td>\n",
       "      <td>0.0</td>\n",
       "      <td>0</td>\n",
       "      <td>silver</td>\n",
       "    </tr>\n",
       "    <tr>\n",
       "      <th>360</th>\n",
       "      <td>360</td>\n",
       "      <td>TOYOTA CAMRY</td>\n",
       "      <td>123641</td>\n",
       "      <td>Lagos</td>\n",
       "      <td>Foreign Used</td>\n",
       "      <td>5-cylinder(I5)</td>\n",
       "      <td>automatic</td>\n",
       "      <td>petrol</td>\n",
       "      <td>Dark silver</td>\n",
       "      <td>2014</td>\n",
       "      <td>5515000.0</td>\n",
       "      <td>15.522982</td>\n",
       "      <td>TOYOTA</td>\n",
       "      <td>11.725146</td>\n",
       "      <td>1</td>\n",
       "      <td>1.0</td>\n",
       "      <td>6</td>\n",
       "      <td>silver</td>\n",
       "    </tr>\n",
       "    <tr>\n",
       "      <th>540</th>\n",
       "      <td>540</td>\n",
       "      <td>VOLVO XC90</td>\n",
       "      <td>177734</td>\n",
       "      <td>Lagos</td>\n",
       "      <td>Foreign Used</td>\n",
       "      <td>5-cylinder(I5)</td>\n",
       "      <td>automatic</td>\n",
       "      <td>petrol</td>\n",
       "      <td>Silver</td>\n",
       "      <td>2006</td>\n",
       "      <td>2115000.0</td>\n",
       "      <td>14.564566</td>\n",
       "      <td>VOLVO</td>\n",
       "      <td>12.088049</td>\n",
       "      <td>1</td>\n",
       "      <td>1.0</td>\n",
       "      <td>14</td>\n",
       "      <td>silver</td>\n",
       "    </tr>\n",
       "    <tr>\n",
       "      <th>618</th>\n",
       "      <td>618</td>\n",
       "      <td>TOYOTA SOLARA</td>\n",
       "      <td>118808</td>\n",
       "      <td>Lagos</td>\n",
       "      <td>Foreign Used</td>\n",
       "      <td>3-cylinder(I3)</td>\n",
       "      <td>automatic</td>\n",
       "      <td>petrol</td>\n",
       "      <td>White</td>\n",
       "      <td>2004</td>\n",
       "      <td>2325000.0</td>\n",
       "      <td>14.659231</td>\n",
       "      <td>TOYOTA</td>\n",
       "      <td>11.685272</td>\n",
       "      <td>1</td>\n",
       "      <td>1.0</td>\n",
       "      <td>16</td>\n",
       "      <td>white</td>\n",
       "    </tr>\n",
       "    <tr>\n",
       "      <th>790</th>\n",
       "      <td>790</td>\n",
       "      <td>KIA PICANTO</td>\n",
       "      <td>69416</td>\n",
       "      <td>Ogun</td>\n",
       "      <td>Locally used</td>\n",
       "      <td>3-cylinder(I3)</td>\n",
       "      <td>automatic</td>\n",
       "      <td>petrol</td>\n",
       "      <td>Gold</td>\n",
       "      <td>2013</td>\n",
       "      <td>1275000.0</td>\n",
       "      <td>14.058458</td>\n",
       "      <td>KIA</td>\n",
       "      <td>11.147887</td>\n",
       "      <td>1</td>\n",
       "      <td>1.0</td>\n",
       "      <td>7</td>\n",
       "      <td>gold</td>\n",
       "    </tr>\n",
       "    <tr>\n",
       "      <th>830</th>\n",
       "      <td>830</td>\n",
       "      <td>HONDA ACCORD</td>\n",
       "      <td>152229</td>\n",
       "      <td>Lagos</td>\n",
       "      <td>Foreign Used</td>\n",
       "      <td>4-cylinder(H4)</td>\n",
       "      <td>automatic</td>\n",
       "      <td>petrol</td>\n",
       "      <td>Dark Grey</td>\n",
       "      <td>2007</td>\n",
       "      <td>2765000.0</td>\n",
       "      <td>14.832552</td>\n",
       "      <td>HONDA</td>\n",
       "      <td>11.933148</td>\n",
       "      <td>1</td>\n",
       "      <td>1.0</td>\n",
       "      <td>13</td>\n",
       "      <td>grey</td>\n",
       "    </tr>\n",
       "    <tr>\n",
       "      <th>869</th>\n",
       "      <td>869</td>\n",
       "      <td>PEUGEOT 308</td>\n",
       "      <td>130853</td>\n",
       "      <td>Lagos</td>\n",
       "      <td>Foreign Used</td>\n",
       "      <td>2-cylinder(I2)</td>\n",
       "      <td>manual</td>\n",
       "      <td>petrol</td>\n",
       "      <td>Brown</td>\n",
       "      <td>2009</td>\n",
       "      <td>3015000.0</td>\n",
       "      <td>14.919111</td>\n",
       "      <td>PEUGEOT</td>\n",
       "      <td>11.781837</td>\n",
       "      <td>1</td>\n",
       "      <td>1.0</td>\n",
       "      <td>11</td>\n",
       "      <td>brown</td>\n",
       "    </tr>\n",
       "    <tr>\n",
       "      <th>949</th>\n",
       "      <td>949</td>\n",
       "      <td>TOYOTA VENZA</td>\n",
       "      <td>224376</td>\n",
       "      <td>Lagos</td>\n",
       "      <td>Locally used</td>\n",
       "      <td>3-cylinder(I3)</td>\n",
       "      <td>automatic</td>\n",
       "      <td>petrol</td>\n",
       "      <td>Dark Grey</td>\n",
       "      <td>2013</td>\n",
       "      <td>5815000.0</td>\n",
       "      <td>15.575952</td>\n",
       "      <td>TOYOTA</td>\n",
       "      <td>12.321083</td>\n",
       "      <td>1</td>\n",
       "      <td>1.0</td>\n",
       "      <td>7</td>\n",
       "      <td>grey</td>\n",
       "    </tr>\n",
       "    <tr>\n",
       "      <th>1082</th>\n",
       "      <td>67</td>\n",
       "      <td>MERCEDES-BENZ GLK 300</td>\n",
       "      <td>78608</td>\n",
       "      <td>Lagos</td>\n",
       "      <td>Foreign Used</td>\n",
       "      <td>5-cylinder(I5)</td>\n",
       "      <td>automatic</td>\n",
       "      <td>petrol</td>\n",
       "      <td>Black</td>\n",
       "      <td>2010</td>\n",
       "      <td>NaN</td>\n",
       "      <td>NaN</td>\n",
       "      <td>MERCEDES-BENZ</td>\n",
       "      <td>11.272241</td>\n",
       "      <td>1</td>\n",
       "      <td>1.0</td>\n",
       "      <td>10</td>\n",
       "      <td>black</td>\n",
       "    </tr>\n",
       "    <tr>\n",
       "      <th>1124</th>\n",
       "      <td>109</td>\n",
       "      <td>TOYOTA COROLLA</td>\n",
       "      <td>80754</td>\n",
       "      <td>Lagos</td>\n",
       "      <td>Foreign Used</td>\n",
       "      <td>2-cylinder(I2)</td>\n",
       "      <td>automatic</td>\n",
       "      <td>petrol</td>\n",
       "      <td>Black</td>\n",
       "      <td>2010</td>\n",
       "      <td>NaN</td>\n",
       "      <td>NaN</td>\n",
       "      <td>TOYOTA</td>\n",
       "      <td>11.299175</td>\n",
       "      <td>1</td>\n",
       "      <td>1.0</td>\n",
       "      <td>10</td>\n",
       "      <td>black</td>\n",
       "    </tr>\n",
       "    <tr>\n",
       "      <th>1157</th>\n",
       "      <td>142</td>\n",
       "      <td>MERCEDES-BENZ MAYBACH</td>\n",
       "      <td>6758</td>\n",
       "      <td>Lagos</td>\n",
       "      <td>New</td>\n",
       "      <td>12-cylinder(V12)</td>\n",
       "      <td>automatic</td>\n",
       "      <td>petrol</td>\n",
       "      <td>Black</td>\n",
       "      <td>2019</td>\n",
       "      <td>NaN</td>\n",
       "      <td>NaN</td>\n",
       "      <td>MERCEDES-BENZ</td>\n",
       "      <td>8.818630</td>\n",
       "      <td>1</td>\n",
       "      <td>0.0</td>\n",
       "      <td>1</td>\n",
       "      <td>black</td>\n",
       "    </tr>\n",
       "    <tr>\n",
       "      <th>1269</th>\n",
       "      <td>254</td>\n",
       "      <td>MAZDA 323</td>\n",
       "      <td>281394</td>\n",
       "      <td>Abuja</td>\n",
       "      <td>Foreign Used</td>\n",
       "      <td>3-cylinder(I3)</td>\n",
       "      <td>automatic</td>\n",
       "      <td>petrol</td>\n",
       "      <td>Blue</td>\n",
       "      <td>2002</td>\n",
       "      <td>NaN</td>\n",
       "      <td>NaN</td>\n",
       "      <td>MAZDA</td>\n",
       "      <td>12.547515</td>\n",
       "      <td>1</td>\n",
       "      <td>1.0</td>\n",
       "      <td>18</td>\n",
       "      <td>blue</td>\n",
       "    </tr>\n",
       "  </tbody>\n",
       "</table>\n",
       "</div>"
      ],
      "text/plain": [
       "       id                  title  odometer location    isimported  \\\n",
       "327   327           TOYOTA CAMRY      3656    Abuja  Foreign Used   \n",
       "360   360           TOYOTA CAMRY    123641   Lagos   Foreign Used   \n",
       "540   540             VOLVO XC90    177734    Lagos  Foreign Used   \n",
       "618   618          TOYOTA SOLARA    118808    Lagos  Foreign Used   \n",
       "790   790            KIA PICANTO     69416     Ogun  Locally used   \n",
       "830   830           HONDA ACCORD    152229    Lagos  Foreign Used   \n",
       "869   869            PEUGEOT 308    130853    Lagos  Foreign Used   \n",
       "949   949           TOYOTA VENZA    224376    Lagos  Locally used   \n",
       "1082   67  MERCEDES-BENZ GLK 300     78608    Lagos  Foreign Used   \n",
       "1124  109         TOYOTA COROLLA     80754    Lagos  Foreign Used   \n",
       "1157  142  MERCEDES-BENZ MAYBACH      6758    Lagos          New    \n",
       "1269  254              MAZDA 323    281394    Abuja  Foreign Used   \n",
       "\n",
       "                engine transmission    fuel         paint  year      target  \\\n",
       "327     4-cylinder(H4)    automatic  petrol        Silver  2020  20015000.0   \n",
       "360     5-cylinder(I5)    automatic  petrol  Dark silver   2014   5515000.0   \n",
       "540     5-cylinder(I5)    automatic  petrol        Silver  2006   2115000.0   \n",
       "618     3-cylinder(I3)    automatic  petrol         White  2004   2325000.0   \n",
       "790     3-cylinder(I3)    automatic  petrol          Gold  2013   1275000.0   \n",
       "830     4-cylinder(H4)    automatic  petrol     Dark Grey  2007   2765000.0   \n",
       "869     2-cylinder(I2)       manual  petrol         Brown  2009   3015000.0   \n",
       "949     3-cylinder(I3)    automatic  petrol     Dark Grey  2013   5815000.0   \n",
       "1082    5-cylinder(I5)    automatic  petrol         Black  2010         NaN   \n",
       "1124    2-cylinder(I2)    automatic  petrol         Black  2010         NaN   \n",
       "1157  12-cylinder(V12)    automatic  petrol         Black  2019         NaN   \n",
       "1269    3-cylinder(I3)    automatic  petrol         Blue   2002         NaN   \n",
       "\n",
       "      log_target            com  log_odometer  new  too_old  old clean_paint  \n",
       "327    16.811993         TOYOTA      8.204398    1      0.0    0      silver  \n",
       "360    15.522982         TOYOTA     11.725146    1      1.0    6      silver  \n",
       "540    14.564566          VOLVO     12.088049    1      1.0   14      silver  \n",
       "618    14.659231         TOYOTA     11.685272    1      1.0   16       white  \n",
       "790    14.058458            KIA     11.147887    1      1.0    7        gold  \n",
       "830    14.832552          HONDA     11.933148    1      1.0   13        grey  \n",
       "869    14.919111        PEUGEOT     11.781837    1      1.0   11       brown  \n",
       "949    15.575952         TOYOTA     12.321083    1      1.0    7        grey  \n",
       "1082         NaN  MERCEDES-BENZ     11.272241    1      1.0   10       black  \n",
       "1124         NaN         TOYOTA     11.299175    1      1.0   10       black  \n",
       "1157         NaN  MERCEDES-BENZ      8.818630    1      0.0    1       black  \n",
       "1269         NaN          MAZDA     12.547515    1      1.0   18        blue  "
      ]
     },
     "execution_count": 122,
     "metadata": {},
     "output_type": "execute_result"
    }
   ],
   "source": [
    "all_data[(all_data[\"engine\"]==\"12-cylinder(V12)\")|(all_data[\"engine\"]==\"2-cylinder(I2)\")|(all_data[\"engine\"]==\"4-cylinder(H4)\")|(all_data[\"engine\"]==\"5-cylinder(I5)\")|(all_data[\"engine\"]==\"3-cylinder(I3)\")]"
   ]
  },
  {
   "cell_type": "code",
   "execution_count": 123,
   "id": "45d1ce43",
   "metadata": {
    "ExecuteTime": {
     "end_time": "2022-06-09T04:43:36.359685Z",
     "start_time": "2022-06-09T04:43:36.344725Z"
    }
   },
   "outputs": [],
   "source": [
    "all_data[\"engine_type\"] = all_data[\"engine\"].copy()\n",
    "all_data[\"cylinder\"] = all_data[\"engine\"].copy()\n",
    "all_data[\"cylinder\"] = all_data[\"cylinder\"].map(lambda x: x.split(\"(\")[1][:1])\n",
    "all_data[\"engine_type\"] = all_data[\"engine_type\"].map(lambda x: x.split(\"(\")[1][1:-1])"
   ]
  },
  {
   "cell_type": "code",
   "execution_count": 124,
   "id": "7817cf94",
   "metadata": {
    "ExecuteTime": {
     "end_time": "2022-06-09T04:43:36.375641Z",
     "start_time": "2022-06-09T04:43:36.360682Z"
    }
   },
   "outputs": [
    {
     "data": {
      "text/plain": [
       "4     898\n",
       "6     473\n",
       "8      70\n",
       "3       4\n",
       "5       3\n",
       "2       2\n",
       "12      1\n",
       "Name: engine_type, dtype: int64"
      ]
     },
     "execution_count": 124,
     "metadata": {},
     "output_type": "execute_result"
    }
   ],
   "source": [
    "all_data[\"engine_type\"].value_counts()"
   ]
  },
  {
   "cell_type": "code",
   "execution_count": 125,
   "id": "bf80c784",
   "metadata": {
    "ExecuteTime": {
     "end_time": "2022-06-09T04:43:36.390639Z",
     "start_time": "2022-06-09T04:43:36.377635Z"
    }
   },
   "outputs": [
    {
     "data": {
      "text/plain": [
       "I    1067\n",
       "V     382\n",
       "H       2\n",
       "Name: cylinder, dtype: int64"
      ]
     },
     "execution_count": 125,
     "metadata": {},
     "output_type": "execute_result"
    }
   ],
   "source": [
    "all_data[\"cylinder\"].value_counts()"
   ]
  },
  {
   "cell_type": "code",
   "execution_count": 126,
   "id": "724f6e00",
   "metadata": {
    "ExecuteTime": {
     "end_time": "2022-06-09T04:43:36.406597Z",
     "start_time": "2022-06-09T04:43:36.392596Z"
    }
   },
   "outputs": [
    {
     "data": {
      "text/plain": [
       "(1451, 20)"
      ]
     },
     "execution_count": 126,
     "metadata": {},
     "output_type": "execute_result"
    }
   ],
   "source": [
    "all_data.shape"
   ]
  },
  {
   "cell_type": "markdown",
   "id": "acb524ad",
   "metadata": {},
   "source": [
    "## location"
   ]
  },
  {
   "cell_type": "code",
   "execution_count": 127,
   "id": "3ec765b6",
   "metadata": {
    "ExecuteTime": {
     "end_time": "2022-06-09T04:43:46.411315Z",
     "start_time": "2022-06-09T04:43:46.396851Z"
    }
   },
   "outputs": [],
   "source": [
    "all_data[\"location\"] = all_data[\"location\"].map(lambda x: x.strip())"
   ]
  },
  {
   "cell_type": "code",
   "execution_count": 128,
   "id": "f8bae543",
   "metadata": {
    "ExecuteTime": {
     "end_time": "2022-06-09T04:43:47.090135Z",
     "start_time": "2022-06-09T04:43:47.077132Z"
    }
   },
   "outputs": [
    {
     "data": {
      "text/plain": [
       "Lagos               1164\n",
       "Abuja                216\n",
       "Ogun                  34\n",
       "Lagos State           21\n",
       "other                  5\n",
       "FCT                    2\n",
       "Abia                   2\n",
       "Ogun State             2\n",
       "Accra                  1\n",
       "Abia State             1\n",
       "Adamawa                1\n",
       "Mushin                 1\n",
       "Arepo ogun state       1\n",
       "Name: location, dtype: int64"
      ]
     },
     "execution_count": 128,
     "metadata": {},
     "output_type": "execute_result"
    }
   ],
   "source": [
    "all_data[\"location\"].value_counts()"
   ]
  },
  {
   "cell_type": "code",
   "execution_count": 129,
   "id": "05a1af5e",
   "metadata": {
    "ExecuteTime": {
     "end_time": "2022-06-09T04:43:47.780598Z",
     "start_time": "2022-06-09T04:43:47.764979Z"
    }
   },
   "outputs": [],
   "source": [
    "all_data['location'] = all_data['location'].apply(lambda x : 'Abia' if x.find('Abia') >= 0 else x)\n",
    "all_data['location'] = all_data['location'].apply(lambda x : 'Abuja' if x.find('Abuja') >= 0 else x)\n",
    "all_data['location'] = all_data['location'].apply(lambda x : 'Lagos' if x.find('Lagos') >= 0 else x)\n",
    "all_data['location'] = all_data['location'].apply(lambda x : 'Ogun' if x.find('Ogun') >= 0 else x)\n",
    "all_data['location'] = all_data['location'].apply(lambda x : 'Ogun' if x.find('ogun') >= 0 else x)\n",
    "all_data['location'] = all_data['location'].apply(lambda x : 'Lagos' if x.find('Mushin') >= 0 else x)"
   ]
  },
  {
   "cell_type": "code",
   "execution_count": 130,
   "id": "bc661212",
   "metadata": {
    "ExecuteTime": {
     "end_time": "2022-06-09T04:43:48.429184Z",
     "start_time": "2022-06-09T04:43:48.416222Z"
    }
   },
   "outputs": [
    {
     "data": {
      "text/plain": [
       "Lagos      1186\n",
       "Abuja       216\n",
       "Ogun         37\n",
       "other         5\n",
       "Abia          3\n",
       "FCT           2\n",
       "Accra         1\n",
       "Adamawa       1\n",
       "Name: location, dtype: int64"
      ]
     },
     "execution_count": 130,
     "metadata": {},
     "output_type": "execute_result"
    }
   ],
   "source": [
    "all_data[\"location\"].value_counts()"
   ]
  },
  {
   "cell_type": "code",
   "execution_count": 131,
   "id": "6beff93b",
   "metadata": {
    "ExecuteTime": {
     "end_time": "2022-06-09T04:43:49.108187Z",
     "start_time": "2022-06-09T04:43:49.097217Z"
    }
   },
   "outputs": [
    {
     "data": {
      "text/plain": [
       "(1451, 20)"
      ]
     },
     "execution_count": 131,
     "metadata": {},
     "output_type": "execute_result"
    }
   ],
   "source": [
    "all_data.shape"
   ]
  },
  {
   "cell_type": "markdown",
   "id": "776a8f8c",
   "metadata": {},
   "source": [
    "# 전처리2"
   ]
  },
  {
   "cell_type": "code",
   "execution_count": 132,
   "id": "c779441f",
   "metadata": {
    "ExecuteTime": {
     "end_time": "2022-06-09T04:43:49.795872Z",
     "start_time": "2022-06-09T04:43:49.780984Z"
    }
   },
   "outputs": [],
   "source": [
    "temp = all_data[~all_data[\"target\"].isnull()]"
   ]
  },
  {
   "cell_type": "code",
   "execution_count": 133,
   "id": "c4552b3a",
   "metadata": {
    "ExecuteTime": {
     "end_time": "2022-06-09T04:43:50.761829Z",
     "start_time": "2022-06-09T04:43:50.453416Z"
    }
   },
   "outputs": [
    {
     "data": {
      "text/plain": [
       "<AxesSubplot:xlabel='location', ylabel='target'>"
      ]
     },
     "execution_count": 133,
     "metadata": {},
     "output_type": "execute_result"
    },
    {
     "data": {
      "image/png": "[encoded data removed]",
      "text/plain": [
       "<Figure size 720x576 with 1 Axes>"
      ]
     },
     "metadata": {},
     "output_type": "display_data"
    }
   ],
   "source": [
    "plt.figure(figsize=(10,8))\n",
    "sns.barplot(data=temp, x=\"location\", y=\"target\")"
   ]
  },
  {
   "cell_type": "code",
   "execution_count": 134,
   "id": "a7caeaaa",
   "metadata": {
    "ExecuteTime": {
     "end_time": "2022-06-09T04:43:51.860903Z",
     "start_time": "2022-06-09T04:43:51.420336Z"
    }
   },
   "outputs": [],
   "source": [
    "all_data[\"location\"] = all_data[\"location\"].map(lambda x: replacestringetc(all_data[\"location\"], x, 2))"
   ]
  },
  {
   "cell_type": "code",
   "execution_count": 135,
   "id": "cb4eafd1",
   "metadata": {
    "ExecuteTime": {
     "end_time": "2022-06-09T04:43:52.813312Z",
     "start_time": "2022-06-09T04:43:52.519600Z"
    }
   },
   "outputs": [
    {
     "data": {
      "text/plain": [
       "<AxesSubplot:xlabel='location', ylabel='target'>"
      ]
     },
     "execution_count": 135,
     "metadata": {},
     "output_type": "execute_result"
    },
    {
     "data": {
      "image/png": "[encoded data removed]",
      "text/plain": [
       "<Figure size 576x396 with 1 Axes>"
      ]
     },
     "metadata": {},
     "output_type": "display_data"
    }
   ],
   "source": [
    "temp = all_data[~all_data[\"target\"].isnull()]\n",
    "sns.barplot(data=temp, x=\"location\", y=\"target\")"
   ]
  },
  {
   "cell_type": "code",
   "execution_count": 136,
   "id": "40cb039c",
   "metadata": {
    "ExecuteTime": {
     "end_time": "2022-06-09T04:43:53.509632Z",
     "start_time": "2022-06-09T04:43:53.494590Z"
    }
   },
   "outputs": [
    {
     "data": {
      "text/plain": [
       "(1451, 20)"
      ]
     },
     "execution_count": 136,
     "metadata": {},
     "output_type": "execute_result"
    }
   ],
   "source": [
    "all_data.shape"
   ]
  },
  {
   "cell_type": "markdown",
   "id": "42286809",
   "metadata": {},
   "source": [
    "## isimported"
   ]
  },
  {
   "cell_type": "code",
   "execution_count": 137,
   "id": "da930e0d",
   "metadata": {
    "ExecuteTime": {
     "end_time": "2022-06-09T04:43:54.197679Z",
     "start_time": "2022-06-09T04:43:54.168177Z"
    }
   },
   "outputs": [
    {
     "data": {
      "text/plain": [
       "Foreign Used    1065\n",
       "Locally used     345\n",
       "New               41\n",
       "Name: isimported, dtype: int64"
      ]
     },
     "execution_count": 137,
     "metadata": {},
     "output_type": "execute_result"
    }
   ],
   "source": [
    "all_data[\"isimported\"].value_counts()"
   ]
  },
  {
   "cell_type": "code",
   "execution_count": 138,
   "id": "857ea6b1",
   "metadata": {
    "ExecuteTime": {
     "end_time": "2022-06-09T04:43:55.112367Z",
     "start_time": "2022-06-09T04:43:54.909839Z"
    }
   },
   "outputs": [
    {
     "data": {
      "text/plain": [
       "<AxesSubplot:xlabel='isimported', ylabel='target'>"
      ]
     },
     "execution_count": 138,
     "metadata": {},
     "output_type": "execute_result"
    },
    {
     "data": {
      "image/png": "[encoded data removed]",
      "text/plain": [
       "<Figure size 576x396 with 1 Axes>"
      ]
     },
     "metadata": {},
     "output_type": "display_data"
    }
   ],
   "source": [
    "sns.barplot(data=temp, x=\"isimported\", y=\"target\")"
   ]
  },
  {
   "cell_type": "code",
   "execution_count": 139,
   "id": "1910aecd",
   "metadata": {
    "ExecuteTime": {
     "end_time": "2022-06-09T04:43:56.153180Z",
     "start_time": "2022-06-09T04:43:55.775636Z"
    }
   },
   "outputs": [
    {
     "data": {
      "text/plain": [
       "<AxesSubplot:xlabel='isimported', ylabel='odometer'>"
      ]
     },
     "execution_count": 139,
     "metadata": {},
     "output_type": "execute_result"
    },
    {
     "data": {
      "image/png": "[encoded data removed]",
      "text/plain": [
       "<Figure size 576x396 with 1 Axes>"
      ]
     },
     "metadata": {},
     "output_type": "display_data"
    }
   ],
   "source": [
    "sns.barplot(data=all_data, x=\"isimported\", y=\"odometer\")"
   ]
  },
  {
   "cell_type": "markdown",
   "id": "eef008fa",
   "metadata": {},
   "source": [
    "## transmission"
   ]
  },
  {
   "cell_type": "code",
   "execution_count": 140,
   "id": "e41e7c1c",
   "metadata": {
    "ExecuteTime": {
     "end_time": "2022-06-09T04:43:56.844657Z",
     "start_time": "2022-06-09T04:43:56.831780Z"
    }
   },
   "outputs": [
    {
     "data": {
      "text/plain": [
       "automatic    1379\n",
       "manual         72\n",
       "Name: transmission, dtype: int64"
      ]
     },
     "execution_count": 140,
     "metadata": {},
     "output_type": "execute_result"
    }
   ],
   "source": [
    "all_data[\"transmission\"].value_counts()"
   ]
  },
  {
   "cell_type": "code",
   "execution_count": 141,
   "id": "f2e56bc6",
   "metadata": {
    "ExecuteTime": {
     "end_time": "2022-06-09T04:43:57.723186Z",
     "start_time": "2022-06-09T04:43:57.562037Z"
    }
   },
   "outputs": [
    {
     "data": {
      "text/plain": [
       "<AxesSubplot:xlabel='transmission', ylabel='target'>"
      ]
     },
     "execution_count": 141,
     "metadata": {},
     "output_type": "execute_result"
    },
    {
     "data": {
      "image/png": "[encoded data removed]",
      "text/plain": [
       "<Figure size 576x396 with 1 Axes>"
      ]
     },
     "metadata": {},
     "output_type": "display_data"
    }
   ],
   "source": [
    "sns.barplot(data=temp, x=\"transmission\", y=\"target\")"
   ]
  },
  {
   "cell_type": "markdown",
   "id": "b5cfc772",
   "metadata": {},
   "source": [
    "## fuel"
   ]
  },
  {
   "cell_type": "code",
   "execution_count": 142,
   "id": "931fe4ca",
   "metadata": {
    "ExecuteTime": {
     "end_time": "2022-06-09T04:43:58.386347Z",
     "start_time": "2022-06-09T04:43:58.372377Z"
    }
   },
   "outputs": [
    {
     "data": {
      "text/plain": [
       "petrol    1386\n",
       "diesel      65\n",
       "Name: fuel, dtype: int64"
      ]
     },
     "execution_count": 142,
     "metadata": {},
     "output_type": "execute_result"
    }
   ],
   "source": [
    "all_data[\"fuel\"].value_counts()"
   ]
  },
  {
   "cell_type": "code",
   "execution_count": 143,
   "id": "a0803235",
   "metadata": {
    "ExecuteTime": {
     "end_time": "2022-06-09T04:43:59.261775Z",
     "start_time": "2022-06-09T04:43:59.084399Z"
    }
   },
   "outputs": [
    {
     "data": {
      "text/plain": [
       "<AxesSubplot:xlabel='fuel', ylabel='target'>"
      ]
     },
     "execution_count": 143,
     "metadata": {},
     "output_type": "execute_result"
    },
    {
     "data": {
      "image/png": "[encoded data removed]",
      "text/plain": [
       "<Figure size 576x396 with 1 Axes>"
      ]
     },
     "metadata": {},
     "output_type": "display_data"
    }
   ],
   "source": [
    "sns.barplot(data=temp, x=\"fuel\", y=\"target\")"
   ]
  },
  {
   "cell_type": "code",
   "execution_count": 144,
   "id": "1fcecdb6",
   "metadata": {
    "ExecuteTime": {
     "end_time": "2022-06-09T04:43:59.937651Z",
     "start_time": "2022-06-09T04:43:59.922683Z"
    }
   },
   "outputs": [
    {
     "data": {
      "text/plain": [
       "(1451, 20)"
      ]
     },
     "execution_count": 144,
     "metadata": {},
     "output_type": "execute_result"
    }
   ],
   "source": [
    "all_data.shape"
   ]
  },
  {
   "cell_type": "markdown",
   "id": "ba62d010",
   "metadata": {},
   "source": [
    "## brand"
   ]
  },
  {
   "cell_type": "code",
   "execution_count": 145,
   "id": "3418b8b4",
   "metadata": {
    "ExecuteTime": {
     "end_time": "2022-06-09T04:44:01.791093Z",
     "start_time": "2022-06-09T04:44:00.613908Z"
    }
   },
   "outputs": [
    {
     "data": {
      "text/plain": [
       "<AxesSubplot:xlabel='com', ylabel='target'>"
      ]
     },
     "execution_count": 145,
     "metadata": {},
     "output_type": "execute_result"
    },
    {
     "data": {
      "image/png": "[encoded data removed]",
      "text/plain": [
       "<Figure size 1440x1080 with 1 Axes>"
      ]
     },
     "metadata": {},
     "output_type": "display_data"
    }
   ],
   "source": [
    "plt.figure(figsize=(20,15))\n",
    "sns.barplot(data=temp, x=\"com\", y=\"target\")"
   ]
  },
  {
   "cell_type": "code",
   "execution_count": 146,
   "id": "b2991fd4",
   "metadata": {
    "ExecuteTime": {
     "end_time": "2022-06-09T04:44:03.637616Z",
     "start_time": "2022-06-09T04:44:02.461939Z"
    }
   },
   "outputs": [
    {
     "data": {
      "text/plain": [
       "<AxesSubplot:xlabel='com', ylabel='log_target'>"
      ]
     },
     "execution_count": 146,
     "metadata": {},
     "output_type": "execute_result"
    },
    {
     "data": {
      "image/png": "[encoded data removed]",
      "text/plain": [
       "<Figure size 1440x1080 with 1 Axes>"
      ]
     },
     "metadata": {},
     "output_type": "display_data"
    }
   ],
   "source": [
    "plt.figure(figsize=(20,15))\n",
    "sns.barplot(data=temp, x=\"com\", y=\"log_target\")"
   ]
  },
  {
   "cell_type": "code",
   "execution_count": 147,
   "id": "954ebe03",
   "metadata": {
    "ExecuteTime": {
     "end_time": "2022-06-09T04:44:04.345783Z",
     "start_time": "2022-06-09T04:44:04.315067Z"
    }
   },
   "outputs": [
    {
     "data": {
      "text/plain": [
       "40"
      ]
     },
     "execution_count": 147,
     "metadata": {},
     "output_type": "execute_result"
    }
   ],
   "source": [
    "pt = pd.pivot_table(data=temp, index=[\"com\"], values=[\"target\"], aggfunc=np.max).reset_index()\n",
    "pt = pt.sort_values(\"target\",ascending=False)\n",
    "len(pt)"
   ]
  },
  {
   "cell_type": "code",
   "execution_count": 148,
   "id": "fe79a248",
   "metadata": {
    "ExecuteTime": {
     "end_time": "2022-06-09T04:44:05.039647Z",
     "start_time": "2022-06-09T04:44:05.024495Z"
    }
   },
   "outputs": [
    {
     "data": {
      "text/html": [
       "<div>\n",
       "<style scoped>\n",
       "    .dataframe tbody tr th:only-of-type {\n",
       "        vertical-align: middle;\n",
       "    }\n",
       "\n",
       "    .dataframe tbody tr th {\n",
       "        vertical-align: top;\n",
       "    }\n",
       "\n",
       "    .dataframe thead th {\n",
       "        text-align: right;\n",
       "    }\n",
       "</style>\n",
       "<table border=\"1\" class=\"dataframe\">\n",
       "  <thead>\n",
       "    <tr style=\"text-align: right;\">\n",
       "      <th></th>\n",
       "      <th>com</th>\n",
       "      <th>target</th>\n",
       "    </tr>\n",
       "  </thead>\n",
       "  <tbody>\n",
       "    <tr>\n",
       "      <th>16</th>\n",
       "      <td>IVM</td>\n",
       "      <td>2890000.0</td>\n",
       "    </tr>\n",
       "    <tr>\n",
       "      <th>33</th>\n",
       "      <td>PONTIAC</td>\n",
       "      <td>2815000.0</td>\n",
       "    </tr>\n",
       "    <tr>\n",
       "      <th>18</th>\n",
       "      <td>JEEP</td>\n",
       "      <td>2515000.0</td>\n",
       "    </tr>\n",
       "    <tr>\n",
       "      <th>9</th>\n",
       "      <td>GAC</td>\n",
       "      <td>1615000.0</td>\n",
       "    </tr>\n",
       "    <tr>\n",
       "      <th>2</th>\n",
       "      <td>AUDI</td>\n",
       "      <td>1215000.0</td>\n",
       "    </tr>\n",
       "  </tbody>\n",
       "</table>\n",
       "</div>"
      ],
      "text/plain": [
       "        com     target\n",
       "16      IVM  2890000.0\n",
       "33  PONTIAC  2815000.0\n",
       "18     JEEP  2515000.0\n",
       "9       GAC  1615000.0\n",
       "2      AUDI  1215000.0"
      ]
     },
     "execution_count": 148,
     "metadata": {},
     "output_type": "execute_result"
    }
   ],
   "source": [
    "pt.tail()"
   ]
  },
  {
   "cell_type": "code",
   "execution_count": 149,
   "id": "fd42cc14",
   "metadata": {
    "ExecuteTime": {
     "end_time": "2022-06-09T04:44:06.162385Z",
     "start_time": "2022-06-09T04:44:05.713084Z"
    }
   },
   "outputs": [
    {
     "data": {
      "text/plain": [
       "<AxesSubplot:xlabel='com', ylabel='target'>"
      ]
     },
     "execution_count": 149,
     "metadata": {},
     "output_type": "execute_result"
    },
    {
     "data": {
      "image/png": "[encoded data removed]",
      "text/plain": [
       "<Figure size 1080x864 with 1 Axes>"
      ]
     },
     "metadata": {},
     "output_type": "display_data"
    }
   ],
   "source": [
    "plt.figure(figsize=(15,12))\n",
    "sns.barplot(data=pt, x=\"com\", y=\"target\")"
   ]
  },
  {
   "cell_type": "code",
   "execution_count": 150,
   "id": "1c801e76",
   "metadata": {
    "ExecuteTime": {
     "end_time": "2022-06-09T04:44:06.831496Z",
     "start_time": "2022-06-09T04:44:06.818375Z"
    }
   },
   "outputs": [
    {
     "data": {
      "text/plain": [
       "40"
      ]
     },
     "execution_count": 150,
     "metadata": {},
     "output_type": "execute_result"
    }
   ],
   "source": [
    "clurst = [1,2,2,2,3,3,4,4,4,4,4,4] + [5 for i in range(28)]\n",
    "len(clurst)"
   ]
  },
  {
   "cell_type": "code",
   "execution_count": 151,
   "id": "a147e05c",
   "metadata": {
    "ExecuteTime": {
     "end_time": "2022-06-09T04:44:07.514793Z",
     "start_time": "2022-06-09T04:44:07.500703Z"
    }
   },
   "outputs": [],
   "source": [
    "pt[\"target_com_rank\"] = clurst"
   ]
  },
  {
   "cell_type": "code",
   "execution_count": 152,
   "id": "9f118579",
   "metadata": {
    "ExecuteTime": {
     "end_time": "2022-06-09T04:44:08.207767Z",
     "start_time": "2022-06-09T04:44:08.193980Z"
    }
   },
   "outputs": [],
   "source": [
    "all_data = pd.merge(left=all_data, right=pt, how=\"left\", on=\"com\")"
   ]
  },
  {
   "cell_type": "code",
   "execution_count": 153,
   "id": "1c0b3e4a",
   "metadata": {
    "ExecuteTime": {
     "end_time": "2022-06-09T04:44:08.888903Z",
     "start_time": "2022-06-09T04:44:08.874469Z"
    }
   },
   "outputs": [],
   "source": [
    "# 결측값 확인후 5라고 줌\n",
    "all_data.loc[all_data[\"target_com_rank\"].isnull(),\"target_com_rank\"] = 5"
   ]
  },
  {
   "cell_type": "code",
   "execution_count": 154,
   "id": "605ebbf4",
   "metadata": {
    "ExecuteTime": {
     "end_time": "2022-06-09T04:44:09.654658Z",
     "start_time": "2022-06-09T04:44:09.639291Z"
    }
   },
   "outputs": [
    {
     "data": {
      "text/plain": [
       "(1451, 22)"
      ]
     },
     "execution_count": 154,
     "metadata": {},
     "output_type": "execute_result"
    }
   ],
   "source": [
    "all_data.shape"
   ]
  },
  {
   "cell_type": "markdown",
   "id": "391bc7a1",
   "metadata": {},
   "source": [
    "## color"
   ]
  },
  {
   "cell_type": "code",
   "execution_count": 155,
   "id": "f3d0dbe1",
   "metadata": {
    "ExecuteTime": {
     "end_time": "2022-06-09T04:44:10.369384Z",
     "start_time": "2022-06-09T04:44:10.358419Z"
    }
   },
   "outputs": [
    {
     "data": {
      "text/plain": [
       "array(['Red', 'Black', 'Gray', 'White', 'Blue', 'Redl', 'Silver',\n",
       "       ' Black/Red', 'Deep Blue', 'Dark Grey', 'Brown', 'Grey', 'Green',\n",
       "       'Purple', 'Gold', 'Dark Blue', 'Milk', 'Midnight Black Metal',\n",
       "       'Deep blue', 'green', 'Beige', 'Blue ', 'Silver ', 'red', 'white',\n",
       "       'Dark Ash', 'Black ', 'orange', 'Cream', 'blue', 'Dark gray',\n",
       "       'Sliver', 'White orchild pearl', 'Dark Green', 'Gold ', 'Yellow',\n",
       "       'Grey ', 'Light Gold', 'White ', 'Wine', 'white-blue',\n",
       "       'Magnetic Gray', 'WHITE', 'yellow', 'Gray ', 'Dark silver ',\n",
       "       'Dark blue ', 'SILVER', 'Black.', 'WINE', 'Silver/grey',\n",
       "       'Ink blue', 'Light blue', 'Sky blue', 'Gery', 'Pale brown',\n",
       "       'Whine ', 'Cream ', 'Black and silver', 'DARK GREY', 'Dark ash',\n",
       "       'Light silver ', 'BLACK', 'GOLD', 'Black sand pearl', 'Off white',\n",
       "       'Ash', 'Maroon', 'Navy blue', 'Super White', ' Black',\n",
       "       'Ash and black', 'Green ', 'Magnetic Gray Metallic', 'Skye blue',\n",
       "       'Off white l', 'Sliver ', 'black', 'White and green', 'Light Grey',\n",
       "       'Blac', 'Golf', 'Indigo ink pearl', '  Brown', 'Grey and black',\n",
       "       'Classic Silver Met(1F7)', 'Mint green'], dtype=object)"
      ]
     },
     "execution_count": 155,
     "metadata": {},
     "output_type": "execute_result"
    }
   ],
   "source": [
    "all_data[\"paint\"].unique()"
   ]
  },
  {
   "cell_type": "code",
   "execution_count": 156,
   "id": "eed872f7",
   "metadata": {
    "ExecuteTime": {
     "end_time": "2022-06-09T04:44:11.198573Z",
     "start_time": "2022-06-09T04:44:11.103279Z"
    }
   },
   "outputs": [
    {
     "data": {
      "text/plain": [
       "array(['red', 'black', 'gray', 'white', 'blue', 'redl', 'silver',\n",
       "       'blackred', 'deepblue', 'darkgrey', 'brown', 'grey', 'green',\n",
       "       'purple', 'gold', 'darkblue', 'milk', 'midnightblackmetal',\n",
       "       'beige', 'darkash', 'orange', 'cream', 'darkgray', 'sliver',\n",
       "       'whiteorchildpearl', 'darkgreen', 'yellow', 'lightgold', 'wine',\n",
       "       'whiteblue', 'magneticgray', 'darksilver', 'silvergrey', 'inkblue',\n",
       "       'lightblue', 'skyblue', 'gery', 'palebrown', 'whine',\n",
       "       'blackandsilver', 'lightsilver', 'blacksandpearl', 'offwhite',\n",
       "       'ash', 'maroon', 'navyblue', 'superwhite', 'ashandblack',\n",
       "       'magneticgraymetallic', 'skyeblue', 'offwhitel', 'whiteandgreen',\n",
       "       'lightgrey', 'blac', 'golf', 'indigoinkpearl', 'greyandblack',\n",
       "       'classicsilvermetf', 'mintgreen'], dtype=object)"
      ]
     },
     "execution_count": 156,
     "metadata": {},
     "output_type": "execute_result"
    }
   ],
   "source": [
    "all_data['paint'].map(lambda x: \"\".join(clean_text(x))).unique()"
   ]
  },
  {
   "cell_type": "code",
   "execution_count": 157,
   "id": "10458e6e",
   "metadata": {
    "ExecuteTime": {
     "end_time": "2022-06-09T04:44:11.959592Z",
     "start_time": "2022-06-09T04:44:11.879124Z"
    }
   },
   "outputs": [],
   "source": [
    "all_data[\"paint\"] = all_data['paint'].map(lambda x: \"\".join(clean_text(x)))"
   ]
  },
  {
   "cell_type": "code",
   "execution_count": 158,
   "id": "568d6265",
   "metadata": {
    "ExecuteTime": {
     "end_time": "2022-06-09T04:44:12.677524Z",
     "start_time": "2022-06-09T04:44:12.630337Z"
    }
   },
   "outputs": [],
   "source": [
    "all_data['paint'] = all_data['paint'] = all_data['paint'].apply(lambda x : 'blue' if x.find('blue') >= 0 else x)\n",
    "all_data['paint'] = all_data['paint'] = all_data['paint'].apply(lambda x : 'red' if x.find('red') >= 0 else x)\n",
    "all_data['paint'] = all_data['paint'] = all_data['paint'].apply(lambda x : 'green' if x.find('green') >= 0 else x)\n",
    "all_data['paint'] = all_data['paint'] = all_data['paint'].apply(lambda x : 'grey' if x.find('grey') >= 0 else x)\n",
    "all_data['paint'] = all_data['paint'] = all_data['paint'].apply(lambda x : 'grey' if x.find('gery') >= 0 else x)\n",
    "all_data['paint'] = all_data['paint'] = all_data['paint'].apply(lambda x : 'grey' if x.find('gray') >= 0 else x)\n",
    "all_data['paint'] = all_data['paint'] = all_data['paint'].apply(lambda x : 'grey' if x.find('ash') >= 0 else x)\n",
    "all_data['paint'] = all_data['paint'] = all_data['paint'].apply(lambda x : 'brown' if x.find('brown') >= 0 else x)\n",
    "all_data['paint'] = all_data['paint'] = all_data['paint'].apply(lambda x : 'grey' if x.find('silver') >= 0 else x)\n",
    "all_data['paint'] = all_data['paint'] = all_data['paint'].apply(lambda x : 'grey' if x.find('sliver') >= 0 else x)\n",
    "all_data['paint'] = all_data['paint'] = all_data['paint'].apply(lambda x : 'black' if x.find('black') >= 0 else x)\n",
    "all_data['paint'] = all_data['paint'] = all_data['paint'].apply(lambda x : 'gold' if x.find('gold') >= 0 else x)\n",
    "all_data['paint'] = all_data['paint'] = all_data['paint'].apply(lambda x : 'red' if x.find('whine') >= 0 else x)\n",
    "all_data['paint'] = all_data['paint'] = all_data['paint'].apply(lambda x : 'wine' if x.find('metal') >= 0 else x)\n",
    "all_data['paint'] = all_data['paint'] = all_data['paint'].apply(lambda x : 'red' if x.find('maroon') >= 0 else x)\n",
    "all_data['paint'] = all_data['paint'] = all_data['paint'].apply(lambda x : 'black' if x.find('blac') >= 0 else x)\n",
    "all_data['paint'] = all_data['paint'] = all_data['paint'].apply(lambda x : 'blue' if x.find('indigoinkpearl') >= 0 else x)\n",
    "all_data['paint'] = all_data['paint'] = all_data['paint'].apply(lambda x : 'black' if x.find('black') >= 0 else x)\n",
    "all_data['paint'] = all_data['paint'] = all_data['paint'].apply(lambda x : 'white' if x.find('white') >= 0 else x)\n",
    "all_data['paint'] = all_data['paint'] = all_data['paint'].apply(lambda x : 'gold' if x.find('golf') >= 0 else x)\n",
    "all_data['paint'] = all_data['paint'] = all_data['paint'].apply(lambda x : 'white' if x.find('milk') >= 0 else x)\n",
    "all_data['paint'] = all_data['paint'] = all_data['paint'].apply(lambda x : 'yellow' if x.find('orange') >= 0 else x)\n",
    "all_data['paint'] = all_data['paint'] = all_data['paint'].apply(lambda x : 'red' if x.find('wine') >= 0 else x)"
   ]
  },
  {
   "cell_type": "code",
   "execution_count": 159,
   "id": "d50848ca",
   "metadata": {
    "ExecuteTime": {
     "end_time": "2022-06-09T04:44:13.405682Z",
     "start_time": "2022-06-09T04:44:13.374940Z"
    }
   },
   "outputs": [
    {
     "data": {
      "text/plain": [
       "black     437\n",
       "grey      416\n",
       "white     211\n",
       "blue      143\n",
       "red       111\n",
       "gold       54\n",
       "green      38\n",
       "brown      23\n",
       "yellow      7\n",
       "cream       6\n",
       "purple      3\n",
       "beige       2\n",
       "Name: paint, dtype: int64"
      ]
     },
     "execution_count": 159,
     "metadata": {},
     "output_type": "execute_result"
    }
   ],
   "source": [
    "all_data[\"paint\"].value_counts()"
   ]
  },
  {
   "cell_type": "code",
   "execution_count": 160,
   "id": "a93ce419",
   "metadata": {
    "ExecuteTime": {
     "end_time": "2022-06-09T04:44:14.119077Z",
     "start_time": "2022-06-09T04:44:14.104834Z"
    }
   },
   "outputs": [],
   "source": [
    "temp = all_data[~all_data[\"target_x\"].isnull()]"
   ]
  },
  {
   "cell_type": "code",
   "execution_count": 161,
   "id": "87a56379",
   "metadata": {
    "ExecuteTime": {
     "end_time": "2022-06-09T04:44:15.355938Z",
     "start_time": "2022-06-09T04:44:14.792901Z"
    }
   },
   "outputs": [
    {
     "data": {
      "text/plain": [
       "<AxesSubplot:xlabel='clean_paint', ylabel='target_x'>"
      ]
     },
     "execution_count": 161,
     "metadata": {},
     "output_type": "execute_result"
    },
    {
     "data": {
      "image/png": "[encoded data removed]",
      "text/plain": [
       "<Figure size 1080x720 with 1 Axes>"
      ]
     },
     "metadata": {},
     "output_type": "display_data"
    }
   ],
   "source": [
    "plt.figure(figsize=(15,10))\n",
    "sns.barplot(data=temp, x=\"clean_paint\", y=\"target_x\")"
   ]
  },
  {
   "cell_type": "code",
   "execution_count": 162,
   "id": "331e9a4d",
   "metadata": {
    "ExecuteTime": {
     "end_time": "2022-06-09T04:44:16.544422Z",
     "start_time": "2022-06-09T04:44:16.053628Z"
    }
   },
   "outputs": [
    {
     "data": {
      "text/plain": [
       "<AxesSubplot:xlabel='paint', ylabel='target_x'>"
      ]
     },
     "execution_count": 162,
     "metadata": {},
     "output_type": "execute_result"
    },
    {
     "data": {
      "image/png": "[encoded data removed]",
      "text/plain": [
       "<Figure size 1080x720 with 1 Axes>"
      ]
     },
     "metadata": {},
     "output_type": "display_data"
    }
   ],
   "source": [
    "plt.figure(figsize=(15,10))\n",
    "sns.barplot(data=temp, x=\"paint\", y=\"target_x\")"
   ]
  },
  {
   "cell_type": "code",
   "execution_count": 163,
   "id": "b9791f91",
   "metadata": {
    "ExecuteTime": {
     "end_time": "2022-06-09T04:44:17.768326Z",
     "start_time": "2022-06-09T04:44:17.277981Z"
    }
   },
   "outputs": [],
   "source": [
    "# 10개 이하 etc 처리\n",
    "all_data[\"paint_etc\"] = all_data[\"paint\"].map(lambda x : replacestringetc(all_data[\"paint\"], x, 10))"
   ]
  },
  {
   "cell_type": "code",
   "execution_count": 164,
   "id": "7801638c",
   "metadata": {
    "ExecuteTime": {
     "end_time": "2022-06-09T04:44:18.496135Z",
     "start_time": "2022-06-09T04:44:18.482173Z"
    }
   },
   "outputs": [],
   "source": [
    "# 무채색 / 유채색\n",
    "all_data[\"BWG\"] = all_data[\"paint_etc\"].copy()"
   ]
  },
  {
   "cell_type": "code",
   "execution_count": 165,
   "id": "3c4ab02f",
   "metadata": {
    "ExecuteTime": {
     "end_time": "2022-06-09T04:44:19.192667Z",
     "start_time": "2022-06-09T04:44:19.177673Z"
    }
   },
   "outputs": [],
   "source": [
    "def paint_bwg(x):\n",
    "    if x in [\"black\", \"grey\", \"white\"]:\n",
    "        return 1\n",
    "    else:\n",
    "        return 0"
   ]
  },
  {
   "cell_type": "code",
   "execution_count": 166,
   "id": "85be9c49",
   "metadata": {
    "ExecuteTime": {
     "end_time": "2022-06-09T04:44:19.910924Z",
     "start_time": "2022-06-09T04:44:19.895997Z"
    }
   },
   "outputs": [],
   "source": [
    "all_data[\"BWG\"] = all_data[\"BWG\"].map(lambda x: paint_bwg(x))"
   ]
  },
  {
   "cell_type": "code",
   "execution_count": 167,
   "id": "7d1494f7",
   "metadata": {
    "ExecuteTime": {
     "end_time": "2022-06-09T04:44:20.621046Z",
     "start_time": "2022-06-09T04:44:20.608815Z"
    }
   },
   "outputs": [
    {
     "data": {
      "text/plain": [
       "1    1064\n",
       "0     387\n",
       "Name: BWG, dtype: int64"
      ]
     },
     "execution_count": 167,
     "metadata": {},
     "output_type": "execute_result"
    }
   ],
   "source": [
    "all_data[\"BWG\"].value_counts()"
   ]
  },
  {
   "cell_type": "code",
   "execution_count": 168,
   "id": "92ab4d21",
   "metadata": {
    "ExecuteTime": {
     "end_time": "2022-06-09T04:44:21.399350Z",
     "start_time": "2022-06-09T04:44:21.374982Z"
    }
   },
   "outputs": [
    {
     "data": {
      "text/plain": [
       "(1451, 24)"
      ]
     },
     "execution_count": 168,
     "metadata": {},
     "output_type": "execute_result"
    }
   ],
   "source": [
    "all_data.shape"
   ]
  },
  {
   "cell_type": "markdown",
   "id": "ce0b269a",
   "metadata": {
    "ExecuteTime": {
     "end_time": "2022-06-08T05:28:17.413216Z",
     "start_time": "2022-06-08T05:28:17.405239Z"
    }
   },
   "source": [
    "* 분기점\n",
    "    1. clean_paint 를 쓸 때\n",
    "    2. paint 를 쓸 때\n",
    "    3. paint_etc 를 쓸 때"
   ]
  },
  {
   "cell_type": "markdown",
   "id": "fb7a0269",
   "metadata": {},
   "source": [
    "# drop"
   ]
  },
  {
   "cell_type": "markdown",
   "id": "d792bd63",
   "metadata": {},
   "source": [
    "완전히 필요 없는 피쳐 제거"
   ]
  },
  {
   "cell_type": "code",
   "execution_count": 169,
   "id": "7a49d618",
   "metadata": {
    "ExecuteTime": {
     "end_time": "2022-06-09T04:44:22.160103Z",
     "start_time": "2022-06-09T04:44:22.122204Z"
    }
   },
   "outputs": [
    {
     "data": {
      "text/html": [
       "<div>\n",
       "<style scoped>\n",
       "    .dataframe tbody tr th:only-of-type {\n",
       "        vertical-align: middle;\n",
       "    }\n",
       "\n",
       "    .dataframe tbody tr th {\n",
       "        vertical-align: top;\n",
       "    }\n",
       "\n",
       "    .dataframe thead th {\n",
       "        text-align: right;\n",
       "    }\n",
       "</style>\n",
       "<table border=\"1\" class=\"dataframe\">\n",
       "  <thead>\n",
       "    <tr style=\"text-align: right;\">\n",
       "      <th></th>\n",
       "      <th>id</th>\n",
       "      <th>title</th>\n",
       "      <th>odometer</th>\n",
       "      <th>location</th>\n",
       "      <th>isimported</th>\n",
       "      <th>engine</th>\n",
       "      <th>transmission</th>\n",
       "      <th>fuel</th>\n",
       "      <th>paint</th>\n",
       "      <th>year</th>\n",
       "      <th>...</th>\n",
       "      <th>new</th>\n",
       "      <th>too_old</th>\n",
       "      <th>old</th>\n",
       "      <th>clean_paint</th>\n",
       "      <th>engine_type</th>\n",
       "      <th>cylinder</th>\n",
       "      <th>target_y</th>\n",
       "      <th>target_com_rank</th>\n",
       "      <th>paint_etc</th>\n",
       "      <th>BWG</th>\n",
       "    </tr>\n",
       "  </thead>\n",
       "  <tbody>\n",
       "    <tr>\n",
       "      <th>0</th>\n",
       "      <td>0</td>\n",
       "      <td>TOYOTA RAV 4</td>\n",
       "      <td>18277</td>\n",
       "      <td>Lagos</td>\n",
       "      <td>Foreign Used</td>\n",
       "      <td>4-cylinder(I4)</td>\n",
       "      <td>automatic</td>\n",
       "      <td>petrol</td>\n",
       "      <td>red</td>\n",
       "      <td>2016</td>\n",
       "      <td>...</td>\n",
       "      <td>1</td>\n",
       "      <td>0.0</td>\n",
       "      <td>4</td>\n",
       "      <td>red</td>\n",
       "      <td>4</td>\n",
       "      <td>I</td>\n",
       "      <td>65015000.0</td>\n",
       "      <td>3.0</td>\n",
       "      <td>red</td>\n",
       "      <td>0</td>\n",
       "    </tr>\n",
       "    <tr>\n",
       "      <th>1</th>\n",
       "      <td>1</td>\n",
       "      <td>TOYOTA LAND CRUISER</td>\n",
       "      <td>10</td>\n",
       "      <td>Lagos</td>\n",
       "      <td>New</td>\n",
       "      <td>4-cylinder(I4)</td>\n",
       "      <td>automatic</td>\n",
       "      <td>petrol</td>\n",
       "      <td>black</td>\n",
       "      <td>2019</td>\n",
       "      <td>...</td>\n",
       "      <td>1</td>\n",
       "      <td>0.0</td>\n",
       "      <td>1</td>\n",
       "      <td>black</td>\n",
       "      <td>4</td>\n",
       "      <td>I</td>\n",
       "      <td>65015000.0</td>\n",
       "      <td>3.0</td>\n",
       "      <td>black</td>\n",
       "      <td>1</td>\n",
       "    </tr>\n",
       "    <tr>\n",
       "      <th>2</th>\n",
       "      <td>2</td>\n",
       "      <td>LAND ROVER RANGE ROVER EVOQUE</td>\n",
       "      <td>83091</td>\n",
       "      <td>Lagos</td>\n",
       "      <td>Foreign Used</td>\n",
       "      <td>6-cylinder(V6)</td>\n",
       "      <td>automatic</td>\n",
       "      <td>petrol</td>\n",
       "      <td>red</td>\n",
       "      <td>2012</td>\n",
       "      <td>...</td>\n",
       "      <td>1</td>\n",
       "      <td>1.0</td>\n",
       "      <td>8</td>\n",
       "      <td>red</td>\n",
       "      <td>6</td>\n",
       "      <td>V</td>\n",
       "      <td>117015000.0</td>\n",
       "      <td>2.0</td>\n",
       "      <td>red</td>\n",
       "      <td>0</td>\n",
       "    </tr>\n",
       "    <tr>\n",
       "      <th>3</th>\n",
       "      <td>3</td>\n",
       "      <td>LEXUS ES 350</td>\n",
       "      <td>91524</td>\n",
       "      <td>Lagos</td>\n",
       "      <td>Foreign Used</td>\n",
       "      <td>4-cylinder(I4)</td>\n",
       "      <td>automatic</td>\n",
       "      <td>petrol</td>\n",
       "      <td>grey</td>\n",
       "      <td>2007</td>\n",
       "      <td>...</td>\n",
       "      <td>1</td>\n",
       "      <td>1.0</td>\n",
       "      <td>13</td>\n",
       "      <td>grey</td>\n",
       "      <td>4</td>\n",
       "      <td>I</td>\n",
       "      <td>110015000.0</td>\n",
       "      <td>2.0</td>\n",
       "      <td>grey</td>\n",
       "      <td>1</td>\n",
       "    </tr>\n",
       "    <tr>\n",
       "      <th>4</th>\n",
       "      <td>4</td>\n",
       "      <td>TOYOTA VENZA</td>\n",
       "      <td>94177</td>\n",
       "      <td>Lagos</td>\n",
       "      <td>Foreign Used</td>\n",
       "      <td>6-cylinder(V6)</td>\n",
       "      <td>automatic</td>\n",
       "      <td>petrol</td>\n",
       "      <td>red</td>\n",
       "      <td>2010</td>\n",
       "      <td>...</td>\n",
       "      <td>1</td>\n",
       "      <td>1.0</td>\n",
       "      <td>10</td>\n",
       "      <td>red</td>\n",
       "      <td>6</td>\n",
       "      <td>V</td>\n",
       "      <td>65015000.0</td>\n",
       "      <td>3.0</td>\n",
       "      <td>red</td>\n",
       "      <td>0</td>\n",
       "    </tr>\n",
       "  </tbody>\n",
       "</table>\n",
       "<p>5 rows × 24 columns</p>\n",
       "</div>"
      ],
      "text/plain": [
       "   id                          title  odometer location    isimported  \\\n",
       "0   0                   TOYOTA RAV 4     18277    Lagos  Foreign Used   \n",
       "1   1            TOYOTA LAND CRUISER        10    Lagos          New    \n",
       "2   2  LAND ROVER RANGE ROVER EVOQUE     83091    Lagos  Foreign Used   \n",
       "3   3                   LEXUS ES 350     91524    Lagos  Foreign Used   \n",
       "4   4                   TOYOTA VENZA     94177    Lagos  Foreign Used   \n",
       "\n",
       "           engine transmission    fuel  paint  year  ...  new  too_old old  \\\n",
       "0  4-cylinder(I4)    automatic  petrol    red  2016  ...    1      0.0   4   \n",
       "1  4-cylinder(I4)    automatic  petrol  black  2019  ...    1      0.0   1   \n",
       "2  6-cylinder(V6)    automatic  petrol    red  2012  ...    1      1.0   8   \n",
       "3  4-cylinder(I4)    automatic  petrol   grey  2007  ...    1      1.0  13   \n",
       "4  6-cylinder(V6)    automatic  petrol    red  2010  ...    1      1.0  10   \n",
       "\n",
       "   clean_paint  engine_type  cylinder     target_y target_com_rank paint_etc  \\\n",
       "0          red            4         I   65015000.0             3.0       red   \n",
       "1        black            4         I   65015000.0             3.0     black   \n",
       "2          red            6         V  117015000.0             2.0       red   \n",
       "3         grey            4         I  110015000.0             2.0      grey   \n",
       "4          red            6         V   65015000.0             3.0       red   \n",
       "\n",
       "  BWG  \n",
       "0   0  \n",
       "1   1  \n",
       "2   0  \n",
       "3   1  \n",
       "4   0  \n",
       "\n",
       "[5 rows x 24 columns]"
      ]
     },
     "execution_count": 169,
     "metadata": {},
     "output_type": "execute_result"
    }
   ],
   "source": [
    "all_data.head()"
   ]
  },
  {
   "cell_type": "code",
   "execution_count": 170,
   "id": "479a3671",
   "metadata": {
    "ExecuteTime": {
     "end_time": "2022-06-09T04:44:49.735415Z",
     "start_time": "2022-06-09T04:44:49.713478Z"
    }
   },
   "outputs": [],
   "source": [
    "drop_feature = [\"id\", \"engine\", \"year\", \"target_y\"]\n",
    "all_data = all_data.drop(drop_feature, axis=1)"
   ]
  },
  {
   "cell_type": "markdown",
   "id": "ef28f35a",
   "metadata": {},
   "source": [
    "# 데이터 정리"
   ]
  },
  {
   "cell_type": "code",
   "execution_count": 171,
   "id": "94cd29f1",
   "metadata": {
    "ExecuteTime": {
     "end_time": "2022-06-09T04:44:59.002081Z",
     "start_time": "2022-06-09T04:44:58.993108Z"
    }
   },
   "outputs": [],
   "source": [
    "all_data[\"too_old\"] = all_data[\"too_old\"].astype(int)\n",
    "all_data[\"target_com_rank\"] = all_data[\"target_com_rank\"].astype(int)"
   ]
  },
  {
   "cell_type": "code",
   "execution_count": 172,
   "id": "c2416000",
   "metadata": {
    "ExecuteTime": {
     "end_time": "2022-06-09T04:45:01.486312Z",
     "start_time": "2022-06-09T04:45:01.478287Z"
    }
   },
   "outputs": [],
   "source": [
    "all_data = all_data.rename(columns={\"target_x\":\"target\", \"new\":\"use\"})"
   ]
  },
  {
   "cell_type": "markdown",
   "id": "fa1a8056",
   "metadata": {},
   "source": [
    "# 저장"
   ]
  },
  {
   "cell_type": "code",
   "execution_count": 173,
   "id": "2d93d9af",
   "metadata": {
    "ExecuteTime": {
     "end_time": "2022-06-09T04:45:03.795348Z",
     "start_time": "2022-06-09T04:45:03.760397Z"
    }
   },
   "outputs": [],
   "source": [
    "all_data.to_csv(\"preprocessing_done.csv\", index=False)"
   ]
  },
  {
   "cell_type": "code",
   "execution_count": 174,
   "id": "6d1f9047",
   "metadata": {
    "ExecuteTime": {
     "end_time": "2022-06-09T04:45:04.543966Z",
     "start_time": "2022-06-09T04:45:04.514039Z"
    }
   },
   "outputs": [],
   "source": [
    "all_data = pd.read_csv(\"preprocessing_done.csv\")"
   ]
  },
  {
   "cell_type": "markdown",
   "id": "0496c473",
   "metadata": {},
   "source": [
    "# 데이터 분기점"
   ]
  },
  {
   "cell_type": "code",
   "execution_count": 175,
   "id": "571f1f00",
   "metadata": {
    "ExecuteTime": {
     "end_time": "2022-06-09T04:45:16.320717Z",
     "start_time": "2022-06-09T04:45:16.309755Z"
    }
   },
   "outputs": [
    {
     "data": {
      "text/plain": [
       "['title',\n",
       " 'odometer',\n",
       " 'location',\n",
       " 'isimported',\n",
       " 'transmission',\n",
       " 'fuel',\n",
       " 'paint',\n",
       " 'target',\n",
       " 'log_target',\n",
       " 'com',\n",
       " 'log_odometer',\n",
       " 'use',\n",
       " 'too_old',\n",
       " 'old',\n",
       " 'clean_paint',\n",
       " 'engine_type',\n",
       " 'cylinder',\n",
       " 'target_com_rank',\n",
       " 'paint_etc',\n",
       " 'BWG']"
      ]
     },
     "execution_count": 175,
     "metadata": {},
     "output_type": "execute_result"
    }
   ],
   "source": [
    "list(all_data)"
   ]
  },
  {
   "cell_type": "code",
   "execution_count": 180,
   "id": "88397800",
   "metadata": {
    "ExecuteTime": {
     "end_time": "2022-06-09T04:47:17.672182Z",
     "start_time": "2022-06-09T04:47:17.640609Z"
    }
   },
   "outputs": [],
   "source": [
    "# [\n",
    "#     'title', 'odometer', 'location', 'isimported', 'transmission', 'fuel',\n",
    "#     'paint', 'target', 'log_target', 'com', 'log_odometer', 'use', 'too_old',\n",
    "#     'old', 'clean_paint', 'engine_type', 'cylinder', 'target_com_rank',\n",
    "#     'paint_etc'\n",
    "# ]\n",
    "# 가져갈 피쳐 체크\n",
    "\n",
    "all_data = all_data[[\n",
    " 'title',\n",
    " 'odometer',\n",
    " 'location',\n",
    " 'isimported',\n",
    " 'transmission',\n",
    " 'fuel',\n",
    "#  'paint',\n",
    "#  'target',\n",
    " 'log_target',\n",
    " 'com',\n",
    " 'log_odometer',\n",
    " 'use',\n",
    "#  'too_old',\n",
    " 'old',\n",
    "#  'clean_paint',\n",
    " 'engine_type',\n",
    " 'cylinder',\n",
    " 'target_com_rank',\n",
    " 'paint_etc',\n",
    " 'BWG'\n",
    "]]\n",
    "\n",
    "train = all_data[~all_data[\"log_target\"].isnull()].reset_index().drop(\"index\", axis=1)\n",
    "test = all_data[all_data[\"log_target\"].isnull()].reset_index().drop(\"index\", axis=1).drop(\"log_target\", axis=1)"
   ]
  },
  {
   "cell_type": "code",
   "execution_count": 181,
   "id": "03a9c14a",
   "metadata": {
    "ExecuteTime": {
     "end_time": "2022-06-09T04:47:18.427282Z",
     "start_time": "2022-06-09T04:47:18.414024Z"
    }
   },
   "outputs": [
    {
     "data": {
      "text/plain": [
       "((1015, 16), (1015, 12))"
      ]
     },
     "execution_count": 181,
     "metadata": {},
     "output_type": "execute_result"
    }
   ],
   "source": [
    "train.shape, train_data.shape"
   ]
  },
  {
   "cell_type": "code",
   "execution_count": 182,
   "id": "bb964092",
   "metadata": {
    "ExecuteTime": {
     "end_time": "2022-06-09T04:47:19.156688Z",
     "start_time": "2022-06-09T04:47:19.145647Z"
    }
   },
   "outputs": [
    {
     "data": {
      "text/plain": [
       "((436, 15), (436, 10))"
      ]
     },
     "execution_count": 182,
     "metadata": {},
     "output_type": "execute_result"
    }
   ],
   "source": [
    "test.shape, test_data.shape"
   ]
  },
  {
   "cell_type": "code",
   "execution_count": 183,
   "id": "11348b70",
   "metadata": {
    "ExecuteTime": {
     "end_time": "2022-06-09T04:47:19.881386Z",
     "start_time": "2022-06-09T04:47:19.867424Z"
    }
   },
   "outputs": [
    {
     "data": {
      "text/plain": [
       "0"
      ]
     },
     "execution_count": 183,
     "metadata": {},
     "output_type": "execute_result"
    }
   ],
   "source": [
    "sum(test.odometer - test_data.odometer)"
   ]
  },
  {
   "cell_type": "code",
   "execution_count": 184,
   "id": "93650de8",
   "metadata": {
    "ExecuteTime": {
     "end_time": "2022-06-09T04:47:20.954146Z",
     "start_time": "2022-06-09T04:47:20.937190Z"
    }
   },
   "outputs": [
    {
     "data": {
      "text/html": [
       "<div>\n",
       "<style scoped>\n",
       "    .dataframe tbody tr th:only-of-type {\n",
       "        vertical-align: middle;\n",
       "    }\n",
       "\n",
       "    .dataframe tbody tr th {\n",
       "        vertical-align: top;\n",
       "    }\n",
       "\n",
       "    .dataframe thead th {\n",
       "        text-align: right;\n",
       "    }\n",
       "</style>\n",
       "<table border=\"1\" class=\"dataframe\">\n",
       "  <thead>\n",
       "    <tr style=\"text-align: right;\">\n",
       "      <th></th>\n",
       "      <th>title</th>\n",
       "      <th>odometer</th>\n",
       "      <th>location</th>\n",
       "      <th>isimported</th>\n",
       "      <th>transmission</th>\n",
       "      <th>fuel</th>\n",
       "      <th>log_target</th>\n",
       "      <th>com</th>\n",
       "      <th>log_odometer</th>\n",
       "      <th>use</th>\n",
       "      <th>old</th>\n",
       "      <th>engine_type</th>\n",
       "      <th>cylinder</th>\n",
       "      <th>target_com_rank</th>\n",
       "      <th>paint_etc</th>\n",
       "      <th>BWG</th>\n",
       "    </tr>\n",
       "  </thead>\n",
       "  <tbody>\n",
       "    <tr>\n",
       "      <th>0</th>\n",
       "      <td>TOYOTA RAV 4</td>\n",
       "      <td>18277</td>\n",
       "      <td>Lagos</td>\n",
       "      <td>Foreign Used</td>\n",
       "      <td>automatic</td>\n",
       "      <td>petrol</td>\n",
       "      <td>16.430348</td>\n",
       "      <td>TOYOTA</td>\n",
       "      <td>9.813453</td>\n",
       "      <td>1</td>\n",
       "      <td>4</td>\n",
       "      <td>4</td>\n",
       "      <td>I</td>\n",
       "      <td>3</td>\n",
       "      <td>red</td>\n",
       "      <td>0</td>\n",
       "    </tr>\n",
       "    <tr>\n",
       "      <th>1</th>\n",
       "      <td>TOYOTA LAND CRUISER</td>\n",
       "      <td>10</td>\n",
       "      <td>Lagos</td>\n",
       "      <td>New</td>\n",
       "      <td>automatic</td>\n",
       "      <td>petrol</td>\n",
       "      <td>17.312473</td>\n",
       "      <td>TOYOTA</td>\n",
       "      <td>2.397895</td>\n",
       "      <td>1</td>\n",
       "      <td>1</td>\n",
       "      <td>4</td>\n",
       "      <td>I</td>\n",
       "      <td>3</td>\n",
       "      <td>black</td>\n",
       "      <td>1</td>\n",
       "    </tr>\n",
       "  </tbody>\n",
       "</table>\n",
       "</div>"
      ],
      "text/plain": [
       "                 title  odometer location    isimported transmission    fuel  \\\n",
       "0         TOYOTA RAV 4     18277    Lagos  Foreign Used    automatic  petrol   \n",
       "1  TOYOTA LAND CRUISER        10    Lagos          New     automatic  petrol   \n",
       "\n",
       "   log_target     com  log_odometer  use  old  engine_type cylinder  \\\n",
       "0   16.430348  TOYOTA      9.813453    1    4            4        I   \n",
       "1   17.312473  TOYOTA      2.397895    1    1            4        I   \n",
       "\n",
       "   target_com_rank paint_etc  BWG  \n",
       "0                3       red    0  \n",
       "1                3     black    1  "
      ]
     },
     "execution_count": 184,
     "metadata": {},
     "output_type": "execute_result"
    }
   ],
   "source": [
    "train.head(2)"
   ]
  },
  {
   "cell_type": "code",
   "execution_count": 185,
   "id": "efe81ff5",
   "metadata": {
    "ExecuteTime": {
     "end_time": "2022-06-09T04:47:21.743447Z",
     "start_time": "2022-06-09T04:47:21.715522Z"
    }
   },
   "outputs": [
    {
     "data": {
      "text/html": [
       "<div>\n",
       "<style scoped>\n",
       "    .dataframe tbody tr th:only-of-type {\n",
       "        vertical-align: middle;\n",
       "    }\n",
       "\n",
       "    .dataframe tbody tr th {\n",
       "        vertical-align: top;\n",
       "    }\n",
       "\n",
       "    .dataframe thead th {\n",
       "        text-align: right;\n",
       "    }\n",
       "</style>\n",
       "<table border=\"1\" class=\"dataframe\">\n",
       "  <thead>\n",
       "    <tr style=\"text-align: right;\">\n",
       "      <th></th>\n",
       "      <th>title</th>\n",
       "      <th>odometer</th>\n",
       "      <th>location</th>\n",
       "      <th>isimported</th>\n",
       "      <th>transmission</th>\n",
       "      <th>fuel</th>\n",
       "      <th>com</th>\n",
       "      <th>log_odometer</th>\n",
       "      <th>use</th>\n",
       "      <th>old</th>\n",
       "      <th>engine_type</th>\n",
       "      <th>cylinder</th>\n",
       "      <th>target_com_rank</th>\n",
       "      <th>paint_etc</th>\n",
       "      <th>BWG</th>\n",
       "    </tr>\n",
       "  </thead>\n",
       "  <tbody>\n",
       "    <tr>\n",
       "      <th>0</th>\n",
       "      <td>MERCEDES-BENZ C 300</td>\n",
       "      <td>1234</td>\n",
       "      <td>Abuja</td>\n",
       "      <td>New</td>\n",
       "      <td>automatic</td>\n",
       "      <td>petrol</td>\n",
       "      <td>MERCEDES-BENZ</td>\n",
       "      <td>7.118826</td>\n",
       "      <td>1</td>\n",
       "      <td>3</td>\n",
       "      <td>4</td>\n",
       "      <td>I</td>\n",
       "      <td>2</td>\n",
       "      <td>white</td>\n",
       "      <td>1</td>\n",
       "    </tr>\n",
       "    <tr>\n",
       "      <th>1</th>\n",
       "      <td>HONDA ACCORD</td>\n",
       "      <td>29938</td>\n",
       "      <td>Abuja</td>\n",
       "      <td>Foreign Used</td>\n",
       "      <td>automatic</td>\n",
       "      <td>petrol</td>\n",
       "      <td>HONDA</td>\n",
       "      <td>10.306917</td>\n",
       "      <td>1</td>\n",
       "      <td>7</td>\n",
       "      <td>4</td>\n",
       "      <td>I</td>\n",
       "      <td>4</td>\n",
       "      <td>white</td>\n",
       "      <td>1</td>\n",
       "    </tr>\n",
       "  </tbody>\n",
       "</table>\n",
       "</div>"
      ],
      "text/plain": [
       "                 title  odometer location    isimported transmission    fuel  \\\n",
       "0  MERCEDES-BENZ C 300      1234    Abuja          New     automatic  petrol   \n",
       "1         HONDA ACCORD     29938    Abuja  Foreign Used    automatic  petrol   \n",
       "\n",
       "             com  log_odometer  use  old  engine_type cylinder  \\\n",
       "0  MERCEDES-BENZ      7.118826    1    3            4        I   \n",
       "1          HONDA     10.306917    1    7            4        I   \n",
       "\n",
       "   target_com_rank paint_etc  BWG  \n",
       "0                2     white    1  \n",
       "1                4     white    1  "
      ]
     },
     "execution_count": 185,
     "metadata": {},
     "output_type": "execute_result"
    }
   ],
   "source": [
    "test.head(2)"
   ]
  },
  {
   "cell_type": "markdown",
   "id": "5f07b45a",
   "metadata": {},
   "source": [
    "# 평가지표 작성"
   ]
  },
  {
   "cell_type": "code",
   "execution_count": 186,
   "id": "bc6125a1",
   "metadata": {
    "ExecuteTime": {
     "end_time": "2022-06-09T04:47:23.269107Z",
     "start_time": "2022-06-09T04:47:23.250153Z"
    }
   },
   "outputs": [],
   "source": [
    "def nmae(answer, pred):\n",
    "    mae = np.mean(np.abs(answer-pred))\n",
    "    score = mae / np.mean(np.abs(answer))\n",
    "    return score"
   ]
  },
  {
   "cell_type": "markdown",
   "id": "73817a57",
   "metadata": {},
   "source": [
    "# 모델링"
   ]
  },
  {
   "cell_type": "code",
   "execution_count": 187,
   "id": "86472e21",
   "metadata": {
    "ExecuteTime": {
     "end_time": "2022-06-09T04:47:27.014984Z",
     "start_time": "2022-06-09T04:47:27.003984Z"
    }
   },
   "outputs": [],
   "source": [
    "from pycaret.regression import *"
   ]
  },
  {
   "cell_type": "code",
   "execution_count": 189,
   "id": "aeddcdf6",
   "metadata": {
    "ExecuteTime": {
     "end_time": "2022-06-09T04:48:47.080984Z",
     "start_time": "2022-06-09T04:48:44.600589Z"
    }
   },
   "outputs": [
    {
     "data": {
      "text/html": [
       "<style type=\"text/css\">\n",
       "#T_719ac_row27_col1 {\n",
       "  background-color: lightgreen;\n",
       "}\n",
       "</style>\n",
       "<table id=\"T_719ac\">\n",
       "  <thead>\n",
       "    <tr>\n",
       "      <th class=\"blank level0\" >&nbsp;</th>\n",
       "      <th id=\"T_719ac_level0_col0\" class=\"col_heading level0 col0\" >Description</th>\n",
       "      <th id=\"T_719ac_level0_col1\" class=\"col_heading level0 col1\" >Value</th>\n",
       "    </tr>\n",
       "  </thead>\n",
       "  <tbody>\n",
       "    <tr>\n",
       "      <th id=\"T_719ac_level0_row0\" class=\"row_heading level0 row0\" >0</th>\n",
       "      <td id=\"T_719ac_row0_col0\" class=\"data row0 col0\" >session_id</td>\n",
       "      <td id=\"T_719ac_row0_col1\" class=\"data row0 col1\" >3753</td>\n",
       "    </tr>\n",
       "    <tr>\n",
       "      <th id=\"T_719ac_level0_row1\" class=\"row_heading level0 row1\" >1</th>\n",
       "      <td id=\"T_719ac_row1_col0\" class=\"data row1 col0\" >Target</td>\n",
       "      <td id=\"T_719ac_row1_col1\" class=\"data row1 col1\" >log_target</td>\n",
       "    </tr>\n",
       "    <tr>\n",
       "      <th id=\"T_719ac_level0_row2\" class=\"row_heading level0 row2\" >2</th>\n",
       "      <td id=\"T_719ac_row2_col0\" class=\"data row2 col0\" >Original Data</td>\n",
       "      <td id=\"T_719ac_row2_col1\" class=\"data row2 col1\" >(1015, 16)</td>\n",
       "    </tr>\n",
       "    <tr>\n",
       "      <th id=\"T_719ac_level0_row3\" class=\"row_heading level0 row3\" >3</th>\n",
       "      <td id=\"T_719ac_row3_col0\" class=\"data row3 col0\" >Missing Values</td>\n",
       "      <td id=\"T_719ac_row3_col1\" class=\"data row3 col1\" >False</td>\n",
       "    </tr>\n",
       "    <tr>\n",
       "      <th id=\"T_719ac_level0_row4\" class=\"row_heading level0 row4\" >4</th>\n",
       "      <td id=\"T_719ac_row4_col0\" class=\"data row4 col0\" >Numeric Features</td>\n",
       "      <td id=\"T_719ac_row4_col1\" class=\"data row4 col1\" >3</td>\n",
       "    </tr>\n",
       "    <tr>\n",
       "      <th id=\"T_719ac_level0_row5\" class=\"row_heading level0 row5\" >5</th>\n",
       "      <td id=\"T_719ac_row5_col0\" class=\"data row5 col0\" >Categorical Features</td>\n",
       "      <td id=\"T_719ac_row5_col1\" class=\"data row5 col1\" >12</td>\n",
       "    </tr>\n",
       "    <tr>\n",
       "      <th id=\"T_719ac_level0_row6\" class=\"row_heading level0 row6\" >6</th>\n",
       "      <td id=\"T_719ac_row6_col0\" class=\"data row6 col0\" >Ordinal Features</td>\n",
       "      <td id=\"T_719ac_row6_col1\" class=\"data row6 col1\" >False</td>\n",
       "    </tr>\n",
       "    <tr>\n",
       "      <th id=\"T_719ac_level0_row7\" class=\"row_heading level0 row7\" >7</th>\n",
       "      <td id=\"T_719ac_row7_col0\" class=\"data row7 col0\" >High Cardinality Features</td>\n",
       "      <td id=\"T_719ac_row7_col1\" class=\"data row7 col1\" >False</td>\n",
       "    </tr>\n",
       "    <tr>\n",
       "      <th id=\"T_719ac_level0_row8\" class=\"row_heading level0 row8\" >8</th>\n",
       "      <td id=\"T_719ac_row8_col0\" class=\"data row8 col0\" >High Cardinality Method</td>\n",
       "      <td id=\"T_719ac_row8_col1\" class=\"data row8 col1\" >None</td>\n",
       "    </tr>\n",
       "    <tr>\n",
       "      <th id=\"T_719ac_level0_row9\" class=\"row_heading level0 row9\" >9</th>\n",
       "      <td id=\"T_719ac_row9_col0\" class=\"data row9 col0\" >Transformed Train Set</td>\n",
       "      <td id=\"T_719ac_row9_col1\" class=\"data row9 col1\" >(862, 269)</td>\n",
       "    </tr>\n",
       "    <tr>\n",
       "      <th id=\"T_719ac_level0_row10\" class=\"row_heading level0 row10\" >10</th>\n",
       "      <td id=\"T_719ac_row10_col0\" class=\"data row10 col0\" >Transformed Test Set</td>\n",
       "      <td id=\"T_719ac_row10_col1\" class=\"data row10 col1\" >(153, 269)</td>\n",
       "    </tr>\n",
       "    <tr>\n",
       "      <th id=\"T_719ac_level0_row11\" class=\"row_heading level0 row11\" >11</th>\n",
       "      <td id=\"T_719ac_row11_col0\" class=\"data row11 col0\" >Shuffle Train-Test</td>\n",
       "      <td id=\"T_719ac_row11_col1\" class=\"data row11 col1\" >True</td>\n",
       "    </tr>\n",
       "    <tr>\n",
       "      <th id=\"T_719ac_level0_row12\" class=\"row_heading level0 row12\" >12</th>\n",
       "      <td id=\"T_719ac_row12_col0\" class=\"data row12 col0\" >Stratify Train-Test</td>\n",
       "      <td id=\"T_719ac_row12_col1\" class=\"data row12 col1\" >False</td>\n",
       "    </tr>\n",
       "    <tr>\n",
       "      <th id=\"T_719ac_level0_row13\" class=\"row_heading level0 row13\" >13</th>\n",
       "      <td id=\"T_719ac_row13_col0\" class=\"data row13 col0\" >Fold Generator</td>\n",
       "      <td id=\"T_719ac_row13_col1\" class=\"data row13 col1\" >KFold</td>\n",
       "    </tr>\n",
       "    <tr>\n",
       "      <th id=\"T_719ac_level0_row14\" class=\"row_heading level0 row14\" >14</th>\n",
       "      <td id=\"T_719ac_row14_col0\" class=\"data row14 col0\" >Fold Number</td>\n",
       "      <td id=\"T_719ac_row14_col1\" class=\"data row14 col1\" >10</td>\n",
       "    </tr>\n",
       "    <tr>\n",
       "      <th id=\"T_719ac_level0_row15\" class=\"row_heading level0 row15\" >15</th>\n",
       "      <td id=\"T_719ac_row15_col0\" class=\"data row15 col0\" >CPU Jobs</td>\n",
       "      <td id=\"T_719ac_row15_col1\" class=\"data row15 col1\" >-1</td>\n",
       "    </tr>\n",
       "    <tr>\n",
       "      <th id=\"T_719ac_level0_row16\" class=\"row_heading level0 row16\" >16</th>\n",
       "      <td id=\"T_719ac_row16_col0\" class=\"data row16 col0\" >Use GPU</td>\n",
       "      <td id=\"T_719ac_row16_col1\" class=\"data row16 col1\" >False</td>\n",
       "    </tr>\n",
       "    <tr>\n",
       "      <th id=\"T_719ac_level0_row17\" class=\"row_heading level0 row17\" >17</th>\n",
       "      <td id=\"T_719ac_row17_col0\" class=\"data row17 col0\" >Log Experiment</td>\n",
       "      <td id=\"T_719ac_row17_col1\" class=\"data row17 col1\" >False</td>\n",
       "    </tr>\n",
       "    <tr>\n",
       "      <th id=\"T_719ac_level0_row18\" class=\"row_heading level0 row18\" >18</th>\n",
       "      <td id=\"T_719ac_row18_col0\" class=\"data row18 col0\" >Experiment Name</td>\n",
       "      <td id=\"T_719ac_row18_col1\" class=\"data row18 col1\" >reg-default-name</td>\n",
       "    </tr>\n",
       "    <tr>\n",
       "      <th id=\"T_719ac_level0_row19\" class=\"row_heading level0 row19\" >19</th>\n",
       "      <td id=\"T_719ac_row19_col0\" class=\"data row19 col0\" >USI</td>\n",
       "      <td id=\"T_719ac_row19_col1\" class=\"data row19 col1\" >7da0</td>\n",
       "    </tr>\n",
       "    <tr>\n",
       "      <th id=\"T_719ac_level0_row20\" class=\"row_heading level0 row20\" >20</th>\n",
       "      <td id=\"T_719ac_row20_col0\" class=\"data row20 col0\" >Imputation Type</td>\n",
       "      <td id=\"T_719ac_row20_col1\" class=\"data row20 col1\" >simple</td>\n",
       "    </tr>\n",
       "    <tr>\n",
       "      <th id=\"T_719ac_level0_row21\" class=\"row_heading level0 row21\" >21</th>\n",
       "      <td id=\"T_719ac_row21_col0\" class=\"data row21 col0\" >Iterative Imputation Iteration</td>\n",
       "      <td id=\"T_719ac_row21_col1\" class=\"data row21 col1\" >None</td>\n",
       "    </tr>\n",
       "    <tr>\n",
       "      <th id=\"T_719ac_level0_row22\" class=\"row_heading level0 row22\" >22</th>\n",
       "      <td id=\"T_719ac_row22_col0\" class=\"data row22 col0\" >Numeric Imputer</td>\n",
       "      <td id=\"T_719ac_row22_col1\" class=\"data row22 col1\" >mean</td>\n",
       "    </tr>\n",
       "    <tr>\n",
       "      <th id=\"T_719ac_level0_row23\" class=\"row_heading level0 row23\" >23</th>\n",
       "      <td id=\"T_719ac_row23_col0\" class=\"data row23 col0\" >Iterative Imputation Numeric Model</td>\n",
       "      <td id=\"T_719ac_row23_col1\" class=\"data row23 col1\" >None</td>\n",
       "    </tr>\n",
       "    <tr>\n",
       "      <th id=\"T_719ac_level0_row24\" class=\"row_heading level0 row24\" >24</th>\n",
       "      <td id=\"T_719ac_row24_col0\" class=\"data row24 col0\" >Categorical Imputer</td>\n",
       "      <td id=\"T_719ac_row24_col1\" class=\"data row24 col1\" >constant</td>\n",
       "    </tr>\n",
       "    <tr>\n",
       "      <th id=\"T_719ac_level0_row25\" class=\"row_heading level0 row25\" >25</th>\n",
       "      <td id=\"T_719ac_row25_col0\" class=\"data row25 col0\" >Iterative Imputation Categorical Model</td>\n",
       "      <td id=\"T_719ac_row25_col1\" class=\"data row25 col1\" >None</td>\n",
       "    </tr>\n",
       "    <tr>\n",
       "      <th id=\"T_719ac_level0_row26\" class=\"row_heading level0 row26\" >26</th>\n",
       "      <td id=\"T_719ac_row26_col0\" class=\"data row26 col0\" >Unknown Categoricals Handling</td>\n",
       "      <td id=\"T_719ac_row26_col1\" class=\"data row26 col1\" >least_frequent</td>\n",
       "    </tr>\n",
       "    <tr>\n",
       "      <th id=\"T_719ac_level0_row27\" class=\"row_heading level0 row27\" >27</th>\n",
       "      <td id=\"T_719ac_row27_col0\" class=\"data row27 col0\" >Normalize</td>\n",
       "      <td id=\"T_719ac_row27_col1\" class=\"data row27 col1\" >True</td>\n",
       "    </tr>\n",
       "    <tr>\n",
       "      <th id=\"T_719ac_level0_row28\" class=\"row_heading level0 row28\" >28</th>\n",
       "      <td id=\"T_719ac_row28_col0\" class=\"data row28 col0\" >Normalize Method</td>\n",
       "      <td id=\"T_719ac_row28_col1\" class=\"data row28 col1\" >minmax</td>\n",
       "    </tr>\n",
       "    <tr>\n",
       "      <th id=\"T_719ac_level0_row29\" class=\"row_heading level0 row29\" >29</th>\n",
       "      <td id=\"T_719ac_row29_col0\" class=\"data row29 col0\" >Transformation</td>\n",
       "      <td id=\"T_719ac_row29_col1\" class=\"data row29 col1\" >False</td>\n",
       "    </tr>\n",
       "    <tr>\n",
       "      <th id=\"T_719ac_level0_row30\" class=\"row_heading level0 row30\" >30</th>\n",
       "      <td id=\"T_719ac_row30_col0\" class=\"data row30 col0\" >Transformation Method</td>\n",
       "      <td id=\"T_719ac_row30_col1\" class=\"data row30 col1\" >None</td>\n",
       "    </tr>\n",
       "    <tr>\n",
       "      <th id=\"T_719ac_level0_row31\" class=\"row_heading level0 row31\" >31</th>\n",
       "      <td id=\"T_719ac_row31_col0\" class=\"data row31 col0\" >PCA</td>\n",
       "      <td id=\"T_719ac_row31_col1\" class=\"data row31 col1\" >False</td>\n",
       "    </tr>\n",
       "    <tr>\n",
       "      <th id=\"T_719ac_level0_row32\" class=\"row_heading level0 row32\" >32</th>\n",
       "      <td id=\"T_719ac_row32_col0\" class=\"data row32 col0\" >PCA Method</td>\n",
       "      <td id=\"T_719ac_row32_col1\" class=\"data row32 col1\" >None</td>\n",
       "    </tr>\n",
       "    <tr>\n",
       "      <th id=\"T_719ac_level0_row33\" class=\"row_heading level0 row33\" >33</th>\n",
       "      <td id=\"T_719ac_row33_col0\" class=\"data row33 col0\" >PCA Components</td>\n",
       "      <td id=\"T_719ac_row33_col1\" class=\"data row33 col1\" >None</td>\n",
       "    </tr>\n",
       "    <tr>\n",
       "      <th id=\"T_719ac_level0_row34\" class=\"row_heading level0 row34\" >34</th>\n",
       "      <td id=\"T_719ac_row34_col0\" class=\"data row34 col0\" >Ignore Low Variance</td>\n",
       "      <td id=\"T_719ac_row34_col1\" class=\"data row34 col1\" >False</td>\n",
       "    </tr>\n",
       "    <tr>\n",
       "      <th id=\"T_719ac_level0_row35\" class=\"row_heading level0 row35\" >35</th>\n",
       "      <td id=\"T_719ac_row35_col0\" class=\"data row35 col0\" >Combine Rare Levels</td>\n",
       "      <td id=\"T_719ac_row35_col1\" class=\"data row35 col1\" >False</td>\n",
       "    </tr>\n",
       "    <tr>\n",
       "      <th id=\"T_719ac_level0_row36\" class=\"row_heading level0 row36\" >36</th>\n",
       "      <td id=\"T_719ac_row36_col0\" class=\"data row36 col0\" >Rare Level Threshold</td>\n",
       "      <td id=\"T_719ac_row36_col1\" class=\"data row36 col1\" >None</td>\n",
       "    </tr>\n",
       "    <tr>\n",
       "      <th id=\"T_719ac_level0_row37\" class=\"row_heading level0 row37\" >37</th>\n",
       "      <td id=\"T_719ac_row37_col0\" class=\"data row37 col0\" >Numeric Binning</td>\n",
       "      <td id=\"T_719ac_row37_col1\" class=\"data row37 col1\" >False</td>\n",
       "    </tr>\n",
       "    <tr>\n",
       "      <th id=\"T_719ac_level0_row38\" class=\"row_heading level0 row38\" >38</th>\n",
       "      <td id=\"T_719ac_row38_col0\" class=\"data row38 col0\" >Remove Outliers</td>\n",
       "      <td id=\"T_719ac_row38_col1\" class=\"data row38 col1\" >False</td>\n",
       "    </tr>\n",
       "    <tr>\n",
       "      <th id=\"T_719ac_level0_row39\" class=\"row_heading level0 row39\" >39</th>\n",
       "      <td id=\"T_719ac_row39_col0\" class=\"data row39 col0\" >Outliers Threshold</td>\n",
       "      <td id=\"T_719ac_row39_col1\" class=\"data row39 col1\" >None</td>\n",
       "    </tr>\n",
       "    <tr>\n",
       "      <th id=\"T_719ac_level0_row40\" class=\"row_heading level0 row40\" >40</th>\n",
       "      <td id=\"T_719ac_row40_col0\" class=\"data row40 col0\" >Remove Multicollinearity</td>\n",
       "      <td id=\"T_719ac_row40_col1\" class=\"data row40 col1\" >False</td>\n",
       "    </tr>\n",
       "    <tr>\n",
       "      <th id=\"T_719ac_level0_row41\" class=\"row_heading level0 row41\" >41</th>\n",
       "      <td id=\"T_719ac_row41_col0\" class=\"data row41 col0\" >Multicollinearity Threshold</td>\n",
       "      <td id=\"T_719ac_row41_col1\" class=\"data row41 col1\" >None</td>\n",
       "    </tr>\n",
       "    <tr>\n",
       "      <th id=\"T_719ac_level0_row42\" class=\"row_heading level0 row42\" >42</th>\n",
       "      <td id=\"T_719ac_row42_col0\" class=\"data row42 col0\" >Remove Perfect Collinearity</td>\n",
       "      <td id=\"T_719ac_row42_col1\" class=\"data row42 col1\" >False</td>\n",
       "    </tr>\n",
       "    <tr>\n",
       "      <th id=\"T_719ac_level0_row43\" class=\"row_heading level0 row43\" >43</th>\n",
       "      <td id=\"T_719ac_row43_col0\" class=\"data row43 col0\" >Clustering</td>\n",
       "      <td id=\"T_719ac_row43_col1\" class=\"data row43 col1\" >False</td>\n",
       "    </tr>\n",
       "    <tr>\n",
       "      <th id=\"T_719ac_level0_row44\" class=\"row_heading level0 row44\" >44</th>\n",
       "      <td id=\"T_719ac_row44_col0\" class=\"data row44 col0\" >Clustering Iteration</td>\n",
       "      <td id=\"T_719ac_row44_col1\" class=\"data row44 col1\" >None</td>\n",
       "    </tr>\n",
       "    <tr>\n",
       "      <th id=\"T_719ac_level0_row45\" class=\"row_heading level0 row45\" >45</th>\n",
       "      <td id=\"T_719ac_row45_col0\" class=\"data row45 col0\" >Polynomial Features</td>\n",
       "      <td id=\"T_719ac_row45_col1\" class=\"data row45 col1\" >False</td>\n",
       "    </tr>\n",
       "    <tr>\n",
       "      <th id=\"T_719ac_level0_row46\" class=\"row_heading level0 row46\" >46</th>\n",
       "      <td id=\"T_719ac_row46_col0\" class=\"data row46 col0\" >Polynomial Degree</td>\n",
       "      <td id=\"T_719ac_row46_col1\" class=\"data row46 col1\" >None</td>\n",
       "    </tr>\n",
       "    <tr>\n",
       "      <th id=\"T_719ac_level0_row47\" class=\"row_heading level0 row47\" >47</th>\n",
       "      <td id=\"T_719ac_row47_col0\" class=\"data row47 col0\" >Trignometry Features</td>\n",
       "      <td id=\"T_719ac_row47_col1\" class=\"data row47 col1\" >False</td>\n",
       "    </tr>\n",
       "    <tr>\n",
       "      <th id=\"T_719ac_level0_row48\" class=\"row_heading level0 row48\" >48</th>\n",
       "      <td id=\"T_719ac_row48_col0\" class=\"data row48 col0\" >Polynomial Threshold</td>\n",
       "      <td id=\"T_719ac_row48_col1\" class=\"data row48 col1\" >None</td>\n",
       "    </tr>\n",
       "    <tr>\n",
       "      <th id=\"T_719ac_level0_row49\" class=\"row_heading level0 row49\" >49</th>\n",
       "      <td id=\"T_719ac_row49_col0\" class=\"data row49 col0\" >Group Features</td>\n",
       "      <td id=\"T_719ac_row49_col1\" class=\"data row49 col1\" >False</td>\n",
       "    </tr>\n",
       "    <tr>\n",
       "      <th id=\"T_719ac_level0_row50\" class=\"row_heading level0 row50\" >50</th>\n",
       "      <td id=\"T_719ac_row50_col0\" class=\"data row50 col0\" >Feature Selection</td>\n",
       "      <td id=\"T_719ac_row50_col1\" class=\"data row50 col1\" >False</td>\n",
       "    </tr>\n",
       "    <tr>\n",
       "      <th id=\"T_719ac_level0_row51\" class=\"row_heading level0 row51\" >51</th>\n",
       "      <td id=\"T_719ac_row51_col0\" class=\"data row51 col0\" >Feature Selection Method</td>\n",
       "      <td id=\"T_719ac_row51_col1\" class=\"data row51 col1\" >classic</td>\n",
       "    </tr>\n",
       "    <tr>\n",
       "      <th id=\"T_719ac_level0_row52\" class=\"row_heading level0 row52\" >52</th>\n",
       "      <td id=\"T_719ac_row52_col0\" class=\"data row52 col0\" >Features Selection Threshold</td>\n",
       "      <td id=\"T_719ac_row52_col1\" class=\"data row52 col1\" >None</td>\n",
       "    </tr>\n",
       "    <tr>\n",
       "      <th id=\"T_719ac_level0_row53\" class=\"row_heading level0 row53\" >53</th>\n",
       "      <td id=\"T_719ac_row53_col0\" class=\"data row53 col0\" >Feature Interaction</td>\n",
       "      <td id=\"T_719ac_row53_col1\" class=\"data row53 col1\" >False</td>\n",
       "    </tr>\n",
       "    <tr>\n",
       "      <th id=\"T_719ac_level0_row54\" class=\"row_heading level0 row54\" >54</th>\n",
       "      <td id=\"T_719ac_row54_col0\" class=\"data row54 col0\" >Feature Ratio</td>\n",
       "      <td id=\"T_719ac_row54_col1\" class=\"data row54 col1\" >False</td>\n",
       "    </tr>\n",
       "    <tr>\n",
       "      <th id=\"T_719ac_level0_row55\" class=\"row_heading level0 row55\" >55</th>\n",
       "      <td id=\"T_719ac_row55_col0\" class=\"data row55 col0\" >Interaction Threshold</td>\n",
       "      <td id=\"T_719ac_row55_col1\" class=\"data row55 col1\" >None</td>\n",
       "    </tr>\n",
       "    <tr>\n",
       "      <th id=\"T_719ac_level0_row56\" class=\"row_heading level0 row56\" >56</th>\n",
       "      <td id=\"T_719ac_row56_col0\" class=\"data row56 col0\" >Transform Target</td>\n",
       "      <td id=\"T_719ac_row56_col1\" class=\"data row56 col1\" >False</td>\n",
       "    </tr>\n",
       "    <tr>\n",
       "      <th id=\"T_719ac_level0_row57\" class=\"row_heading level0 row57\" >57</th>\n",
       "      <td id=\"T_719ac_row57_col0\" class=\"data row57 col0\" >Transform Target Method</td>\n",
       "      <td id=\"T_719ac_row57_col1\" class=\"data row57 col1\" >box-cox</td>\n",
       "    </tr>\n",
       "  </tbody>\n",
       "</table>\n"
      ],
      "text/plain": [
       "<pandas.io.formats.style.Styler at 0x22fd9f76250>"
      ]
     },
     "metadata": {},
     "output_type": "display_data"
    }
   ],
   "source": [
    "data = setup(\n",
    "   data=train,\n",
    "   target='log_target',\n",
    "   train_size= 0.85,\n",
    "   normalize=True,\n",
    "   normalize_method ='minmax',\n",
    "   remove_perfect_collinearity=False,\n",
    "   fold=10,\n",
    ")"
   ]
  },
  {
   "cell_type": "code",
   "execution_count": 190,
   "id": "b18ad5a0",
   "metadata": {
    "ExecuteTime": {
     "end_time": "2022-06-09T04:48:58.875756Z",
     "start_time": "2022-06-09T04:48:58.857805Z"
    }
   },
   "outputs": [
    {
     "data": {
      "text/plain": [
       "Name                                                       NMAE\n",
       "Display Name                                               NMAE\n",
       "Score Function            <function nmae at 0x0000022FE497B820>\n",
       "Scorer               make_scorer(nmae, greater_is_better=False)\n",
       "Target                                                     pred\n",
       "Args                                                         {}\n",
       "Greater is Better                                         False\n",
       "Custom                                                     True\n",
       "Name: nmae, dtype: object"
      ]
     },
     "execution_count": 190,
     "metadata": {},
     "output_type": "execute_result"
    }
   ],
   "source": [
    "add_metric(\"nmae\",\"NMAE\",nmae, False)"
   ]
  },
  {
   "cell_type": "code",
   "execution_count": 191,
   "id": "dcb9763a",
   "metadata": {
    "ExecuteTime": {
     "end_time": "2022-06-09T04:50:12.737039Z",
     "start_time": "2022-06-09T04:48:59.771042Z"
    },
    "scrolled": true
   },
   "outputs": [
    {
     "data": {
      "text/html": [
       "<style type=\"text/css\">\n",
       "#T_2d5e8 th {\n",
       "  text-align: left;\n",
       "}\n",
       "#T_2d5e8_row0_col0, #T_2d5e8_row0_col1, #T_2d5e8_row0_col6, #T_2d5e8_row1_col0, #T_2d5e8_row1_col2, #T_2d5e8_row1_col3, #T_2d5e8_row1_col4, #T_2d5e8_row1_col5, #T_2d5e8_row2_col0, #T_2d5e8_row2_col1, #T_2d5e8_row2_col2, #T_2d5e8_row2_col3, #T_2d5e8_row2_col4, #T_2d5e8_row2_col5, #T_2d5e8_row2_col6, #T_2d5e8_row2_col7, #T_2d5e8_row3_col0, #T_2d5e8_row3_col1, #T_2d5e8_row3_col2, #T_2d5e8_row3_col3, #T_2d5e8_row3_col4, #T_2d5e8_row3_col5, #T_2d5e8_row3_col6, #T_2d5e8_row3_col7, #T_2d5e8_row4_col0, #T_2d5e8_row4_col1, #T_2d5e8_row4_col2, #T_2d5e8_row4_col3, #T_2d5e8_row4_col4, #T_2d5e8_row4_col5, #T_2d5e8_row4_col6, #T_2d5e8_row4_col7, #T_2d5e8_row5_col0, #T_2d5e8_row5_col1, #T_2d5e8_row5_col2, #T_2d5e8_row5_col3, #T_2d5e8_row5_col4, #T_2d5e8_row5_col5, #T_2d5e8_row5_col6, #T_2d5e8_row5_col7, #T_2d5e8_row6_col0, #T_2d5e8_row6_col1, #T_2d5e8_row6_col2, #T_2d5e8_row6_col3, #T_2d5e8_row6_col4, #T_2d5e8_row6_col5, #T_2d5e8_row6_col6, #T_2d5e8_row6_col7, #T_2d5e8_row7_col0, #T_2d5e8_row7_col1, #T_2d5e8_row7_col2, #T_2d5e8_row7_col3, #T_2d5e8_row7_col4, #T_2d5e8_row7_col5, #T_2d5e8_row7_col6, #T_2d5e8_row7_col7, #T_2d5e8_row8_col0, #T_2d5e8_row8_col1, #T_2d5e8_row8_col2, #T_2d5e8_row8_col3, #T_2d5e8_row8_col4, #T_2d5e8_row8_col5, #T_2d5e8_row8_col6, #T_2d5e8_row8_col7, #T_2d5e8_row9_col0, #T_2d5e8_row9_col1, #T_2d5e8_row9_col2, #T_2d5e8_row9_col3, #T_2d5e8_row9_col4, #T_2d5e8_row9_col5, #T_2d5e8_row9_col6, #T_2d5e8_row9_col7, #T_2d5e8_row10_col0, #T_2d5e8_row10_col1, #T_2d5e8_row10_col2, #T_2d5e8_row10_col3, #T_2d5e8_row10_col4, #T_2d5e8_row10_col5, #T_2d5e8_row10_col6, #T_2d5e8_row10_col7, #T_2d5e8_row11_col0, #T_2d5e8_row11_col1, #T_2d5e8_row11_col2, #T_2d5e8_row11_col3, #T_2d5e8_row11_col4, #T_2d5e8_row11_col5, #T_2d5e8_row11_col6, #T_2d5e8_row11_col7, #T_2d5e8_row12_col0, #T_2d5e8_row12_col1, #T_2d5e8_row12_col2, #T_2d5e8_row12_col3, #T_2d5e8_row12_col4, #T_2d5e8_row12_col5, #T_2d5e8_row12_col6, #T_2d5e8_row12_col7, #T_2d5e8_row13_col0, #T_2d5e8_row13_col1, #T_2d5e8_row13_col2, #T_2d5e8_row13_col3, #T_2d5e8_row13_col4, #T_2d5e8_row13_col5, #T_2d5e8_row13_col6, #T_2d5e8_row13_col7, #T_2d5e8_row14_col0, #T_2d5e8_row14_col1, #T_2d5e8_row14_col2, #T_2d5e8_row14_col3, #T_2d5e8_row14_col4, #T_2d5e8_row14_col5, #T_2d5e8_row14_col6, #T_2d5e8_row14_col7, #T_2d5e8_row15_col0, #T_2d5e8_row15_col1, #T_2d5e8_row15_col2, #T_2d5e8_row15_col3, #T_2d5e8_row15_col4, #T_2d5e8_row15_col5, #T_2d5e8_row15_col6, #T_2d5e8_row15_col7, #T_2d5e8_row16_col0, #T_2d5e8_row16_col1, #T_2d5e8_row16_col2, #T_2d5e8_row16_col3, #T_2d5e8_row16_col4, #T_2d5e8_row16_col5, #T_2d5e8_row16_col6, #T_2d5e8_row16_col7, #T_2d5e8_row17_col0, #T_2d5e8_row17_col1, #T_2d5e8_row17_col2, #T_2d5e8_row17_col3, #T_2d5e8_row17_col4, #T_2d5e8_row17_col5, #T_2d5e8_row17_col6, #T_2d5e8_row17_col7, #T_2d5e8_row18_col0, #T_2d5e8_row18_col1, #T_2d5e8_row18_col2, #T_2d5e8_row18_col3, #T_2d5e8_row18_col4, #T_2d5e8_row18_col5, #T_2d5e8_row18_col6, #T_2d5e8_row18_col7 {\n",
       "  text-align: left;\n",
       "}\n",
       "#T_2d5e8_row0_col2, #T_2d5e8_row0_col3, #T_2d5e8_row0_col4, #T_2d5e8_row0_col5, #T_2d5e8_row0_col7, #T_2d5e8_row1_col1, #T_2d5e8_row1_col6, #T_2d5e8_row1_col7 {\n",
       "  text-align: left;\n",
       "  background-color: yellow;\n",
       "}\n",
       "#T_2d5e8_row0_col8, #T_2d5e8_row1_col8, #T_2d5e8_row2_col8, #T_2d5e8_row3_col8, #T_2d5e8_row4_col8, #T_2d5e8_row5_col8, #T_2d5e8_row6_col8, #T_2d5e8_row7_col8, #T_2d5e8_row8_col8, #T_2d5e8_row9_col8, #T_2d5e8_row10_col8, #T_2d5e8_row11_col8, #T_2d5e8_row12_col8, #T_2d5e8_row13_col8, #T_2d5e8_row15_col8, #T_2d5e8_row16_col8, #T_2d5e8_row17_col8, #T_2d5e8_row18_col8 {\n",
       "  text-align: left;\n",
       "  background-color: lightgrey;\n",
       "}\n",
       "#T_2d5e8_row14_col8 {\n",
       "  text-align: left;\n",
       "  background-color: yellow;\n",
       "  background-color: lightgrey;\n",
       "}\n",
       "</style>\n",
       "<table id=\"T_2d5e8\">\n",
       "  <thead>\n",
       "    <tr>\n",
       "      <th class=\"blank level0\" >&nbsp;</th>\n",
       "      <th id=\"T_2d5e8_level0_col0\" class=\"col_heading level0 col0\" >Model</th>\n",
       "      <th id=\"T_2d5e8_level0_col1\" class=\"col_heading level0 col1\" >MAE</th>\n",
       "      <th id=\"T_2d5e8_level0_col2\" class=\"col_heading level0 col2\" >MSE</th>\n",
       "      <th id=\"T_2d5e8_level0_col3\" class=\"col_heading level0 col3\" >RMSE</th>\n",
       "      <th id=\"T_2d5e8_level0_col4\" class=\"col_heading level0 col4\" >R2</th>\n",
       "      <th id=\"T_2d5e8_level0_col5\" class=\"col_heading level0 col5\" >RMSLE</th>\n",
       "      <th id=\"T_2d5e8_level0_col6\" class=\"col_heading level0 col6\" >MAPE</th>\n",
       "      <th id=\"T_2d5e8_level0_col7\" class=\"col_heading level0 col7\" >NMAE</th>\n",
       "      <th id=\"T_2d5e8_level0_col8\" class=\"col_heading level0 col8\" >TT (Sec)</th>\n",
       "    </tr>\n",
       "  </thead>\n",
       "  <tbody>\n",
       "    <tr>\n",
       "      <th id=\"T_2d5e8_level0_row0\" class=\"row_heading level0 row0\" >xgboost</th>\n",
       "      <td id=\"T_2d5e8_row0_col0\" class=\"data row0 col0\" >Extreme Gradient Boosting</td>\n",
       "      <td id=\"T_2d5e8_row0_col1\" class=\"data row0 col1\" >0.2296</td>\n",
       "      <td id=\"T_2d5e8_row0_col2\" class=\"data row0 col2\" >0.1195</td>\n",
       "      <td id=\"T_2d5e8_row0_col3\" class=\"data row0 col3\" >0.3376</td>\n",
       "      <td id=\"T_2d5e8_row0_col4\" class=\"data row0 col4\" >0.8713</td>\n",
       "      <td id=\"T_2d5e8_row0_col5\" class=\"data row0 col5\" >0.0204</td>\n",
       "      <td id=\"T_2d5e8_row0_col6\" class=\"data row0 col6\" >0.0149</td>\n",
       "      <td id=\"T_2d5e8_row0_col7\" class=\"data row0 col7\" >0.0149</td>\n",
       "      <td id=\"T_2d5e8_row0_col8\" class=\"data row0 col8\" >0.4410</td>\n",
       "    </tr>\n",
       "    <tr>\n",
       "      <th id=\"T_2d5e8_level0_row1\" class=\"row_heading level0 row1\" >catboost</th>\n",
       "      <td id=\"T_2d5e8_row1_col0\" class=\"data row1 col0\" >CatBoost Regressor</td>\n",
       "      <td id=\"T_2d5e8_row1_col1\" class=\"data row1 col1\" >0.2290</td>\n",
       "      <td id=\"T_2d5e8_row1_col2\" class=\"data row1 col2\" >0.1246</td>\n",
       "      <td id=\"T_2d5e8_row1_col3\" class=\"data row1 col3\" >0.3436</td>\n",
       "      <td id=\"T_2d5e8_row1_col4\" class=\"data row1 col4\" >0.8665</td>\n",
       "      <td id=\"T_2d5e8_row1_col5\" class=\"data row1 col5\" >0.0207</td>\n",
       "      <td id=\"T_2d5e8_row1_col6\" class=\"data row1 col6\" >0.0148</td>\n",
       "      <td id=\"T_2d5e8_row1_col7\" class=\"data row1 col7\" >0.0149</td>\n",
       "      <td id=\"T_2d5e8_row1_col8\" class=\"data row1 col8\" >1.4020</td>\n",
       "    </tr>\n",
       "    <tr>\n",
       "      <th id=\"T_2d5e8_level0_row2\" class=\"row_heading level0 row2\" >et</th>\n",
       "      <td id=\"T_2d5e8_row2_col0\" class=\"data row2 col0\" >Extra Trees Regressor</td>\n",
       "      <td id=\"T_2d5e8_row2_col1\" class=\"data row2 col1\" >0.2425</td>\n",
       "      <td id=\"T_2d5e8_row2_col2\" class=\"data row2 col2\" >0.1517</td>\n",
       "      <td id=\"T_2d5e8_row2_col3\" class=\"data row2 col3\" >0.3804</td>\n",
       "      <td id=\"T_2d5e8_row2_col4\" class=\"data row2 col4\" >0.8374</td>\n",
       "      <td id=\"T_2d5e8_row2_col5\" class=\"data row2 col5\" >0.0230</td>\n",
       "      <td id=\"T_2d5e8_row2_col6\" class=\"data row2 col6\" >0.0157</td>\n",
       "      <td id=\"T_2d5e8_row2_col7\" class=\"data row2 col7\" >0.0158</td>\n",
       "      <td id=\"T_2d5e8_row2_col8\" class=\"data row2 col8\" >0.3600</td>\n",
       "    </tr>\n",
       "    <tr>\n",
       "      <th id=\"T_2d5e8_level0_row3\" class=\"row_heading level0 row3\" >rf</th>\n",
       "      <td id=\"T_2d5e8_row3_col0\" class=\"data row3 col0\" >Random Forest Regressor</td>\n",
       "      <td id=\"T_2d5e8_row3_col1\" class=\"data row3 col1\" >0.2540</td>\n",
       "      <td id=\"T_2d5e8_row3_col2\" class=\"data row3 col2\" >0.1553</td>\n",
       "      <td id=\"T_2d5e8_row3_col3\" class=\"data row3 col3\" >0.3853</td>\n",
       "      <td id=\"T_2d5e8_row3_col4\" class=\"data row3 col4\" >0.8330</td>\n",
       "      <td id=\"T_2d5e8_row3_col5\" class=\"data row3 col5\" >0.0232</td>\n",
       "      <td id=\"T_2d5e8_row3_col6\" class=\"data row3 col6\" >0.0165</td>\n",
       "      <td id=\"T_2d5e8_row3_col7\" class=\"data row3 col7\" >0.0165</td>\n",
       "      <td id=\"T_2d5e8_row3_col8\" class=\"data row3 col8\" >0.2900</td>\n",
       "    </tr>\n",
       "    <tr>\n",
       "      <th id=\"T_2d5e8_level0_row4\" class=\"row_heading level0 row4\" >br</th>\n",
       "      <td id=\"T_2d5e8_row4_col0\" class=\"data row4 col0\" >Bayesian Ridge</td>\n",
       "      <td id=\"T_2d5e8_row4_col1\" class=\"data row4 col1\" >0.2567</td>\n",
       "      <td id=\"T_2d5e8_row4_col2\" class=\"data row4 col2\" >0.1584</td>\n",
       "      <td id=\"T_2d5e8_row4_col3\" class=\"data row4 col3\" >0.3919</td>\n",
       "      <td id=\"T_2d5e8_row4_col4\" class=\"data row4 col4\" >0.8259</td>\n",
       "      <td id=\"T_2d5e8_row4_col5\" class=\"data row4 col5\" >0.0237</td>\n",
       "      <td id=\"T_2d5e8_row4_col6\" class=\"data row4 col6\" >0.0166</td>\n",
       "      <td id=\"T_2d5e8_row4_col7\" class=\"data row4 col7\" >0.0167</td>\n",
       "      <td id=\"T_2d5e8_row4_col8\" class=\"data row4 col8\" >0.0300</td>\n",
       "    </tr>\n",
       "    <tr>\n",
       "      <th id=\"T_2d5e8_level0_row5\" class=\"row_heading level0 row5\" >gbr</th>\n",
       "      <td id=\"T_2d5e8_row5_col0\" class=\"data row5 col0\" >Gradient Boosting Regressor</td>\n",
       "      <td id=\"T_2d5e8_row5_col1\" class=\"data row5 col1\" >0.2567</td>\n",
       "      <td id=\"T_2d5e8_row5_col2\" class=\"data row5 col2\" >0.1452</td>\n",
       "      <td id=\"T_2d5e8_row5_col3\" class=\"data row5 col3\" >0.3724</td>\n",
       "      <td id=\"T_2d5e8_row5_col4\" class=\"data row5 col4\" >0.8438</td>\n",
       "      <td id=\"T_2d5e8_row5_col5\" class=\"data row5 col5\" >0.0224</td>\n",
       "      <td id=\"T_2d5e8_row5_col6\" class=\"data row5 col6\" >0.0166</td>\n",
       "      <td id=\"T_2d5e8_row5_col7\" class=\"data row5 col7\" >0.0167</td>\n",
       "      <td id=\"T_2d5e8_row5_col8\" class=\"data row5 col8\" >0.1500</td>\n",
       "    </tr>\n",
       "    <tr>\n",
       "      <th id=\"T_2d5e8_level0_row6\" class=\"row_heading level0 row6\" >huber</th>\n",
       "      <td id=\"T_2d5e8_row6_col0\" class=\"data row6 col0\" >Huber Regressor</td>\n",
       "      <td id=\"T_2d5e8_row6_col1\" class=\"data row6 col1\" >0.2633</td>\n",
       "      <td id=\"T_2d5e8_row6_col2\" class=\"data row6 col2\" >0.1792</td>\n",
       "      <td id=\"T_2d5e8_row6_col3\" class=\"data row6 col3\" >0.4132</td>\n",
       "      <td id=\"T_2d5e8_row6_col4\" class=\"data row6 col4\" >0.8051</td>\n",
       "      <td id=\"T_2d5e8_row6_col5\" class=\"data row6 col5\" >0.0251</td>\n",
       "      <td id=\"T_2d5e8_row6_col6\" class=\"data row6 col6\" >0.0170</td>\n",
       "      <td id=\"T_2d5e8_row6_col7\" class=\"data row6 col7\" >0.0171</td>\n",
       "      <td id=\"T_2d5e8_row6_col8\" class=\"data row6 col8\" >0.1530</td>\n",
       "    </tr>\n",
       "    <tr>\n",
       "      <th id=\"T_2d5e8_level0_row7\" class=\"row_heading level0 row7\" >ridge</th>\n",
       "      <td id=\"T_2d5e8_row7_col0\" class=\"data row7 col0\" >Ridge Regression</td>\n",
       "      <td id=\"T_2d5e8_row7_col1\" class=\"data row7 col1\" >0.2655</td>\n",
       "      <td id=\"T_2d5e8_row7_col2\" class=\"data row7 col2\" >0.1603</td>\n",
       "      <td id=\"T_2d5e8_row7_col3\" class=\"data row7 col3\" >0.3953</td>\n",
       "      <td id=\"T_2d5e8_row7_col4\" class=\"data row7 col4\" >0.8250</td>\n",
       "      <td id=\"T_2d5e8_row7_col5\" class=\"data row7 col5\" >0.0239</td>\n",
       "      <td id=\"T_2d5e8_row7_col6\" class=\"data row7 col6\" >0.0172</td>\n",
       "      <td id=\"T_2d5e8_row7_col7\" class=\"data row7 col7\" >0.0173</td>\n",
       "      <td id=\"T_2d5e8_row7_col8\" class=\"data row7 col8\" >0.0100</td>\n",
       "    </tr>\n",
       "    <tr>\n",
       "      <th id=\"T_2d5e8_level0_row8\" class=\"row_heading level0 row8\" >lightgbm</th>\n",
       "      <td id=\"T_2d5e8_row8_col0\" class=\"data row8 col0\" >Light Gradient Boosting Machine</td>\n",
       "      <td id=\"T_2d5e8_row8_col1\" class=\"data row8 col1\" >0.2794</td>\n",
       "      <td id=\"T_2d5e8_row8_col2\" class=\"data row8 col2\" >0.1671</td>\n",
       "      <td id=\"T_2d5e8_row8_col3\" class=\"data row8 col3\" >0.4018</td>\n",
       "      <td id=\"T_2d5e8_row8_col4\" class=\"data row8 col4\" >0.8193</td>\n",
       "      <td id=\"T_2d5e8_row8_col5\" class=\"data row8 col5\" >0.0243</td>\n",
       "      <td id=\"T_2d5e8_row8_col6\" class=\"data row8 col6\" >0.0181</td>\n",
       "      <td id=\"T_2d5e8_row8_col7\" class=\"data row8 col7\" >0.0182</td>\n",
       "      <td id=\"T_2d5e8_row8_col8\" class=\"data row8 col8\" >0.0580</td>\n",
       "    </tr>\n",
       "    <tr>\n",
       "      <th id=\"T_2d5e8_level0_row9\" class=\"row_heading level0 row9\" >omp</th>\n",
       "      <td id=\"T_2d5e8_row9_col0\" class=\"data row9 col0\" >Orthogonal Matching Pursuit</td>\n",
       "      <td id=\"T_2d5e8_row9_col1\" class=\"data row9 col1\" >0.3128</td>\n",
       "      <td id=\"T_2d5e8_row9_col2\" class=\"data row9 col2\" >0.2354</td>\n",
       "      <td id=\"T_2d5e8_row9_col3\" class=\"data row9 col3\" >0.4761</td>\n",
       "      <td id=\"T_2d5e8_row9_col4\" class=\"data row9 col4\" >0.7408</td>\n",
       "      <td id=\"T_2d5e8_row9_col5\" class=\"data row9 col5\" >0.0292</td>\n",
       "      <td id=\"T_2d5e8_row9_col6\" class=\"data row9 col6\" >0.0203</td>\n",
       "      <td id=\"T_2d5e8_row9_col7\" class=\"data row9 col7\" >0.0204</td>\n",
       "      <td id=\"T_2d5e8_row9_col8\" class=\"data row9 col8\" >0.0120</td>\n",
       "    </tr>\n",
       "    <tr>\n",
       "      <th id=\"T_2d5e8_level0_row10\" class=\"row_heading level0 row10\" >dt</th>\n",
       "      <td id=\"T_2d5e8_row10_col0\" class=\"data row10 col0\" >Decision Tree Regressor</td>\n",
       "      <td id=\"T_2d5e8_row10_col1\" class=\"data row10 col1\" >0.3129</td>\n",
       "      <td id=\"T_2d5e8_row10_col2\" class=\"data row10 col2\" >0.2350</td>\n",
       "      <td id=\"T_2d5e8_row10_col3\" class=\"data row10 col3\" >0.4788</td>\n",
       "      <td id=\"T_2d5e8_row10_col4\" class=\"data row10 col4\" >0.7497</td>\n",
       "      <td id=\"T_2d5e8_row10_col5\" class=\"data row10 col5\" >0.0290</td>\n",
       "      <td id=\"T_2d5e8_row10_col6\" class=\"data row10 col6\" >0.0203</td>\n",
       "      <td id=\"T_2d5e8_row10_col7\" class=\"data row10 col7\" >0.0204</td>\n",
       "      <td id=\"T_2d5e8_row10_col8\" class=\"data row10 col8\" >0.0270</td>\n",
       "    </tr>\n",
       "    <tr>\n",
       "      <th id=\"T_2d5e8_level0_row11\" class=\"row_heading level0 row11\" >par</th>\n",
       "      <td id=\"T_2d5e8_row11_col0\" class=\"data row11 col0\" >Passive Aggressive Regressor</td>\n",
       "      <td id=\"T_2d5e8_row11_col1\" class=\"data row11 col1\" >0.3384</td>\n",
       "      <td id=\"T_2d5e8_row11_col2\" class=\"data row11 col2\" >0.2253</td>\n",
       "      <td id=\"T_2d5e8_row11_col3\" class=\"data row11 col3\" >0.4648</td>\n",
       "      <td id=\"T_2d5e8_row11_col4\" class=\"data row11 col4\" >0.7525</td>\n",
       "      <td id=\"T_2d5e8_row11_col5\" class=\"data row11 col5\" >0.0282</td>\n",
       "      <td id=\"T_2d5e8_row11_col6\" class=\"data row11 col6\" >0.0219</td>\n",
       "      <td id=\"T_2d5e8_row11_col7\" class=\"data row11 col7\" >0.0220</td>\n",
       "      <td id=\"T_2d5e8_row11_col8\" class=\"data row11 col8\" >0.0170</td>\n",
       "    </tr>\n",
       "    <tr>\n",
       "      <th id=\"T_2d5e8_level0_row12\" class=\"row_heading level0 row12\" >ada</th>\n",
       "      <td id=\"T_2d5e8_row12_col0\" class=\"data row12 col0\" >AdaBoost Regressor</td>\n",
       "      <td id=\"T_2d5e8_row12_col1\" class=\"data row12 col1\" >0.3721</td>\n",
       "      <td id=\"T_2d5e8_row12_col2\" class=\"data row12 col2\" >0.2495</td>\n",
       "      <td id=\"T_2d5e8_row12_col3\" class=\"data row12 col3\" >0.4964</td>\n",
       "      <td id=\"T_2d5e8_row12_col4\" class=\"data row12 col4\" >0.7282</td>\n",
       "      <td id=\"T_2d5e8_row12_col5\" class=\"data row12 col5\" >0.0300</td>\n",
       "      <td id=\"T_2d5e8_row12_col6\" class=\"data row12 col6\" >0.0242</td>\n",
       "      <td id=\"T_2d5e8_row12_col7\" class=\"data row12 col7\" >0.0242</td>\n",
       "      <td id=\"T_2d5e8_row12_col8\" class=\"data row12 col8\" >0.1410</td>\n",
       "    </tr>\n",
       "    <tr>\n",
       "      <th id=\"T_2d5e8_level0_row13\" class=\"row_heading level0 row13\" >knn</th>\n",
       "      <td id=\"T_2d5e8_row13_col0\" class=\"data row13 col0\" >K Neighbors Regressor</td>\n",
       "      <td id=\"T_2d5e8_row13_col1\" class=\"data row13 col1\" >0.4094</td>\n",
       "      <td id=\"T_2d5e8_row13_col2\" class=\"data row13 col2\" >0.3238</td>\n",
       "      <td id=\"T_2d5e8_row13_col3\" class=\"data row13 col3\" >0.5629</td>\n",
       "      <td id=\"T_2d5e8_row13_col4\" class=\"data row13 col4\" >0.6563</td>\n",
       "      <td id=\"T_2d5e8_row13_col5\" class=\"data row13 col5\" >0.0340</td>\n",
       "      <td id=\"T_2d5e8_row13_col6\" class=\"data row13 col6\" >0.0265</td>\n",
       "      <td id=\"T_2d5e8_row13_col7\" class=\"data row13 col7\" >0.0266</td>\n",
       "      <td id=\"T_2d5e8_row13_col8\" class=\"data row13 col8\" >0.0230</td>\n",
       "    </tr>\n",
       "    <tr>\n",
       "      <th id=\"T_2d5e8_level0_row14\" class=\"row_heading level0 row14\" >lasso</th>\n",
       "      <td id=\"T_2d5e8_row14_col0\" class=\"data row14 col0\" >Lasso Regression</td>\n",
       "      <td id=\"T_2d5e8_row14_col1\" class=\"data row14 col1\" >0.7577</td>\n",
       "      <td id=\"T_2d5e8_row14_col2\" class=\"data row14 col2\" >0.9404</td>\n",
       "      <td id=\"T_2d5e8_row14_col3\" class=\"data row14 col3\" >0.9674</td>\n",
       "      <td id=\"T_2d5e8_row14_col4\" class=\"data row14 col4\" >-0.0095</td>\n",
       "      <td id=\"T_2d5e8_row14_col5\" class=\"data row14 col5\" >0.0587</td>\n",
       "      <td id=\"T_2d5e8_row14_col6\" class=\"data row14 col6\" >0.0492</td>\n",
       "      <td id=\"T_2d5e8_row14_col7\" class=\"data row14 col7\" >0.0493</td>\n",
       "      <td id=\"T_2d5e8_row14_col8\" class=\"data row14 col8\" >0.0080</td>\n",
       "    </tr>\n",
       "    <tr>\n",
       "      <th id=\"T_2d5e8_level0_row15\" class=\"row_heading level0 row15\" >en</th>\n",
       "      <td id=\"T_2d5e8_row15_col0\" class=\"data row15 col0\" >Elastic Net</td>\n",
       "      <td id=\"T_2d5e8_row15_col1\" class=\"data row15 col1\" >0.7577</td>\n",
       "      <td id=\"T_2d5e8_row15_col2\" class=\"data row15 col2\" >0.9404</td>\n",
       "      <td id=\"T_2d5e8_row15_col3\" class=\"data row15 col3\" >0.9674</td>\n",
       "      <td id=\"T_2d5e8_row15_col4\" class=\"data row15 col4\" >-0.0095</td>\n",
       "      <td id=\"T_2d5e8_row15_col5\" class=\"data row15 col5\" >0.0587</td>\n",
       "      <td id=\"T_2d5e8_row15_col6\" class=\"data row15 col6\" >0.0492</td>\n",
       "      <td id=\"T_2d5e8_row15_col7\" class=\"data row15 col7\" >0.0493</td>\n",
       "      <td id=\"T_2d5e8_row15_col8\" class=\"data row15 col8\" >0.0190</td>\n",
       "    </tr>\n",
       "    <tr>\n",
       "      <th id=\"T_2d5e8_level0_row16\" class=\"row_heading level0 row16\" >llar</th>\n",
       "      <td id=\"T_2d5e8_row16_col0\" class=\"data row16 col0\" >Lasso Least Angle Regression</td>\n",
       "      <td id=\"T_2d5e8_row16_col1\" class=\"data row16 col1\" >0.7577</td>\n",
       "      <td id=\"T_2d5e8_row16_col2\" class=\"data row16 col2\" >0.9404</td>\n",
       "      <td id=\"T_2d5e8_row16_col3\" class=\"data row16 col3\" >0.9674</td>\n",
       "      <td id=\"T_2d5e8_row16_col4\" class=\"data row16 col4\" >-0.0095</td>\n",
       "      <td id=\"T_2d5e8_row16_col5\" class=\"data row16 col5\" >0.0587</td>\n",
       "      <td id=\"T_2d5e8_row16_col6\" class=\"data row16 col6\" >0.0492</td>\n",
       "      <td id=\"T_2d5e8_row16_col7\" class=\"data row16 col7\" >0.0493</td>\n",
       "      <td id=\"T_2d5e8_row16_col8\" class=\"data row16 col8\" >1.0710</td>\n",
       "    </tr>\n",
       "    <tr>\n",
       "      <th id=\"T_2d5e8_level0_row17\" class=\"row_heading level0 row17\" >dummy</th>\n",
       "      <td id=\"T_2d5e8_row17_col0\" class=\"data row17 col0\" >Dummy Regressor</td>\n",
       "      <td id=\"T_2d5e8_row17_col1\" class=\"data row17 col1\" >0.7577</td>\n",
       "      <td id=\"T_2d5e8_row17_col2\" class=\"data row17 col2\" >0.9404</td>\n",
       "      <td id=\"T_2d5e8_row17_col3\" class=\"data row17 col3\" >0.9674</td>\n",
       "      <td id=\"T_2d5e8_row17_col4\" class=\"data row17 col4\" >-0.0095</td>\n",
       "      <td id=\"T_2d5e8_row17_col5\" class=\"data row17 col5\" >0.0587</td>\n",
       "      <td id=\"T_2d5e8_row17_col6\" class=\"data row17 col6\" >0.0492</td>\n",
       "      <td id=\"T_2d5e8_row17_col7\" class=\"data row17 col7\" >0.0493</td>\n",
       "      <td id=\"T_2d5e8_row17_col8\" class=\"data row17 col8\" >0.0140</td>\n",
       "    </tr>\n",
       "    <tr>\n",
       "      <th id=\"T_2d5e8_level0_row18\" class=\"row_heading level0 row18\" >lr</th>\n",
       "      <td id=\"T_2d5e8_row18_col0\" class=\"data row18 col0\" >Linear Regression</td>\n",
       "      <td id=\"T_2d5e8_row18_col1\" class=\"data row18 col1\" >588.3356</td>\n",
       "      <td id=\"T_2d5e8_row18_col2\" class=\"data row18 col2\" >11534411.8119</td>\n",
       "      <td id=\"T_2d5e8_row18_col3\" class=\"data row18 col3\" >1971.8384</td>\n",
       "      <td id=\"T_2d5e8_row18_col4\" class=\"data row18 col4\" >-13724999.7897</td>\n",
       "      <td id=\"T_2d5e8_row18_col5\" class=\"data row18 col5\" >1.4944</td>\n",
       "      <td id=\"T_2d5e8_row18_col6\" class=\"data row18 col6\" >38.6054</td>\n",
       "      <td id=\"T_2d5e8_row18_col7\" class=\"data row18 col7\" >38.3774</td>\n",
       "      <td id=\"T_2d5e8_row18_col8\" class=\"data row18 col8\" >0.9760</td>\n",
       "    </tr>\n",
       "  </tbody>\n",
       "</table>\n"
      ],
      "text/plain": [
       "<pandas.io.formats.style.Styler at 0x22fe5a8ddf0>"
      ]
     },
     "metadata": {},
     "output_type": "display_data"
    },
    {
     "data": {
      "text/plain": [
       "XGBRegressor(base_score=0.5, booster='gbtree', callbacks=None,\n",
       "             colsample_bylevel=1, colsample_bynode=1, colsample_bytree=1,\n",
       "             early_stopping_rounds=None, enable_categorical=False,\n",
       "             eval_metric=None, gamma=0, gpu_id=-1, grow_policy='depthwise',\n",
       "             importance_type=None, interaction_constraints='',\n",
       "             learning_rate=0.300000012, max_bin=256, max_cat_to_onehot=4,\n",
       "             max_delta_step=0, max_depth=6, max_leaves=0, min_child_weight=1,\n",
       "             missing=nan, monotone_constraints='()', n_estimators=100,\n",
       "             n_jobs=-1, num_parallel_tree=1, objective='reg:squarederror',\n",
       "             predictor='auto', random_state=3753, reg_alpha=0, ...)"
      ]
     },
     "execution_count": 191,
     "metadata": {},
     "output_type": "execute_result"
    }
   ],
   "source": [
    "compare_models(sort=\"NMAE\")"
   ]
  },
  {
   "cell_type": "code",
   "execution_count": 15,
   "id": "065a8e3f",
   "metadata": {
    "ExecuteTime": {
     "end_time": "2022-06-09T04:15:54.873377Z",
     "start_time": "2022-06-09T04:14:41.579374Z"
    }
   },
   "outputs": [
    {
     "data": {
      "text/html": [
       "<style type=\"text/css\">\n",
       "#T_6e677_row10_col0, #T_6e677_row10_col1, #T_6e677_row10_col2, #T_6e677_row10_col3, #T_6e677_row10_col4, #T_6e677_row10_col5, #T_6e677_row10_col6 {\n",
       "  background: yellow;\n",
       "}\n",
       "</style>\n",
       "<table id=\"T_6e677\">\n",
       "  <thead>\n",
       "    <tr>\n",
       "      <th class=\"blank level0\" >&nbsp;</th>\n",
       "      <th id=\"T_6e677_level0_col0\" class=\"col_heading level0 col0\" >MAE</th>\n",
       "      <th id=\"T_6e677_level0_col1\" class=\"col_heading level0 col1\" >MSE</th>\n",
       "      <th id=\"T_6e677_level0_col2\" class=\"col_heading level0 col2\" >RMSE</th>\n",
       "      <th id=\"T_6e677_level0_col3\" class=\"col_heading level0 col3\" >R2</th>\n",
       "      <th id=\"T_6e677_level0_col4\" class=\"col_heading level0 col4\" >RMSLE</th>\n",
       "      <th id=\"T_6e677_level0_col5\" class=\"col_heading level0 col5\" >MAPE</th>\n",
       "      <th id=\"T_6e677_level0_col6\" class=\"col_heading level0 col6\" >NMAE</th>\n",
       "    </tr>\n",
       "    <tr>\n",
       "      <th class=\"index_name level0\" >Fold</th>\n",
       "      <th class=\"blank col0\" >&nbsp;</th>\n",
       "      <th class=\"blank col1\" >&nbsp;</th>\n",
       "      <th class=\"blank col2\" >&nbsp;</th>\n",
       "      <th class=\"blank col3\" >&nbsp;</th>\n",
       "      <th class=\"blank col4\" >&nbsp;</th>\n",
       "      <th class=\"blank col5\" >&nbsp;</th>\n",
       "      <th class=\"blank col6\" >&nbsp;</th>\n",
       "    </tr>\n",
       "  </thead>\n",
       "  <tbody>\n",
       "    <tr>\n",
       "      <th id=\"T_6e677_level0_row0\" class=\"row_heading level0 row0\" >0</th>\n",
       "      <td id=\"T_6e677_row0_col0\" class=\"data row0 col0\" >0.2148</td>\n",
       "      <td id=\"T_6e677_row0_col1\" class=\"data row0 col1\" >0.0873</td>\n",
       "      <td id=\"T_6e677_row0_col2\" class=\"data row0 col2\" >0.2954</td>\n",
       "      <td id=\"T_6e677_row0_col3\" class=\"data row0 col3\" >0.9026</td>\n",
       "      <td id=\"T_6e677_row0_col4\" class=\"data row0 col4\" >0.0181</td>\n",
       "      <td id=\"T_6e677_row0_col5\" class=\"data row0 col5\" >0.0141</td>\n",
       "      <td id=\"T_6e677_row0_col6\" class=\"data row0 col6\" >0.0141</td>\n",
       "    </tr>\n",
       "    <tr>\n",
       "      <th id=\"T_6e677_level0_row1\" class=\"row_heading level0 row1\" >1</th>\n",
       "      <td id=\"T_6e677_row1_col0\" class=\"data row1 col0\" >0.2676</td>\n",
       "      <td id=\"T_6e677_row1_col1\" class=\"data row1 col1\" >0.1920</td>\n",
       "      <td id=\"T_6e677_row1_col2\" class=\"data row1 col2\" >0.4382</td>\n",
       "      <td id=\"T_6e677_row1_col3\" class=\"data row1 col3\" >0.7910</td>\n",
       "      <td id=\"T_6e677_row1_col4\" class=\"data row1 col4\" >0.0259</td>\n",
       "      <td id=\"T_6e677_row1_col5\" class=\"data row1 col5\" >0.0170</td>\n",
       "      <td id=\"T_6e677_row1_col6\" class=\"data row1 col6\" >0.0175</td>\n",
       "    </tr>\n",
       "    <tr>\n",
       "      <th id=\"T_6e677_level0_row2\" class=\"row_heading level0 row2\" >2</th>\n",
       "      <td id=\"T_6e677_row2_col0\" class=\"data row2 col0\" >0.2658</td>\n",
       "      <td id=\"T_6e677_row2_col1\" class=\"data row2 col1\" >0.1301</td>\n",
       "      <td id=\"T_6e677_row2_col2\" class=\"data row2 col2\" >0.3607</td>\n",
       "      <td id=\"T_6e677_row2_col3\" class=\"data row2 col3\" >0.8901</td>\n",
       "      <td id=\"T_6e677_row2_col4\" class=\"data row2 col4\" >0.0224</td>\n",
       "      <td id=\"T_6e677_row2_col5\" class=\"data row2 col5\" >0.0176</td>\n",
       "      <td id=\"T_6e677_row2_col6\" class=\"data row2 col6\" >0.0175</td>\n",
       "    </tr>\n",
       "    <tr>\n",
       "      <th id=\"T_6e677_level0_row3\" class=\"row_heading level0 row3\" >3</th>\n",
       "      <td id=\"T_6e677_row3_col0\" class=\"data row3 col0\" >0.1482</td>\n",
       "      <td id=\"T_6e677_row3_col1\" class=\"data row3 col1\" >0.0409</td>\n",
       "      <td id=\"T_6e677_row3_col2\" class=\"data row3 col2\" >0.2022</td>\n",
       "      <td id=\"T_6e677_row3_col3\" class=\"data row3 col3\" >0.9362</td>\n",
       "      <td id=\"T_6e677_row3_col4\" class=\"data row3 col4\" >0.0123</td>\n",
       "      <td id=\"T_6e677_row3_col5\" class=\"data row3 col5\" >0.0097</td>\n",
       "      <td id=\"T_6e677_row3_col6\" class=\"data row3 col6\" >0.0097</td>\n",
       "    </tr>\n",
       "    <tr>\n",
       "      <th id=\"T_6e677_level0_row4\" class=\"row_heading level0 row4\" >4</th>\n",
       "      <td id=\"T_6e677_row4_col0\" class=\"data row4 col0\" >0.2108</td>\n",
       "      <td id=\"T_6e677_row4_col1\" class=\"data row4 col1\" >0.0735</td>\n",
       "      <td id=\"T_6e677_row4_col2\" class=\"data row4 col2\" >0.2711</td>\n",
       "      <td id=\"T_6e677_row4_col3\" class=\"data row4 col3\" >0.9392</td>\n",
       "      <td id=\"T_6e677_row4_col4\" class=\"data row4 col4\" >0.0167</td>\n",
       "      <td id=\"T_6e677_row4_col5\" class=\"data row4 col5\" >0.0137</td>\n",
       "      <td id=\"T_6e677_row4_col6\" class=\"data row4 col6\" >0.0137</td>\n",
       "    </tr>\n",
       "    <tr>\n",
       "      <th id=\"T_6e677_level0_row5\" class=\"row_heading level0 row5\" >5</th>\n",
       "      <td id=\"T_6e677_row5_col0\" class=\"data row5 col0\" >0.2113</td>\n",
       "      <td id=\"T_6e677_row5_col1\" class=\"data row5 col1\" >0.0814</td>\n",
       "      <td id=\"T_6e677_row5_col2\" class=\"data row5 col2\" >0.2853</td>\n",
       "      <td id=\"T_6e677_row5_col3\" class=\"data row5 col3\" >0.9080</td>\n",
       "      <td id=\"T_6e677_row5_col4\" class=\"data row5 col4\" >0.0178</td>\n",
       "      <td id=\"T_6e677_row5_col5\" class=\"data row5 col5\" >0.0139</td>\n",
       "      <td id=\"T_6e677_row5_col6\" class=\"data row5 col6\" >0.0137</td>\n",
       "    </tr>\n",
       "    <tr>\n",
       "      <th id=\"T_6e677_level0_row6\" class=\"row_heading level0 row6\" >6</th>\n",
       "      <td id=\"T_6e677_row6_col0\" class=\"data row6 col0\" >0.2109</td>\n",
       "      <td id=\"T_6e677_row6_col1\" class=\"data row6 col1\" >0.0791</td>\n",
       "      <td id=\"T_6e677_row6_col2\" class=\"data row6 col2\" >0.2813</td>\n",
       "      <td id=\"T_6e677_row6_col3\" class=\"data row6 col3\" >0.8894</td>\n",
       "      <td id=\"T_6e677_row6_col4\" class=\"data row6 col4\" >0.0172</td>\n",
       "      <td id=\"T_6e677_row6_col5\" class=\"data row6 col5\" >0.0137</td>\n",
       "      <td id=\"T_6e677_row6_col6\" class=\"data row6 col6\" >0.0136</td>\n",
       "    </tr>\n",
       "    <tr>\n",
       "      <th id=\"T_6e677_level0_row7\" class=\"row_heading level0 row7\" >7</th>\n",
       "      <td id=\"T_6e677_row7_col0\" class=\"data row7 col0\" >0.2325</td>\n",
       "      <td id=\"T_6e677_row7_col1\" class=\"data row7 col1\" >0.1329</td>\n",
       "      <td id=\"T_6e677_row7_col2\" class=\"data row7 col2\" >0.3646</td>\n",
       "      <td id=\"T_6e677_row7_col3\" class=\"data row7 col3\" >0.8419</td>\n",
       "      <td id=\"T_6e677_row7_col4\" class=\"data row7 col4\" >0.0216</td>\n",
       "      <td id=\"T_6e677_row7_col5\" class=\"data row7 col5\" >0.0149</td>\n",
       "      <td id=\"T_6e677_row7_col6\" class=\"data row7 col6\" >0.0151</td>\n",
       "    </tr>\n",
       "    <tr>\n",
       "      <th id=\"T_6e677_level0_row8\" class=\"row_heading level0 row8\" >8</th>\n",
       "      <td id=\"T_6e677_row8_col0\" class=\"data row8 col0\" >0.2885</td>\n",
       "      <td id=\"T_6e677_row8_col1\" class=\"data row8 col1\" >0.2942</td>\n",
       "      <td id=\"T_6e677_row8_col2\" class=\"data row8 col2\" >0.5424</td>\n",
       "      <td id=\"T_6e677_row8_col3\" class=\"data row8 col3\" >0.7013</td>\n",
       "      <td id=\"T_6e677_row8_col4\" class=\"data row8 col4\" >0.0317</td>\n",
       "      <td id=\"T_6e677_row8_col5\" class=\"data row8 col5\" >0.0186</td>\n",
       "      <td id=\"T_6e677_row8_col6\" class=\"data row8 col6\" >0.0190</td>\n",
       "    </tr>\n",
       "    <tr>\n",
       "      <th id=\"T_6e677_level0_row9\" class=\"row_heading level0 row9\" >9</th>\n",
       "      <td id=\"T_6e677_row9_col0\" class=\"data row9 col0\" >0.2019</td>\n",
       "      <td id=\"T_6e677_row9_col1\" class=\"data row9 col1\" >0.0844</td>\n",
       "      <td id=\"T_6e677_row9_col2\" class=\"data row9 col2\" >0.2905</td>\n",
       "      <td id=\"T_6e677_row9_col3\" class=\"data row9 col3\" >0.9200</td>\n",
       "      <td id=\"T_6e677_row9_col4\" class=\"data row9 col4\" >0.0180</td>\n",
       "      <td id=\"T_6e677_row9_col5\" class=\"data row9 col5\" >0.0132</td>\n",
       "      <td id=\"T_6e677_row9_col6\" class=\"data row9 col6\" >0.0130</td>\n",
       "    </tr>\n",
       "    <tr>\n",
       "      <th id=\"T_6e677_level0_row10\" class=\"row_heading level0 row10\" >Mean</th>\n",
       "      <td id=\"T_6e677_row10_col0\" class=\"data row10 col0\" >0.2252</td>\n",
       "      <td id=\"T_6e677_row10_col1\" class=\"data row10 col1\" >0.1196</td>\n",
       "      <td id=\"T_6e677_row10_col2\" class=\"data row10 col2\" >0.3332</td>\n",
       "      <td id=\"T_6e677_row10_col3\" class=\"data row10 col3\" >0.8720</td>\n",
       "      <td id=\"T_6e677_row10_col4\" class=\"data row10 col4\" >0.0202</td>\n",
       "      <td id=\"T_6e677_row10_col5\" class=\"data row10 col5\" >0.0146</td>\n",
       "      <td id=\"T_6e677_row10_col6\" class=\"data row10 col6\" >0.0147</td>\n",
       "    </tr>\n",
       "    <tr>\n",
       "      <th id=\"T_6e677_level0_row11\" class=\"row_heading level0 row11\" >Std</th>\n",
       "      <td id=\"T_6e677_row11_col0\" class=\"data row11 col0\" >0.0383</td>\n",
       "      <td id=\"T_6e677_row11_col1\" class=\"data row11 col1\" >0.0705</td>\n",
       "      <td id=\"T_6e677_row11_col2\" class=\"data row11 col2\" >0.0926</td>\n",
       "      <td id=\"T_6e677_row11_col3\" class=\"data row11 col3\" >0.0710</td>\n",
       "      <td id=\"T_6e677_row11_col4\" class=\"data row11 col4\" >0.0052</td>\n",
       "      <td id=\"T_6e677_row11_col5\" class=\"data row11 col5\" >0.0024</td>\n",
       "      <td id=\"T_6e677_row11_col6\" class=\"data row11 col6\" >0.0026</td>\n",
       "    </tr>\n",
       "  </tbody>\n",
       "</table>\n"
      ],
      "text/plain": [
       "<pandas.io.formats.style.Styler at 0x22fd960bb20>"
      ]
     },
     "metadata": {},
     "output_type": "display_data"
    }
   ],
   "source": [
    "blender = blend_models(estimator_list=compare_models(n_select=4, sort=\"NMAE\"))"
   ]
  },
  {
   "cell_type": "code",
   "execution_count": 16,
   "id": "3604d564",
   "metadata": {
    "ExecuteTime": {
     "end_time": "2022-06-09T04:16:22.711673Z",
     "start_time": "2022-06-09T04:16:02.516413Z"
    }
   },
   "outputs": [],
   "source": [
    "final = finalize_model(blender)"
   ]
  },
  {
   "cell_type": "code",
   "execution_count": 17,
   "id": "34cd751b",
   "metadata": {
    "ExecuteTime": {
     "end_time": "2022-06-09T04:19:42.200273Z",
     "start_time": "2022-06-09T04:19:41.882807Z"
    }
   },
   "outputs": [],
   "source": [
    "y_pred = predict_model(final, data=test)"
   ]
  },
  {
   "cell_type": "code",
   "execution_count": 18,
   "id": "60ae1de6",
   "metadata": {
    "ExecuteTime": {
     "end_time": "2022-06-09T04:19:50.961752Z",
     "start_time": "2022-06-09T04:19:50.957805Z"
    }
   },
   "outputs": [],
   "source": [
    "y_pred = y_pred.reset_index()"
   ]
  },
  {
   "cell_type": "code",
   "execution_count": 19,
   "id": "91f5726f",
   "metadata": {
    "ExecuteTime": {
     "end_time": "2022-06-09T04:19:52.455323Z",
     "start_time": "2022-06-09T04:19:52.442359Z"
    }
   },
   "outputs": [],
   "source": [
    "y_pred_exp = np.expm1(y_pred[\"Label\"])"
   ]
  },
  {
   "cell_type": "code",
   "execution_count": 20,
   "id": "2b9f29db",
   "metadata": {
    "ExecuteTime": {
     "end_time": "2022-06-09T04:19:53.157241Z",
     "start_time": "2022-06-09T04:19:53.145104Z"
    }
   },
   "outputs": [],
   "source": [
    "submission[\"target\"] = y_pred_exp"
   ]
  },
  {
   "cell_type": "code",
   "execution_count": 21,
   "id": "3dbb449b",
   "metadata": {
    "ExecuteTime": {
     "end_time": "2022-06-09T04:19:54.811517Z",
     "start_time": "2022-06-09T04:19:54.788577Z"
    }
   },
   "outputs": [],
   "source": [
    "submission.to_csv(\"submission_12.csv\", index=False)"
   ]
  },
  {
   "cell_type": "code",
   "execution_count": 22,
   "id": "07a3e301",
   "metadata": {
    "ExecuteTime": {
     "end_time": "2022-06-09T04:19:58.781538Z",
     "start_time": "2022-06-09T04:19:58.761631Z"
    }
   },
   "outputs": [
    {
     "data": {
      "text/html": [
       "<div>\n",
       "<style scoped>\n",
       "    .dataframe tbody tr th:only-of-type {\n",
       "        vertical-align: middle;\n",
       "    }\n",
       "\n",
       "    .dataframe tbody tr th {\n",
       "        vertical-align: top;\n",
       "    }\n",
       "\n",
       "    .dataframe thead th {\n",
       "        text-align: right;\n",
       "    }\n",
       "</style>\n",
       "<table border=\"1\" class=\"dataframe\">\n",
       "  <thead>\n",
       "    <tr style=\"text-align: right;\">\n",
       "      <th></th>\n",
       "      <th>id</th>\n",
       "      <th>target</th>\n",
       "    </tr>\n",
       "  </thead>\n",
       "  <tbody>\n",
       "    <tr>\n",
       "      <th>0</th>\n",
       "      <td>0</td>\n",
       "      <td>1.738308e+07</td>\n",
       "    </tr>\n",
       "    <tr>\n",
       "      <th>1</th>\n",
       "      <td>1</td>\n",
       "      <td>5.091205e+06</td>\n",
       "    </tr>\n",
       "    <tr>\n",
       "      <th>2</th>\n",
       "      <td>2</td>\n",
       "      <td>7.307811e+06</td>\n",
       "    </tr>\n",
       "    <tr>\n",
       "      <th>3</th>\n",
       "      <td>3</td>\n",
       "      <td>1.043541e+06</td>\n",
       "    </tr>\n",
       "    <tr>\n",
       "      <th>4</th>\n",
       "      <td>4</td>\n",
       "      <td>2.881324e+06</td>\n",
       "    </tr>\n",
       "    <tr>\n",
       "      <th>...</th>\n",
       "      <td>...</td>\n",
       "      <td>...</td>\n",
       "    </tr>\n",
       "    <tr>\n",
       "      <th>431</th>\n",
       "      <td>431</td>\n",
       "      <td>1.088552e+07</td>\n",
       "    </tr>\n",
       "    <tr>\n",
       "      <th>432</th>\n",
       "      <td>432</td>\n",
       "      <td>4.820006e+06</td>\n",
       "    </tr>\n",
       "    <tr>\n",
       "      <th>433</th>\n",
       "      <td>433</td>\n",
       "      <td>1.039576e+07</td>\n",
       "    </tr>\n",
       "    <tr>\n",
       "      <th>434</th>\n",
       "      <td>434</td>\n",
       "      <td>2.979145e+06</td>\n",
       "    </tr>\n",
       "    <tr>\n",
       "      <th>435</th>\n",
       "      <td>435</td>\n",
       "      <td>2.582721e+06</td>\n",
       "    </tr>\n",
       "  </tbody>\n",
       "</table>\n",
       "<p>436 rows × 2 columns</p>\n",
       "</div>"
      ],
      "text/plain": [
       "      id        target\n",
       "0      0  1.738308e+07\n",
       "1      1  5.091205e+06\n",
       "2      2  7.307811e+06\n",
       "3      3  1.043541e+06\n",
       "4      4  2.881324e+06\n",
       "..   ...           ...\n",
       "431  431  1.088552e+07\n",
       "432  432  4.820006e+06\n",
       "433  433  1.039576e+07\n",
       "434  434  2.979145e+06\n",
       "435  435  2.582721e+06\n",
       "\n",
       "[436 rows x 2 columns]"
      ]
     },
     "execution_count": 22,
     "metadata": {},
     "output_type": "execute_result"
    }
   ],
   "source": [
    "pd.read_csv(\"submission_12.csv\")"
   ]
  }
 ],
 "metadata": {
  "kernelspec": {
   "display_name": "Python 3 (ipykernel)",
   "language": "python",
   "name": "python3"
  },
  "language_info": {
   "codemirror_mode": {
    "name": "ipython",
    "version": 3
   },
   "file_extension": ".py",
   "mimetype": "text/x-python",
   "name": "python",
   "nbconvert_exporter": "python",
   "pygments_lexer": "ipython3",
   "version": "3.8.13"
  },
  "toc": {
   "base_numbering": 1,
   "nav_menu": {},
   "number_sections": true,
   "sideBar": true,
   "skip_h1_title": false,
   "title_cell": "Table of Contents",
   "title_sidebar": "Contents",
   "toc_cell": false,
   "toc_position": {
    "height": "calc(100% - 180px)",
    "left": "10px",
    "top": "150px",
    "width": "297.306px"
   },
   "toc_section_display": true,
   "toc_window_display": true
  },
  "varInspector": {
   "cols": {
    "lenName": 16,
    "lenType": 16,
    "lenVar": 40
   },
   "kernels_config": {
    "python": {
     "delete_cmd_postfix": "",
     "delete_cmd_prefix": "del ",
     "library": "var_list.py",
     "varRefreshCmd": "print(var_dic_list())"
    },
    "r": {
     "delete_cmd_postfix": ") ",
     "delete_cmd_prefix": "rm(",
     "library": "var_list.r",
     "varRefreshCmd": "cat(var_dic_list()) "
    }
   },
   "types_to_exclude": [
    "module",
    "function",
    "builtin_function_or_method",
    "instance",
    "_Feature"
   ],
   "window_display": false
  }
 },
 "nbformat": 4,
 "nbformat_minor": 5
}
