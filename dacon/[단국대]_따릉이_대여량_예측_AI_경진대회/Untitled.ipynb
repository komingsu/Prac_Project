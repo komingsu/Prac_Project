{
 "cells": [
  {
   "cell_type": "code",
   "execution_count": 1,
   "id": "0b51d859",
   "metadata": {
    "ExecuteTime": {
     "end_time": "2022-06-28T08:24:23.567022Z",
     "start_time": "2022-06-28T08:24:21.156939Z"
    }
   },
   "outputs": [],
   "source": [
    "import numpy as np\n",
    "import pandas as pd\n",
    "import matplotlib.pyplot as plt\n",
    "import seaborn as sns"
   ]
  },
  {
   "cell_type": "code",
   "execution_count": 111,
   "id": "6bbb0d5a",
   "metadata": {
    "ExecuteTime": {
     "end_time": "2022-06-28T08:42:52.600950Z",
     "start_time": "2022-06-28T08:42:52.579852Z"
    }
   },
   "outputs": [],
   "source": [
    "train = pd.read_csv('train.csv')\n",
    "test = pd.read_csv('test.csv')\n",
    "submission = pd.read_csv('sample_submission.csv')"
   ]
  },
  {
   "cell_type": "code",
   "execution_count": 117,
   "id": "bec276fb",
   "metadata": {
    "ExecuteTime": {
     "end_time": "2022-06-28T08:44:12.082680Z",
     "start_time": "2022-06-28T08:44:12.075667Z"
    }
   },
   "outputs": [],
   "source": [
    "all_data = pd.concat([train, test])"
   ]
  },
  {
   "cell_type": "code",
   "execution_count": 113,
   "id": "799af93f",
   "metadata": {
    "ExecuteTime": {
     "end_time": "2022-06-28T08:42:55.861692Z",
     "start_time": "2022-06-28T08:42:55.851718Z"
    }
   },
   "outputs": [],
   "source": [
    "from datetime import datetime\n",
    "import calendar"
   ]
  },
  {
   "cell_type": "code",
   "execution_count": 118,
   "id": "7a3233ee",
   "metadata": {
    "ExecuteTime": {
     "end_time": "2022-06-28T08:44:12.861429Z",
     "start_time": "2022-06-28T08:44:12.835499Z"
    }
   },
   "outputs": [
    {
     "data": {
      "text/html": [
       "<div>\n",
       "<style scoped>\n",
       "    .dataframe tbody tr th:only-of-type {\n",
       "        vertical-align: middle;\n",
       "    }\n",
       "\n",
       "    .dataframe tbody tr th {\n",
       "        vertical-align: top;\n",
       "    }\n",
       "\n",
       "    .dataframe thead th {\n",
       "        text-align: right;\n",
       "    }\n",
       "</style>\n",
       "<table border=\"1\" class=\"dataframe\">\n",
       "  <thead>\n",
       "    <tr style=\"text-align: right;\">\n",
       "      <th></th>\n",
       "      <th>date</th>\n",
       "      <th>precipitation</th>\n",
       "      <th>temp_mean</th>\n",
       "      <th>temp_highest</th>\n",
       "      <th>temp_lowest</th>\n",
       "      <th>PM10</th>\n",
       "      <th>PM2.5</th>\n",
       "      <th>humidity</th>\n",
       "      <th>sunshine_sum</th>\n",
       "      <th>sunshine_rate</th>\n",
       "      <th>wind_mean</th>\n",
       "      <th>wind_max</th>\n",
       "      <th>rental</th>\n",
       "    </tr>\n",
       "  </thead>\n",
       "  <tbody>\n",
       "    <tr>\n",
       "      <th>0</th>\n",
       "      <td>2018-01-01</td>\n",
       "      <td>NaN</td>\n",
       "      <td>-1.3</td>\n",
       "      <td>3.8</td>\n",
       "      <td>-5.1</td>\n",
       "      <td>34.0</td>\n",
       "      <td>17.0</td>\n",
       "      <td>39.1</td>\n",
       "      <td>8.3</td>\n",
       "      <td>86.5</td>\n",
       "      <td>1.4</td>\n",
       "      <td>3.8</td>\n",
       "      <td>4950.0</td>\n",
       "    </tr>\n",
       "    <tr>\n",
       "      <th>1</th>\n",
       "      <td>2018-01-02</td>\n",
       "      <td>NaN</td>\n",
       "      <td>-1.8</td>\n",
       "      <td>1.8</td>\n",
       "      <td>-4.3</td>\n",
       "      <td>36.0</td>\n",
       "      <td>22.0</td>\n",
       "      <td>42.0</td>\n",
       "      <td>7.9</td>\n",
       "      <td>82.3</td>\n",
       "      <td>1.8</td>\n",
       "      <td>4.9</td>\n",
       "      <td>7136.0</td>\n",
       "    </tr>\n",
       "    <tr>\n",
       "      <th>2</th>\n",
       "      <td>2018-01-03</td>\n",
       "      <td>NaN</td>\n",
       "      <td>-4.7</td>\n",
       "      <td>-0.4</td>\n",
       "      <td>-7.1</td>\n",
       "      <td>31.0</td>\n",
       "      <td>19.0</td>\n",
       "      <td>42.3</td>\n",
       "      <td>8.6</td>\n",
       "      <td>88.7</td>\n",
       "      <td>2.2</td>\n",
       "      <td>3.5</td>\n",
       "      <td>7156.0</td>\n",
       "    </tr>\n",
       "    <tr>\n",
       "      <th>3</th>\n",
       "      <td>2018-01-04</td>\n",
       "      <td>NaN</td>\n",
       "      <td>-4.7</td>\n",
       "      <td>-0.7</td>\n",
       "      <td>-8.7</td>\n",
       "      <td>39.0</td>\n",
       "      <td>24.0</td>\n",
       "      <td>43.0</td>\n",
       "      <td>6.2</td>\n",
       "      <td>63.9</td>\n",
       "      <td>1.4</td>\n",
       "      <td>3.5</td>\n",
       "      <td>7102.0</td>\n",
       "    </tr>\n",
       "    <tr>\n",
       "      <th>4</th>\n",
       "      <td>2018-01-05</td>\n",
       "      <td>NaN</td>\n",
       "      <td>-3.0</td>\n",
       "      <td>1.6</td>\n",
       "      <td>-5.6</td>\n",
       "      <td>51.0</td>\n",
       "      <td>35.0</td>\n",
       "      <td>48.4</td>\n",
       "      <td>8.2</td>\n",
       "      <td>84.5</td>\n",
       "      <td>1.7</td>\n",
       "      <td>3.6</td>\n",
       "      <td>7705.0</td>\n",
       "    </tr>\n",
       "    <tr>\n",
       "      <th>...</th>\n",
       "      <td>...</td>\n",
       "      <td>...</td>\n",
       "      <td>...</td>\n",
       "      <td>...</td>\n",
       "      <td>...</td>\n",
       "      <td>...</td>\n",
       "      <td>...</td>\n",
       "      <td>...</td>\n",
       "      <td>...</td>\n",
       "      <td>...</td>\n",
       "      <td>...</td>\n",
       "      <td>...</td>\n",
       "      <td>...</td>\n",
       "    </tr>\n",
       "    <tr>\n",
       "      <th>360</th>\n",
       "      <td>2021-12-27</td>\n",
       "      <td>0.0</td>\n",
       "      <td>-7.6</td>\n",
       "      <td>-3.9</td>\n",
       "      <td>-12.9</td>\n",
       "      <td>33.0</td>\n",
       "      <td>20.0</td>\n",
       "      <td>60.9</td>\n",
       "      <td>3.8</td>\n",
       "      <td>39.6</td>\n",
       "      <td>1.7</td>\n",
       "      <td>3.1</td>\n",
       "      <td>NaN</td>\n",
       "    </tr>\n",
       "    <tr>\n",
       "      <th>361</th>\n",
       "      <td>2021-12-28</td>\n",
       "      <td>NaN</td>\n",
       "      <td>-4.1</td>\n",
       "      <td>-0.9</td>\n",
       "      <td>-8.5</td>\n",
       "      <td>51.0</td>\n",
       "      <td>38.0</td>\n",
       "      <td>73.8</td>\n",
       "      <td>1.7</td>\n",
       "      <td>17.7</td>\n",
       "      <td>2.2</td>\n",
       "      <td>3.1</td>\n",
       "      <td>NaN</td>\n",
       "    </tr>\n",
       "    <tr>\n",
       "      <th>362</th>\n",
       "      <td>2021-12-29</td>\n",
       "      <td>0.2</td>\n",
       "      <td>0.4</td>\n",
       "      <td>5.9</td>\n",
       "      <td>-3.8</td>\n",
       "      <td>66.0</td>\n",
       "      <td>49.0</td>\n",
       "      <td>72.9</td>\n",
       "      <td>1.8</td>\n",
       "      <td>18.8</td>\n",
       "      <td>2.6</td>\n",
       "      <td>5.9</td>\n",
       "      <td>NaN</td>\n",
       "    </tr>\n",
       "    <tr>\n",
       "      <th>363</th>\n",
       "      <td>2021-12-30</td>\n",
       "      <td>0.0</td>\n",
       "      <td>-3.9</td>\n",
       "      <td>0.2</td>\n",
       "      <td>-6.8</td>\n",
       "      <td>30.0</td>\n",
       "      <td>17.0</td>\n",
       "      <td>48.5</td>\n",
       "      <td>7.3</td>\n",
       "      <td>76.0</td>\n",
       "      <td>3.3</td>\n",
       "      <td>6.6</td>\n",
       "      <td>NaN</td>\n",
       "    </tr>\n",
       "    <tr>\n",
       "      <th>364</th>\n",
       "      <td>2021-12-31</td>\n",
       "      <td>NaN</td>\n",
       "      <td>-6.7</td>\n",
       "      <td>-3.9</td>\n",
       "      <td>-8.8</td>\n",
       "      <td>23.0</td>\n",
       "      <td>7.0</td>\n",
       "      <td>35.9</td>\n",
       "      <td>9.0</td>\n",
       "      <td>93.8</td>\n",
       "      <td>3.5</td>\n",
       "      <td>5.4</td>\n",
       "      <td>NaN</td>\n",
       "    </tr>\n",
       "  </tbody>\n",
       "</table>\n",
       "<p>1460 rows × 13 columns</p>\n",
       "</div>"
      ],
      "text/plain": [
       "           date  precipitation  temp_mean  temp_highest  temp_lowest  PM10  \\\n",
       "0    2018-01-01            NaN       -1.3           3.8         -5.1  34.0   \n",
       "1    2018-01-02            NaN       -1.8           1.8         -4.3  36.0   \n",
       "2    2018-01-03            NaN       -4.7          -0.4         -7.1  31.0   \n",
       "3    2018-01-04            NaN       -4.7          -0.7         -8.7  39.0   \n",
       "4    2018-01-05            NaN       -3.0           1.6         -5.6  51.0   \n",
       "..          ...            ...        ...           ...          ...   ...   \n",
       "360  2021-12-27            0.0       -7.6          -3.9        -12.9  33.0   \n",
       "361  2021-12-28            NaN       -4.1          -0.9         -8.5  51.0   \n",
       "362  2021-12-29            0.2        0.4           5.9         -3.8  66.0   \n",
       "363  2021-12-30            0.0       -3.9           0.2         -6.8  30.0   \n",
       "364  2021-12-31            NaN       -6.7          -3.9         -8.8  23.0   \n",
       "\n",
       "     PM2.5  humidity  sunshine_sum  sunshine_rate  wind_mean  wind_max  rental  \n",
       "0     17.0      39.1           8.3           86.5        1.4       3.8  4950.0  \n",
       "1     22.0      42.0           7.9           82.3        1.8       4.9  7136.0  \n",
       "2     19.0      42.3           8.6           88.7        2.2       3.5  7156.0  \n",
       "3     24.0      43.0           6.2           63.9        1.4       3.5  7102.0  \n",
       "4     35.0      48.4           8.2           84.5        1.7       3.6  7705.0  \n",
       "..     ...       ...           ...            ...        ...       ...     ...  \n",
       "360   20.0      60.9           3.8           39.6        1.7       3.1     NaN  \n",
       "361   38.0      73.8           1.7           17.7        2.2       3.1     NaN  \n",
       "362   49.0      72.9           1.8           18.8        2.6       5.9     NaN  \n",
       "363   17.0      48.5           7.3           76.0        3.3       6.6     NaN  \n",
       "364    7.0      35.9           9.0           93.8        3.5       5.4     NaN  \n",
       "\n",
       "[1460 rows x 13 columns]"
      ]
     },
     "execution_count": 118,
     "metadata": {},
     "output_type": "execute_result"
    }
   ],
   "source": [
    "all_data"
   ]
  },
  {
   "cell_type": "code",
   "execution_count": 119,
   "id": "878d7849",
   "metadata": {
    "ExecuteTime": {
     "end_time": "2022-06-28T08:44:17.139881Z",
     "start_time": "2022-06-28T08:44:17.107685Z"
    }
   },
   "outputs": [
    {
     "ename": "TypeError",
     "evalue": "strptime() argument 1 must be str, not Series",
     "output_type": "error",
     "traceback": [
      "\u001b[1;31m---------------------------------------------------------------------------\u001b[0m",
      "\u001b[1;31mTypeError\u001b[0m                                 Traceback (most recent call last)",
      "Input \u001b[1;32mIn [119]\u001b[0m, in \u001b[0;36m<cell line: 1>\u001b[1;34m()\u001b[0m\n\u001b[1;32m----> 1\u001b[0m \u001b[43mdatetime\u001b[49m\u001b[38;5;241;43m.\u001b[39;49m\u001b[43mstrptime\u001b[49m\u001b[43m(\u001b[49m\u001b[43mall_data\u001b[49m\u001b[43m[\u001b[49m\u001b[38;5;124;43m\"\u001b[39;49m\u001b[38;5;124;43mdate\u001b[39;49m\u001b[38;5;124;43m\"\u001b[39;49m\u001b[43m]\u001b[49m\u001b[43m[\u001b[49m\u001b[38;5;241;43m0\u001b[39;49m\u001b[43m]\u001b[49m\u001b[43m,\u001b[49m\u001b[43m \u001b[49m\u001b[38;5;124;43m\"\u001b[39;49m\u001b[38;5;124;43m%\u001b[39;49m\u001b[38;5;124;43mY-\u001b[39;49m\u001b[38;5;124;43m%\u001b[39;49m\u001b[38;5;124;43mm-\u001b[39;49m\u001b[38;5;132;43;01m%d\u001b[39;49;00m\u001b[38;5;124;43m\"\u001b[39;49m\u001b[43m)\u001b[49m\n",
      "\u001b[1;31mTypeError\u001b[0m: strptime() argument 1 must be str, not Series"
     ]
    }
   ],
   "source": [
    "datetime.strptime(all_data[\"date\"][0], \"%Y-%m-%d\")"
   ]
  },
  {
   "cell_type": "code",
   "execution_count": null,
   "id": "41cbd9c7",
   "metadata": {},
   "outputs": [],
   "source": []
  },
  {
   "cell_type": "code",
   "execution_count": 100,
   "id": "fbf014d8",
   "metadata": {
    "ExecuteTime": {
     "end_time": "2022-06-28T08:40:07.036058Z",
     "start_time": "2022-06-28T08:40:07.019084Z"
    }
   },
   "outputs": [],
   "source": [
    "all_data[\"year\"] = all_data[\"date\"].map(lambda x: x.split(\"-\")[0])\n",
    "all_data[\"month\"] = all_data[\"date\"].map(lambda x: x.split(\"-\")[1])\n",
    "all_data[\"day\"] = all_data[\"date\"].map(lambda x: x.split(\"-\")[2])"
   ]
  },
  {
   "cell_type": "code",
   "execution_count": 101,
   "id": "587a3180",
   "metadata": {
    "ExecuteTime": {
     "end_time": "2022-06-28T08:40:07.159939Z",
     "start_time": "2022-06-28T08:40:07.154927Z"
    }
   },
   "outputs": [],
   "source": [
    "all_data = all_data.reset_index()"
   ]
  },
  {
   "cell_type": "code",
   "execution_count": 102,
   "id": "83d3cb79",
   "metadata": {
    "ExecuteTime": {
     "end_time": "2022-06-28T08:40:07.316992Z",
     "start_time": "2022-06-28T08:40:07.299002Z"
    }
   },
   "outputs": [],
   "source": [
    "all_data.drop([\"index\"], axis=1, inplace=True)"
   ]
  },
  {
   "cell_type": "code",
   "execution_count": 103,
   "id": "2421ab50",
   "metadata": {
    "ExecuteTime": {
     "end_time": "2022-06-28T08:40:07.441880Z",
     "start_time": "2022-06-28T08:40:07.434899Z"
    }
   },
   "outputs": [],
   "source": [
    "all_data.loc[all_data[all_data[\"precipitation\"].isnull()].index, \"precipitation\"] = 0"
   ]
  },
  {
   "cell_type": "code",
   "execution_count": 104,
   "id": "14c60f65",
   "metadata": {
    "ExecuteTime": {
     "end_time": "2022-06-28T08:40:07.567888Z",
     "start_time": "2022-06-28T08:40:07.562901Z"
    }
   },
   "outputs": [],
   "source": [
    "all_data[\"PM10\"] = all_data[\"PM10\"].fillna(all_data[\"PM10\"].median())"
   ]
  },
  {
   "cell_type": "code",
   "execution_count": 105,
   "id": "5f55bed3",
   "metadata": {
    "ExecuteTime": {
     "end_time": "2022-06-28T08:40:08.461092Z",
     "start_time": "2022-06-28T08:40:08.452118Z"
    }
   },
   "outputs": [],
   "source": [
    "all_data[\"PM2.5\"] = all_data[\"PM2.5\"].fillna(all_data[\"PM2.5\"].median())"
   ]
  },
  {
   "cell_type": "code",
   "execution_count": 106,
   "id": "d491b681",
   "metadata": {
    "ExecuteTime": {
     "end_time": "2022-06-28T08:40:08.600913Z",
     "start_time": "2022-06-28T08:40:08.594930Z"
    }
   },
   "outputs": [],
   "source": [
    "all_data[\"sunshine_sum\"] = all_data[\"sunshine_sum\"].fillna(all_data[\"sunshine_sum\"].median())"
   ]
  },
  {
   "cell_type": "code",
   "execution_count": 107,
   "id": "60e7df77",
   "metadata": {
    "ExecuteTime": {
     "end_time": "2022-06-28T08:40:08.928135Z",
     "start_time": "2022-06-28T08:40:08.908434Z"
    }
   },
   "outputs": [],
   "source": [
    "all_data[\"THI\"] = 9/5*all_data['temp_mean'] - 0.55*(1-all_data['humidity']/100)*(9/5*all_data['humidity']-26)+32"
   ]
  },
  {
   "cell_type": "code",
   "execution_count": 108,
   "id": "f206fa75",
   "metadata": {
    "ExecuteTime": {
     "end_time": "2022-06-28T08:40:09.784936Z",
     "start_time": "2022-06-28T08:40:09.770974Z"
    }
   },
   "outputs": [],
   "source": [
    "all_data.drop([\"date\"], axis=1, inplace=True)"
   ]
  },
  {
   "cell_type": "code",
   "execution_count": 110,
   "id": "1a81b806",
   "metadata": {
    "ExecuteTime": {
     "end_time": "2022-06-28T08:40:35.313704Z",
     "start_time": "2022-06-28T08:40:35.299781Z"
    }
   },
   "outputs": [
    {
     "data": {
      "text/plain": [
       "0       0.0\n",
       "1       0.0\n",
       "2       0.0\n",
       "3       0.0\n",
       "4       0.0\n",
       "       ... \n",
       "1455    0.0\n",
       "1456    0.0\n",
       "1457    0.2\n",
       "1458    0.0\n",
       "1459    0.0\n",
       "Name: precipitation, Length: 1460, dtype: float64"
      ]
     },
     "execution_count": 110,
     "metadata": {},
     "output_type": "execute_result"
    }
   ],
   "source": [
    "all_data[\"precipitation\"].map(lambda x : xd)"
   ]
  },
  {
   "cell_type": "code",
   "execution_count": 109,
   "id": "547959ca",
   "metadata": {
    "ExecuteTime": {
     "end_time": "2022-06-28T08:40:16.298748Z",
     "start_time": "2022-06-28T08:40:16.275161Z"
    }
   },
   "outputs": [
    {
     "data": {
      "text/plain": [
       "precipitation      0\n",
       "temp_mean          0\n",
       "temp_highest       0\n",
       "temp_lowest        0\n",
       "PM10               0\n",
       "PM2.5              0\n",
       "humidity           0\n",
       "sunshine_sum       0\n",
       "sunshine_rate      0\n",
       "wind_mean          0\n",
       "wind_max           0\n",
       "rental           365\n",
       "year               0\n",
       "month              0\n",
       "day                0\n",
       "THI                0\n",
       "dtype: int64"
      ]
     },
     "execution_count": 109,
     "metadata": {},
     "output_type": "execute_result"
    }
   ],
   "source": [
    "all_data.isnull().sum()"
   ]
  },
  {
   "cell_type": "code",
   "execution_count": 90,
   "id": "d2a75e07",
   "metadata": {
    "ExecuteTime": {
     "end_time": "2022-06-28T08:37:56.186356Z",
     "start_time": "2022-06-28T08:37:53.732512Z"
    }
   },
   "outputs": [],
   "source": [
    "from pycaret.regression import *"
   ]
  },
  {
   "cell_type": "code",
   "execution_count": 97,
   "id": "108b35ce",
   "metadata": {
    "ExecuteTime": {
     "end_time": "2022-06-28T08:39:44.132147Z",
     "start_time": "2022-06-28T08:39:43.932912Z"
    }
   },
   "outputs": [
    {
     "data": {
      "text/plain": [
       "<AxesSubplot:>"
      ]
     },
     "execution_count": 97,
     "metadata": {},
     "output_type": "execute_result"
    },
    {
     "data": {
      "image/png": "[encoded data removed]",
      "text/plain": [
       "<Figure size 576x396 with 1 Axes>"
      ]
     },
     "metadata": {},
     "output_type": "display_data"
    }
   ],
   "source": [
    "all_data[\"precipitation_log\"].hist(bins=50)"
   ]
  },
  {
   "cell_type": "code",
   "execution_count": null,
   "id": "be4df4b6",
   "metadata": {},
   "outputs": [],
   "source": []
  },
  {
   "cell_type": "code",
   "execution_count": null,
   "id": "679de5b6",
   "metadata": {},
   "outputs": [],
   "source": [
    "data = setup(data=train_tmp, target='PM10',train_size=0.8)"
   ]
  }
 ],
 "metadata": {
  "kernelspec": {
   "display_name": "Python 3 (ipykernel)",
   "language": "python",
   "name": "python3"
  },
  "language_info": {
   "codemirror_mode": {
    "name": "ipython",
    "version": 3
   },
   "file_extension": ".py",
   "mimetype": "text/x-python",
   "name": "python",
   "nbconvert_exporter": "python",
   "pygments_lexer": "ipython3",
   "version": "3.8.13"
  },
  "toc": {
   "base_numbering": 1,
   "nav_menu": {},
   "number_sections": true,
   "sideBar": true,
   "skip_h1_title": false,
   "title_cell": "Table of Contents",
   "title_sidebar": "Contents",
   "toc_cell": false,
   "toc_position": {},
   "toc_section_display": true,
   "toc_window_display": false
  }
 },
 "nbformat": 4,
 "nbformat_minor": 5
}
